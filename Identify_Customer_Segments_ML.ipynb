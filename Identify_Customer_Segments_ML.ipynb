{
 "cells": [
  {
   "cell_type": "markdown",
   "metadata": {},
   "source": [
    "# <center> Identify Customer Segments- Machine Learning </center>"
   ]
  },
  {
   "cell_type": "markdown",
   "metadata": {},
   "source": [
    "## Table of Contents"
   ]
  },
  {
   "cell_type": "markdown",
   "metadata": {},
   "source": [
    "1. <a href=\"#Intro\">Introduction</a>\n",
    "2. <a href=\"#Trans\">Feature Transformation</a>\n",
    "    * <a href=\"#Scale\"> 2.1 - Apply Feature Scaling </a>\n",
    "    * <a href=\"#Dimen\"> 2.2 - Perform Dimensionality Reduction </a>\n",
    "    * <a href=\"#Inter\"> 2.3 - Interpret Principal Components </a>\n",
    "3. <a href=\"#Clust\">Clustering </a>\n",
    "    * <a href=\"#Gener\"> 3.1 - Apply Clustering to General Population </a>\n",
    "    * <a href=\"#Custo\"> 3.2 - Apply All Steps to the Customer Data </a>\n",
    "    * <a href=\"#Compa\"> 3.3 - Compare Customer Data to Demographics Data </a>"
   ]
  },
  {
   "cell_type": "markdown",
   "metadata": {},
   "source": [
    "<a id = 'Intro'></a>\n",
    "## Introduction\n",
    "\n",
    "Based on the [data cleansing](http://localhost:8888/notebooks/Identify_Customer_Segments_Exploration.ipynb)  notebook, we now have a solid understanding of the data under consideration. _In this notebook_, we load the previously cleaned data then we proceed with the <u>_feature transformation_</u> as well as the <u>_clustering parts_</u> of this project. We conclude this analysis by applying the whole pipeline for an another dataset containing the same demographic data about specific customers in a trial of analysing the common patterns associated with the general population. Hopefully, this process will lead to a better understanding of the customer behaviours in shadow of the available data about general population. "
   ]
  },
  {
   "cell_type": "code",
   "execution_count": 1,
   "metadata": {},
   "outputs": [],
   "source": [
    "import numpy as np\n",
    "import pandas as pd\n",
    "import matplotlib.pyplot as plt\n",
    "import seaborn as sns\n",
    "%matplotlib inline\n",
    "from sklearn import preprocessing\n",
    "from sklearn.preprocessing import StandardScaler\n",
    "from sklearn.decomposition import PCA\n",
    "from helpers import do_pca, scree_plot, pca_results, map_weights,fit_kmeans\n",
    "from sklearn.cluster import KMeans"
   ]
  },
  {
   "cell_type": "markdown",
   "metadata": {},
   "source": [
    "<a id = 'Clean'></a>\n",
    "### 2 -  Load cleaned dataset\n",
    "\n",
    "The complete data cleaning procedure and detailed justification for each step is given on the [Data Cleansing notebook](http://localhost:8888/notebooks/Identify_Customer_Segments_Exploration.ipynb). To simplify this notebook, we just load the resulted dataframe. "
   ]
  },
  {
   "cell_type": "code",
   "execution_count": 2,
   "metadata": {},
   "outputs": [
    {
     "data": {
      "text/html": [
       "<div>\n",
       "<style scoped>\n",
       "    .dataframe tbody tr th:only-of-type {\n",
       "        vertical-align: middle;\n",
       "    }\n",
       "\n",
       "    .dataframe tbody tr th {\n",
       "        vertical-align: top;\n",
       "    }\n",
       "\n",
       "    .dataframe thead th {\n",
       "        text-align: right;\n",
       "    }\n",
       "</style>\n",
       "<table border=\"1\" class=\"dataframe\">\n",
       "  <thead>\n",
       "    <tr style=\"text-align: right;\">\n",
       "      <th></th>\n",
       "      <th>ALTERSKATEGORIE_GROB</th>\n",
       "      <th>FINANZ_MINIMALIST</th>\n",
       "      <th>FINANZ_SPARER</th>\n",
       "      <th>FINANZ_VORSORGER</th>\n",
       "      <th>FINANZ_ANLEGER</th>\n",
       "      <th>FINANZ_UNAUFFAELLIGER</th>\n",
       "      <th>FINANZ_HAUSBAUER</th>\n",
       "      <th>HEALTH_TYP</th>\n",
       "      <th>RETOURTYP_BK_S</th>\n",
       "      <th>SEMIO_SOZ</th>\n",
       "      <th>...</th>\n",
       "      <th>x12_9A</th>\n",
       "      <th>x12_9B</th>\n",
       "      <th>x12_9C</th>\n",
       "      <th>x12_9D</th>\n",
       "      <th>x12_9E</th>\n",
       "      <th>x13_O</th>\n",
       "      <th>x13_W</th>\n",
       "      <th>movement</th>\n",
       "      <th>Waelth</th>\n",
       "      <th>LifeStage</th>\n",
       "    </tr>\n",
       "  </thead>\n",
       "  <tbody>\n",
       "    <tr>\n",
       "      <th>0</th>\n",
       "      <td>1.0</td>\n",
       "      <td>1.0</td>\n",
       "      <td>5.0</td>\n",
       "      <td>2.0</td>\n",
       "      <td>5.0</td>\n",
       "      <td>4.0</td>\n",
       "      <td>5.0</td>\n",
       "      <td>3.0</td>\n",
       "      <td>1.0</td>\n",
       "      <td>5.0</td>\n",
       "      <td>...</td>\n",
       "      <td>0.0</td>\n",
       "      <td>0.0</td>\n",
       "      <td>0.0</td>\n",
       "      <td>0.0</td>\n",
       "      <td>0.0</td>\n",
       "      <td>0.0</td>\n",
       "      <td>1.0</td>\n",
       "      <td>0.0</td>\n",
       "      <td>5</td>\n",
       "      <td>1</td>\n",
       "    </tr>\n",
       "    <tr>\n",
       "      <th>1</th>\n",
       "      <td>3.0</td>\n",
       "      <td>1.0</td>\n",
       "      <td>4.0</td>\n",
       "      <td>1.0</td>\n",
       "      <td>2.0</td>\n",
       "      <td>3.0</td>\n",
       "      <td>5.0</td>\n",
       "      <td>3.0</td>\n",
       "      <td>3.0</td>\n",
       "      <td>4.0</td>\n",
       "      <td>...</td>\n",
       "      <td>0.0</td>\n",
       "      <td>0.0</td>\n",
       "      <td>0.0</td>\n",
       "      <td>0.0</td>\n",
       "      <td>0.0</td>\n",
       "      <td>0.0</td>\n",
       "      <td>1.0</td>\n",
       "      <td>1.0</td>\n",
       "      <td>2</td>\n",
       "      <td>4</td>\n",
       "    </tr>\n",
       "    <tr>\n",
       "      <th>2</th>\n",
       "      <td>3.0</td>\n",
       "      <td>4.0</td>\n",
       "      <td>3.0</td>\n",
       "      <td>4.0</td>\n",
       "      <td>1.0</td>\n",
       "      <td>3.0</td>\n",
       "      <td>2.0</td>\n",
       "      <td>3.0</td>\n",
       "      <td>5.0</td>\n",
       "      <td>6.0</td>\n",
       "      <td>...</td>\n",
       "      <td>0.0</td>\n",
       "      <td>0.0</td>\n",
       "      <td>0.0</td>\n",
       "      <td>0.0</td>\n",
       "      <td>0.0</td>\n",
       "      <td>0.0</td>\n",
       "      <td>1.0</td>\n",
       "      <td>0.0</td>\n",
       "      <td>4</td>\n",
       "      <td>3</td>\n",
       "    </tr>\n",
       "    <tr>\n",
       "      <th>3</th>\n",
       "      <td>1.0</td>\n",
       "      <td>3.0</td>\n",
       "      <td>1.0</td>\n",
       "      <td>5.0</td>\n",
       "      <td>2.0</td>\n",
       "      <td>2.0</td>\n",
       "      <td>5.0</td>\n",
       "      <td>3.0</td>\n",
       "      <td>3.0</td>\n",
       "      <td>2.0</td>\n",
       "      <td>...</td>\n",
       "      <td>0.0</td>\n",
       "      <td>0.0</td>\n",
       "      <td>0.0</td>\n",
       "      <td>0.0</td>\n",
       "      <td>0.0</td>\n",
       "      <td>0.0</td>\n",
       "      <td>1.0</td>\n",
       "      <td>1.0</td>\n",
       "      <td>5</td>\n",
       "      <td>4</td>\n",
       "    </tr>\n",
       "    <tr>\n",
       "      <th>4</th>\n",
       "      <td>2.0</td>\n",
       "      <td>1.0</td>\n",
       "      <td>5.0</td>\n",
       "      <td>1.0</td>\n",
       "      <td>5.0</td>\n",
       "      <td>4.0</td>\n",
       "      <td>3.0</td>\n",
       "      <td>2.0</td>\n",
       "      <td>4.0</td>\n",
       "      <td>2.0</td>\n",
       "      <td>...</td>\n",
       "      <td>0.0</td>\n",
       "      <td>0.0</td>\n",
       "      <td>0.0</td>\n",
       "      <td>0.0</td>\n",
       "      <td>0.0</td>\n",
       "      <td>0.0</td>\n",
       "      <td>1.0</td>\n",
       "      <td>0.0</td>\n",
       "      <td>2</td>\n",
       "      <td>2</td>\n",
       "    </tr>\n",
       "  </tbody>\n",
       "</table>\n",
       "<p>5 rows × 176 columns</p>\n",
       "</div>"
      ],
      "text/plain": [
       "   ALTERSKATEGORIE_GROB  FINANZ_MINIMALIST  FINANZ_SPARER  FINANZ_VORSORGER  \\\n",
       "0                   1.0                1.0            5.0               2.0   \n",
       "1                   3.0                1.0            4.0               1.0   \n",
       "2                   3.0                4.0            3.0               4.0   \n",
       "3                   1.0                3.0            1.0               5.0   \n",
       "4                   2.0                1.0            5.0               1.0   \n",
       "\n",
       "   FINANZ_ANLEGER  FINANZ_UNAUFFAELLIGER  FINANZ_HAUSBAUER  HEALTH_TYP  \\\n",
       "0             5.0                    4.0               5.0         3.0   \n",
       "1             2.0                    3.0               5.0         3.0   \n",
       "2             1.0                    3.0               2.0         3.0   \n",
       "3             2.0                    2.0               5.0         3.0   \n",
       "4             5.0                    4.0               3.0         2.0   \n",
       "\n",
       "   RETOURTYP_BK_S  SEMIO_SOZ  ...  x12_9A  x12_9B  x12_9C  x12_9D  x12_9E  \\\n",
       "0             1.0        5.0  ...     0.0     0.0     0.0     0.0     0.0   \n",
       "1             3.0        4.0  ...     0.0     0.0     0.0     0.0     0.0   \n",
       "2             5.0        6.0  ...     0.0     0.0     0.0     0.0     0.0   \n",
       "3             3.0        2.0  ...     0.0     0.0     0.0     0.0     0.0   \n",
       "4             4.0        2.0  ...     0.0     0.0     0.0     0.0     0.0   \n",
       "\n",
       "   x13_O  x13_W  movement  Waelth  LifeStage  \n",
       "0    0.0    1.0       0.0       5          1  \n",
       "1    0.0    1.0       1.0       2          4  \n",
       "2    0.0    1.0       0.0       4          3  \n",
       "3    0.0    1.0       1.0       5          4  \n",
       "4    0.0    1.0       0.0       2          2  \n",
       "\n",
       "[5 rows x 176 columns]"
      ]
     },
     "execution_count": 2,
     "metadata": {},
     "output_type": "execute_result"
    }
   ],
   "source": [
    "azdias_cleaned = pd.read_csv('Udacity_AZDIAS_Subset_Cleaned.csv', index_col = 0)\n",
    "azdias_cleaned.head()"
   ]
  },
  {
   "cell_type": "code",
   "execution_count": 3,
   "metadata": {},
   "outputs": [],
   "source": [
    "original_feat_info = pd.read_csv('AZDIAS_Feature_Summary.csv', delimiter = ';')\n",
    "original_feat_info.index = original_feat_info.attribute\n",
    "original_feat_info.drop('attribute', axis = 1, inplace = True)"
   ]
  },
  {
   "cell_type": "markdown",
   "metadata": {},
   "source": [
    "<a id = 'Trans'></a>\n",
    "## 3 - Feature Transformation"
   ]
  },
  {
   "cell_type": "markdown",
   "metadata": {},
   "source": [
    "<a id = 'Scale'></a>\n",
    "### 3.1 -  Apply Feature Scaling\n",
    "\n",
    "Before we apply dimensionality reduction techniques to the data, we need to perform feature scaling so that the principal component vectors are not influenced by the natural differences in scale for features. In this substep, we perform a standard scaling so that all the features have a mean of 0 and a standard deviation of 1. "
   ]
  },
  {
   "cell_type": "code",
   "execution_count": 4,
   "metadata": {},
   "outputs": [],
   "source": [
    "# Apply feature scaling to the general population demographics data.\n",
    "Sclaer_obj = StandardScaler()\n",
    "azdias2 = pd.DataFrame(Sclaer_obj.fit_transform(azdias_cleaned), columns = azdias_cleaned.columns)"
   ]
  },
  {
   "cell_type": "markdown",
   "metadata": {},
   "source": [
    "<a id = 'Dimen'></a>\n",
    "### 3.2 - Perform Dimensionality Reduction\n",
    "\n",
    "On the scaled data, we are now ready to apply dimensionality reduction techniques. Below is a summary of upcoming procedure. \n",
    "\n",
    "- Using sklearn's [PCA](http://scikit-learn.org/stable/modules/generated/sklearn.decomposition.PCA.html) class, we apply principal component analysis on the data, thus finding the vectors of maximal variance in the data. To start, we should not set any parameters (so all components are computed).\n",
    "- Checking out the ratio of variance explained by each principal component as well as the cumulative variance explained. In addition, we plot the cumulative values. Based on the findings, we select a value for the number of transformed features to retain for the clustering part.\n",
    "- Finally, we re-fit a PCA instance to perform the decided-on transformation on the selected number of the features."
   ]
  },
  {
   "cell_type": "code",
   "execution_count": 5,
   "metadata": {},
   "outputs": [],
   "source": [
    "# Apply PCA to the whole scaled data.\n",
    "pca, X_pca = do_pca(n_components = azdias_cleaned.shape[1], data = azdias2)"
   ]
  },
  {
   "cell_type": "code",
   "execution_count": 6,
   "metadata": {},
   "outputs": [
    {
     "data": {
      "image/png": "[encoded data removed]",
      "text/plain": [
       "<Figure size 720x432 with 1 Axes>"
      ]
     },
     "metadata": {
      "needs_background": "light"
     },
     "output_type": "display_data"
    }
   ],
   "source": [
    "# Investigate the variance accounted for by each principal component.\n",
    "vals,cumvals = scree_plot(pca)"
   ]
  },
  {
   "cell_type": "markdown",
   "metadata": {},
   "source": [
    "Having completed the PCA analysis using all the features, we retain specific number of components to facilitate the upcoming clustering as possible. Thus, we need to keep number of the features which results in explaining specific threshold of the original data's variance.  "
   ]
  },
  {
   "cell_type": "code",
   "execution_count": 7,
   "metadata": {},
   "outputs": [],
   "source": [
    "# Re-apply PCA to the data while selecting for number of components to retain.\n",
    "threshold_PCA_retain = .8\n",
    "comp_to_retain = np.where(cumvals <= threshold_PCA_retain)[0][-1]\n",
    "pca, X_pca = do_pca(n_components = comp_to_retain, data = azdias_cleaned)\n",
    "FinalPCAresults = pca_results(azdias_cleaned, pca)"
   ]
  },
  {
   "cell_type": "code",
   "execution_count": 8,
   "metadata": {},
   "outputs": [
    {
     "data": {
      "text/plain": [
       "(77, 177)"
      ]
     },
     "execution_count": 8,
     "metadata": {},
     "output_type": "execute_result"
    }
   ],
   "source": [
    "FinalPCAresults.shape"
   ]
  },
  {
   "cell_type": "markdown",
   "metadata": {},
   "source": [
    "Selecting to retain the principal components explaining `80%` of the variance in the dataset lead to have new data with only `83` columns. "
   ]
  },
  {
   "cell_type": "markdown",
   "metadata": {},
   "source": [
    "<a id = 'Inter'></a>\n",
    "### 3.3 -  Interpret Principal Components\n",
    "\n",
    "Now that we have our transformed principal components, it's a nice idea to check out the weight of each variable on the first few components to see if they can be interpreted in some fashion.\n",
    "\n",
    "In a nutshell, each principal component is a unit vector that points in the direction of highest variance (after accounting for the variance captured by earlier principal components). The further a weight is from zero, the more the principal component is in the direction of the corresponding feature. If two features have large weights of the same sign (both positive or both negative), then increases in one tend expect to be associated with increases in the other. To contrast, features with different signs can be expected to show a negative correlation: increases in one variable should result in a decrease in the other.\n",
    "\n",
    "- To investigate the features, we should map each weight to their corresponding feature name, then sort the features according to weight. The most interesting features for each principal component, then, will be those at the beginning and end of the sorted list.\n",
    "- We should investigate and interpret feature associations from the first three principal components in this substep. To help facilitate this, we wrote a function `map_weights` to print the sorted list of feature weights, for the *i*-th principal component. This might come in handy in the next step of the project, when you interpret the tendencies of the discovered clusters."
   ]
  },
  {
   "cell_type": "code",
   "execution_count": 9,
   "metadata": {},
   "outputs": [
    {
     "data": {
      "text/plain": [
       "SEMIO_VERT        0.3408\n",
       "SEMIO_FAM         0.2765\n",
       "SEMIO_SOZ         0.2752\n",
       "SEMIO_KULT        0.2651\n",
       "x1_5.0            0.1457\n",
       "                   ...  \n",
       "FINANZ_ANLEGER   -0.1692\n",
       "SEMIO_ERL        -0.2141\n",
       "SEMIO_KRIT       -0.2853\n",
       "SEMIO_DOM        -0.3047\n",
       "SEMIO_KAEM       -0.3328\n",
       "Name: Dimension 3, Length: 177, dtype: float64"
      ]
     },
     "execution_count": 9,
     "metadata": {},
     "output_type": "execute_result"
    }
   ],
   "source": [
    "# Map weights for the second principal component to corresponding feature names\n",
    "# and then print the linked values, sorted by weight.\n",
    "weights2 = map_weights(FinalPCAresults, 2)\n",
    "weights2"
   ]
  },
  {
   "cell_type": "code",
   "execution_count": 10,
   "metadata": {},
   "outputs": [
    {
     "data": {
      "text/plain": [
       "ANZ_PERSONEN    0.2572\n",
       "x4_5.0          0.2207\n",
       "x5_10.0         0.2102\n",
       "x6_5.0          0.2102\n",
       "EWDICHTE        0.2086\n",
       "                 ...  \n",
       "x5_4.0         -0.1661\n",
       "INNENSTADT     -0.1703\n",
       "BALLRAUM       -0.1739\n",
       "x4_1.0         -0.2850\n",
       "x3_1.0         -0.2850\n",
       "Name: Dimension 4, Length: 177, dtype: float64"
      ]
     },
     "execution_count": 10,
     "metadata": {},
     "output_type": "execute_result"
    }
   ],
   "source": [
    "# Map weights for the third principal component to corresponding feature names\n",
    "# and then print the linked values, sorted by weight.\n",
    "weights3 = map_weights(FinalPCAresults, 3)\n",
    "weights3"
   ]
  },
  {
   "cell_type": "markdown",
   "metadata": {},
   "source": [
    "### Discussion 2.3: Interpret Principal Components\n",
    "\n",
    "(Double-click this cell and replace this text with your own text, reporting your observations from detailed investigation of the first few principal components generated. Can we interpret positive and negative values from them in a meaningful way?)"
   ]
  },
  {
   "cell_type": "markdown",
   "metadata": {},
   "source": [
    "<a id = 'Clust'></a>\n",
    "## 4 -  Clustering"
   ]
  },
  {
   "cell_type": "markdown",
   "metadata": {},
   "source": [
    "<a id = 'Gener'></a>\n",
    "### 4.1 - Apply Clustering to General Population\n",
    "\n",
    "Having assessed and cleaned the demographics data, then scaled and transformed them. Now, it's time to see how the data clusters in the principal components space. In this substep, we will apply k-means clustering to the dataset and use the average within-cluster distances from each point to their assigned cluster's centroid to decide on a number of clusters to keep.\n",
    "\n",
    "A summary of the upcoming procedure is given below\n",
    "-  Performing k-means clustering on the PCA-transformed data using sklearn's [KMeans](http://scikit-learn.org/stable/modules/generated/sklearn.cluster.KMeans.html#sklearn.cluster.KMeans).\n",
    "- Computing the average difference from each point to its assigned cluster's center. \n",
    "- Performing the above two steps for a number of different cluster counts. You can then see how the average distance decreases with an increasing number of clusters. However, each additional cluster provides a smaller net benefit. Using this fact, we select a final number of clusters in which to group the data.\n",
    "- Having selected a final number of clusters to use, we re-fit a KMeans instance to perform the clustering operation."
   ]
  },
  {
   "cell_type": "code",
   "execution_count": 11,
   "metadata": {},
   "outputs": [
    {
     "data": {
      "text/plain": [
       "(1000, 77)"
      ]
     },
     "execution_count": 11,
     "metadata": {},
     "output_type": "execute_result"
    }
   ],
   "source": [
    "X_pca[0:1000].shape"
   ]
  },
  {
   "cell_type": "code",
   "execution_count": 12,
   "metadata": {},
   "outputs": [],
   "source": [
    "centers_1 = np.arange(20,30)\n",
    "scores_1 = []\n",
    "for k in centers_1:\n",
    "    model = KMeans(n_clusters = k)\n",
    "    model.fit(X_pca[0:1000])\n",
    "    scores_1.append(np.abs(model.score(X_pca[0:1000])))"
   ]
  },
  {
   "cell_type": "code",
   "execution_count": 13,
   "metadata": {},
   "outputs": [
    {
     "data": {
      "image/png": "[encoded data removed]",
      "text/plain": [
       "<Figure size 432x288 with 1 Axes>"
      ]
     },
     "metadata": {
      "needs_background": "light"
     },
     "output_type": "display_data"
    }
   ],
   "source": [
    "# Investigate the change in within-cluster distance across number of clusters.\n",
    "plt.plot(centers_1, scores_1, linestyle='--', marker='o', color='b');\n",
    "plt.xlabel('K');\n",
    "plt.ylabel('SSE');\n",
    "plt.title('SSE vs. K');"
   ]
  },
  {
   "cell_type": "code",
   "execution_count": 14,
   "metadata": {},
   "outputs": [],
   "source": [
    "# Re-fit the k-means model with the selected number of clusters and obtain\n",
    "# cluster predictions for the general population demographics data.\n",
    "k_best = 25\n",
    "labels,Kmeans_obj = fit_kmeans(X_pca[0:1000], k_best) #fit kmeans to get the labels"
   ]
  },
  {
   "cell_type": "code",
   "execution_count": 15,
   "metadata": {},
   "outputs": [
    {
     "data": {
      "image/png": "[encoded data removed]",
      "text/plain": [
       "<Figure size 432x288 with 1 Axes>"
      ]
     },
     "metadata": {
      "needs_background": "light"
     },
     "output_type": "display_data"
    }
   ],
   "source": [
    "# Plot the original data with clusters\n",
    "plt.scatter(azdias2['ALTERSKATEGORIE_GROB'].iloc[0:1000], azdias2['FINANZ_ANLEGER'].iloc[0:1000], c=labels, cmap='Set1');"
   ]
  },
  {
   "cell_type": "markdown",
   "metadata": {},
   "source": [
    "### Discussion 3.1: Apply Clustering to General Population\n",
    "\n",
    "(Double-click this cell and replace this text with your own text, reporting your findings and decisions regarding clustering. Into how many clusters have you decided to segment the population?)"
   ]
  },
  {
   "cell_type": "markdown",
   "metadata": {},
   "source": [
    "<a id = 'Custo'></a>\n",
    "### 5.2 -  Apply All Steps to the Customer Data\n",
    "\n",
    "Now we have clusters and cluster centers for the general population, it's time to see how the customer data maps on to those clusters. In the last step of the project, we will interpret how the general population fits apply to the customer data.\n",
    "\n",
    "A summary of the upcoming procedure is given below:\n",
    "- Loading the customer data\n",
    "- Applying the same cleansing pipeline done with the general population data\n",
    "- Applying the same feature transformation steps (i.e., scaling and pca) using the objects obtained previosuly. \n",
    "- Finally, clustering the tranformed data using the same clustering object. "
   ]
  },
  {
   "cell_type": "code",
   "execution_count": 16,
   "metadata": {},
   "outputs": [],
   "source": [
    "def impute_nan_most_frequent_category(DataFrame,ColName):\n",
    "    \"\"\"\n",
    "    Impute categorical data with mode values\n",
    "    \"\"\"\n",
    "    most_frequent_category=DataFrame[ColName].mode()[0]\n",
    "    # replace nan values with most occured category\n",
    "    DataFrame[ColName + \"_Imputed\"] = DataFrame[ColName]\n",
    "    DataFrame[ColName + \"_Imputed\"].fillna(most_frequent_category,inplace=True)\n",
    "    \n",
    "def clean_data(df, feat_info):\n",
    "    \"\"\"\n",
    "    Perform feature trimming, re-encoding, and engineering for demographics data\n",
    "    \n",
    "    INPUT: \n",
    "        - df: Demographics DataFrame\n",
    "        - feat_info: Information about df columns\n",
    "    OUTPUT: Trimmed and cleaned demographics DataFrame\n",
    "    \"\"\"\n",
    "\n",
    "    print('Data cleansing pipeline...')\n",
    "    print('df shape is {}'.format(df.shape))\n",
    "    ### Main cleaning steps:    \n",
    "    ## 1- convert missing value codes into NaNs, ...\n",
    "    print('\\t1-Replacing missing values per column with Nan...')\n",
    "    a = list(feat_info['missing_or_unknown'])\n",
    "    ToNan = [i.strip('][,').split(',') for i in a]\n",
    "    for i,j in zip(df.columns, ToNan):\n",
    "        NanIndices = df.query('{} == {}'.format(i, j)).index\n",
    "        df.at[NanIndices,i] = np.NaN\n",
    "\n",
    "    print('\\t\\tReplacing done')\n",
    "    # ------------------------------------------------------------------------------------------------ \n",
    "    ## 2- Remove selected columns and rows \n",
    "    print('\\t2-Removing the outliars columns and rows...')\n",
    "    # 2.1- Perform an assessment of how much missing data there is in each column of the dataset.\n",
    "    \n",
    "    MissingValues = pd.DataFrame([df.isna().sum(),(df.isna().sum() / df.shape[0]) * 100], \n",
    "                                    index = ['Values','Per'], \n",
    "                                 columns = df.columns).T\n",
    "    Threshold = MissingValues.describe()['Per']['75%']\n",
    "    Todelete = MissingValues.query('Per > {}'.format(Threshold))\n",
    "    DeletedColumns = df.loc[:,Todelete.index]\n",
    "    print('Deleted columns shape is {}'.format(DeletedColumns.shape))\n",
    "    # 2.2- Remove the outlier columns from the dataset\n",
    "    \n",
    "    df.drop(Todelete.index, axis = 1 , inplace = True)\n",
    "    feat_info.drop(Todelete.index, axis = 0 , inplace = True)\n",
    "    # 2.3- Perform an assessment of how much missing data there is in each row of the dataset\n",
    "\n",
    "    MissingValuesRows = pd.DataFrame([df.isna().sum(axis = 1),(df.isna().sum(axis = 1) / df.shape[1]) * 100],\n",
    "                                     columns = df.index, index = ['Value','Per']).T\n",
    "    \n",
    "    # 2.4- Divide the data into two subsets based on the number of missing values in each row.\n",
    "    ThresholdRows = MissingValuesRows.describe()['Per']['75%']\n",
    "    TodeleteRows = MissingValuesRows.query('Per > {}'.format(ThresholdRows))\n",
    "    DeletedRows = df.loc[TodeleteRows.index,:]\n",
    "    print('Deleted rows shape is {}'.format(DeletedRows.shape))\n",
    "    df.drop(TodeleteRows.index, axis = 0 , inplace = True)\n",
    "    df.reset_index(inplace = True , drop = True)\n",
    "    print('\\t\\tRemoving the outliars columns and rows done')\n",
    "    # ------------------------------------------------------------------------------------------------\n",
    "    ## 3- Select, Re-encode, and Engineer column values.\n",
    "    print('\\t3-Feature Engineering...')\n",
    "    # 3.1- Assess categorical variables: which are binary, which are multi-level, and which one needs to be re-encoded?\n",
    "    \n",
    "    cat_var = df.loc[:,list(feat_info.query('type ==\"categorical\"').index)]\n",
    "    unique_per_cat = [(i,cat_var[i].nunique()) for i in cat_var.columns]\n",
    "    bin_cat = [i for i in cat_var.columns if cat_var[i].nunique() == 2 and pd.api.types.is_string_dtype(cat_var[i])]\n",
    "    print('bin_cat is {}'.format(bin_cat))\n",
    "    Multi_cat = [i for i in cat_var.columns if cat_var[i].nunique() > 2]\n",
    "    To_OH = pd.concat([df.loc[:, Multi_cat], df.loc[:, bin_cat]], axis = 1)\n",
    "    print('Missing values by column : {}'.format(To_OH.isna().sum()))\n",
    "    # 3.2- Impute missing values for data frame to be onehot encoded\n",
    "    for k,v in To_OH.isna().sum().items():\n",
    "        if v > 0:\n",
    "            impute_nan_most_frequent_category(To_OH,k)\n",
    "            To_OH.drop(k, axis = 1, inplace = True)\n",
    "    print('3.2: df shape is {}'.format(df.shape))    \n",
    "    # 3.3- Re-encode categorical variable(s) to be kept in the analysis.\n",
    "    print('To_OH columns are {}'.format(To_OH.columns))\n",
    "    print('To_OH shape {}'.format(To_OH.shape))\n",
    "    print('{}'.format(To_OH.nunique()))\n",
    "    OH_bin_obj = preprocessing.OneHotEncoder().fit(To_OH)\n",
    "    OH_cat = OH_bin_obj.transform(To_OH)\n",
    "    OH_cat = pd.DataFrame(OH_cat.toarray(), columns = OH_bin_obj.get_feature_names())\n",
    "    print('3.3: shape is {}'.format(df.shape))\n",
    "    # 3.4- Drop categorical features\n",
    "    df.drop(cat_var , axis = 1 , inplace = True)\n",
    "    feat_info.drop(cat_var, axis = 0, inplace = True)\n",
    "    print('3.4: df shape is {}'.format(df.shape))\n",
    "    # 3.5- Append one hot encoded data \n",
    "    df = pd.concat([df, OH_cat], axis = 1)\n",
    "    print('3.5: df shape is {}'.format(df.shape))\n",
    "    print('3.5: OH_cat shape is {}'.format(OH_cat.shape))\n",
    "    # 3.6- Return the cleaned dataframe.\n",
    "    # Investigate \"PRAEGENDE_JUGENDJAHRE\" and engineer new variables.\n",
    "    df['movement'] = df.PRAEGENDE_JUGENDJAHRE % 2 \n",
    "    Wealth = [int(i[0]) if type(i) == str else i for i in df.CAMEO_INTL_2015]\n",
    "    LifeStage = [int(i[1])  if type(i) == str else i for i in df.CAMEO_INTL_2015]\n",
    "    CAMEO_INTL_2015 = pd.DataFrame(list(zip(Wealth, LifeStage)), columns = ['Waelth', 'LifeStage'])\n",
    "    print('3.6: df shape is {}'.format(df.shape))\n",
    "    # 3.7- Drop mixed features\n",
    "    df.drop(feat_info.query('type ==\"mixed\"').index, axis = 1, inplace = True)\n",
    "    # 3.8- Append new features\n",
    "    df = pd.concat([df,CAMEO_INTL_2015] , axis = 1)\n",
    "    print('3.7: df shape is {}'.format(df.shape))\n",
    "    print('\\t\\tFeature Engineering done')\n",
    "    print('df shape is {}'.format(df.shape))\n",
    "    # ------------------------------------------------------------------------------------------------\n",
    "    ## 4- Remove all the missing values\n",
    "    print('\\t4-Removing missing values...')\n",
    "    df.dropna(inplace = True)\n",
    "    df.reset_index(inplace = True ,drop = True)\n",
    "    print('\\t\\tRemoving missing values done.')\n",
    "    print('df shape is {}'.format(df.shape))\n",
    "    # ------------------------------------------------------------------------------------------------\n",
    "    print('Cleaning pipeline done')\n",
    "    return df"
   ]
  },
  {
   "cell_type": "code",
   "execution_count": 17,
   "metadata": {},
   "outputs": [],
   "source": [
    "# Load in the customer demographics data.\n",
    "customers = pd.read_csv('Udacity_CUSTOMERS_Subset.csv', delimiter = ';')"
   ]
  },
  {
   "cell_type": "code",
   "execution_count": 18,
   "metadata": {},
   "outputs": [
    {
     "data": {
      "text/plain": [
       "6"
      ]
     },
     "execution_count": 18,
     "metadata": {},
     "output_type": "execute_result"
    }
   ],
   "source": [
    "customers.GEBAEUDETYP.nunique()"
   ]
  },
  {
   "cell_type": "code",
   "execution_count": 19,
   "metadata": {},
   "outputs": [
    {
     "name": "stdout",
     "output_type": "stream",
     "text": [
      "Data cleansing pipeline...\n",
      "df shape is (191652, 85)\n",
      "\t1-Replacing missing values per column with Nan...\n",
      "\t\tReplacing done\n",
      "\t2-Removing the outliars columns and rows...\n",
      "Deleted columns shape is (191652, 15)\n",
      "Deleted rows shape is (47364, 70)\n",
      "\t\tRemoving the outliars columns and rows done\n",
      "\t3-Feature Engineering...\n",
      "bin_cat is ['OST_WEST_KZ']\n",
      "Missing values by column : CJT_GESAMTTYP       3124\n",
      "FINANZTYP              0\n",
      "GFK_URLAUBERTYP     3124\n",
      "LP_FAMILIE_FEIN     9398\n",
      "LP_FAMILIE_GROB     9398\n",
      "LP_STATUS_FEIN      3124\n",
      "LP_STATUS_GROB      3124\n",
      "NATIONALITAET_KZ    2106\n",
      "SHOPPER_TYP         2339\n",
      "ZABEOTYP               0\n",
      "GEBAEUDETYP         2563\n",
      "CAMEO_DEUG_2015     3190\n",
      "CAMEO_DEU_2015      3190\n",
      "OST_WEST_KZ         2563\n",
      "dtype: int64\n",
      "3.2: df shape is (144288, 70)\n",
      "To_OH columns are Index(['FINANZTYP', 'ZABEOTYP', 'CJT_GESAMTTYP_Imputed',\n",
      "       'GFK_URLAUBERTYP_Imputed', 'LP_FAMILIE_FEIN_Imputed',\n",
      "       'LP_FAMILIE_GROB_Imputed', 'LP_STATUS_FEIN_Imputed',\n",
      "       'LP_STATUS_GROB_Imputed', 'NATIONALITAET_KZ_Imputed',\n",
      "       'SHOPPER_TYP_Imputed', 'GEBAEUDETYP_Imputed', 'CAMEO_DEUG_2015_Imputed',\n",
      "       'CAMEO_DEU_2015_Imputed', 'OST_WEST_KZ_Imputed'],\n",
      "      dtype='object')\n",
      "To_OH shape (144288, 14)\n",
      "FINANZTYP                    6\n",
      "ZABEOTYP                     6\n",
      "CJT_GESAMTTYP_Imputed        6\n",
      "GFK_URLAUBERTYP_Imputed     12\n",
      "LP_FAMILIE_FEIN_Imputed     11\n",
      "LP_FAMILIE_GROB_Imputed      5\n",
      "LP_STATUS_FEIN_Imputed      10\n",
      "LP_STATUS_GROB_Imputed       5\n",
      "NATIONALITAET_KZ_Imputed     3\n",
      "SHOPPER_TYP_Imputed          4\n",
      "GEBAEUDETYP_Imputed          6\n",
      "CAMEO_DEUG_2015_Imputed      9\n",
      "CAMEO_DEU_2015_Imputed      44\n",
      "OST_WEST_KZ_Imputed          2\n",
      "dtype: int64\n",
      "3.3: shape is (144288, 70)\n",
      "3.4: df shape is (144288, 52)\n",
      "3.5: df shape is (144288, 181)\n",
      "3.5: OH_cat shape is (144288, 129)\n",
      "3.6: df shape is (144288, 182)\n",
      "3.7: df shape is (144288, 178)\n",
      "\t\tFeature Engineering done\n",
      "df shape is (144288, 178)\n",
      "\t4-Removing missing values...\n",
      "\t\tRemoving missing values done.\n",
      "df shape is (129814, 178)\n",
      "Cleaning pipeline done\n"
     ]
    }
   ],
   "source": [
    "# Apply preprocessing, feature transformation, and clustering from the general\n",
    "# demographics onto the customer data, obtaining cluster predictions for the\n",
    "# customer demographics data.\n",
    "customers_cleaned = clean_data(customers,original_feat_info)"
   ]
  },
  {
   "cell_type": "code",
   "execution_count": 20,
   "metadata": {},
   "outputs": [
    {
     "data": {
      "text/plain": [
       "((690882, 176), (129814, 178))"
      ]
     },
     "execution_count": 20,
     "metadata": {},
     "output_type": "execute_result"
    }
   ],
   "source": [
    "azdias_cleaned.shape, customers_cleaned.shape"
   ]
  },
  {
   "cell_type": "code",
   "execution_count": 21,
   "metadata": {},
   "outputs": [
    {
     "data": {
      "text/plain": [
       "{'x10_2.0',\n",
       " 'x10_4.0',\n",
       " 'x10_6.0',\n",
       " 'x3_12.0',\n",
       " 'x4_10.0',\n",
       " 'x4_11.0',\n",
       " 'x4_6.0',\n",
       " 'x4_7.0',\n",
       " 'x4_8.0',\n",
       " 'x4_9.0',\n",
       " 'x6_10.0',\n",
       " 'x6_6.0',\n",
       " 'x6_7.0',\n",
       " 'x6_8.0',\n",
       " 'x6_9.0',\n",
       " 'x7_4.0',\n",
       " 'x7_5.0',\n",
       " 'x9_0.0'}"
      ]
     },
     "execution_count": 21,
     "metadata": {},
     "output_type": "execute_result"
    }
   ],
   "source": [
    "set(customers_cleaned.columns) - set(azdias_cleaned.columns) "
   ]
  },
  {
   "cell_type": "code",
   "execution_count": 22,
   "metadata": {
    "scrolled": false
   },
   "outputs": [
    {
     "ename": "ValueError",
     "evalue": "X has 178 features, but this StandardScaler is expecting 176 features as input.",
     "output_type": "error",
     "traceback": [
      "\u001b[1;31m---------------------------------------------------------------------------\u001b[0m",
      "\u001b[1;31mValueError\u001b[0m                                Traceback (most recent call last)",
      "\u001b[1;32m<ipython-input-22-011125e5168b>\u001b[0m in \u001b[0;36m<module>\u001b[1;34m\u001b[0m\n\u001b[1;32m----> 1\u001b[1;33m \u001b[0mcustomers_scaled\u001b[0m \u001b[1;33m=\u001b[0m \u001b[0mpd\u001b[0m\u001b[1;33m.\u001b[0m\u001b[0mDataFrame\u001b[0m\u001b[1;33m(\u001b[0m\u001b[0mSclaer_obj\u001b[0m\u001b[1;33m.\u001b[0m\u001b[0mtransform\u001b[0m\u001b[1;33m(\u001b[0m\u001b[0mcustomers_cleaned\u001b[0m\u001b[1;33m)\u001b[0m\u001b[1;33m,\u001b[0m \u001b[0mcolumns\u001b[0m \u001b[1;33m=\u001b[0m \u001b[0mcustomers_cleaned\u001b[0m\u001b[1;33m.\u001b[0m\u001b[0mcolumns\u001b[0m\u001b[1;33m)\u001b[0m\u001b[1;33m\u001b[0m\u001b[1;33m\u001b[0m\u001b[0m\n\u001b[0m\u001b[0;32m      2\u001b[0m \u001b[0mcustomers_scaled\u001b[0m\u001b[1;33m\u001b[0m\u001b[1;33m\u001b[0m\u001b[0m\n",
      "\u001b[1;32mC:\\ProgramData\\Anaconda3\\lib\\site-packages\\sklearn\\preprocessing\\_data.py\u001b[0m in \u001b[0;36mtransform\u001b[1;34m(self, X, copy)\u001b[0m\n\u001b[0;32m    792\u001b[0m                                 \u001b[0maccept_sparse\u001b[0m\u001b[1;33m=\u001b[0m\u001b[1;34m'csr'\u001b[0m\u001b[1;33m,\u001b[0m \u001b[0mcopy\u001b[0m\u001b[1;33m=\u001b[0m\u001b[0mcopy\u001b[0m\u001b[1;33m,\u001b[0m\u001b[1;33m\u001b[0m\u001b[1;33m\u001b[0m\u001b[0m\n\u001b[0;32m    793\u001b[0m                                 \u001b[0mestimator\u001b[0m\u001b[1;33m=\u001b[0m\u001b[0mself\u001b[0m\u001b[1;33m,\u001b[0m \u001b[0mdtype\u001b[0m\u001b[1;33m=\u001b[0m\u001b[0mFLOAT_DTYPES\u001b[0m\u001b[1;33m,\u001b[0m\u001b[1;33m\u001b[0m\u001b[1;33m\u001b[0m\u001b[0m\n\u001b[1;32m--> 794\u001b[1;33m                                 force_all_finite='allow-nan')\n\u001b[0m\u001b[0;32m    795\u001b[0m \u001b[1;33m\u001b[0m\u001b[0m\n\u001b[0;32m    796\u001b[0m         \u001b[1;32mif\u001b[0m \u001b[0msparse\u001b[0m\u001b[1;33m.\u001b[0m\u001b[0missparse\u001b[0m\u001b[1;33m(\u001b[0m\u001b[0mX\u001b[0m\u001b[1;33m)\u001b[0m\u001b[1;33m:\u001b[0m\u001b[1;33m\u001b[0m\u001b[1;33m\u001b[0m\u001b[0m\n",
      "\u001b[1;32mC:\\ProgramData\\Anaconda3\\lib\\site-packages\\sklearn\\base.py\u001b[0m in \u001b[0;36m_validate_data\u001b[1;34m(self, X, y, reset, validate_separately, **check_params)\u001b[0m\n\u001b[0;32m    434\u001b[0m \u001b[1;33m\u001b[0m\u001b[0m\n\u001b[0;32m    435\u001b[0m         \u001b[1;32mif\u001b[0m \u001b[0mcheck_params\u001b[0m\u001b[1;33m.\u001b[0m\u001b[0mget\u001b[0m\u001b[1;33m(\u001b[0m\u001b[1;34m'ensure_2d'\u001b[0m\u001b[1;33m,\u001b[0m \u001b[1;32mTrue\u001b[0m\u001b[1;33m)\u001b[0m\u001b[1;33m:\u001b[0m\u001b[1;33m\u001b[0m\u001b[1;33m\u001b[0m\u001b[0m\n\u001b[1;32m--> 436\u001b[1;33m             \u001b[0mself\u001b[0m\u001b[1;33m.\u001b[0m\u001b[0m_check_n_features\u001b[0m\u001b[1;33m(\u001b[0m\u001b[0mX\u001b[0m\u001b[1;33m,\u001b[0m \u001b[0mreset\u001b[0m\u001b[1;33m=\u001b[0m\u001b[0mreset\u001b[0m\u001b[1;33m)\u001b[0m\u001b[1;33m\u001b[0m\u001b[1;33m\u001b[0m\u001b[0m\n\u001b[0m\u001b[0;32m    437\u001b[0m \u001b[1;33m\u001b[0m\u001b[0m\n\u001b[0;32m    438\u001b[0m         \u001b[1;32mreturn\u001b[0m \u001b[0mout\u001b[0m\u001b[1;33m\u001b[0m\u001b[1;33m\u001b[0m\u001b[0m\n",
      "\u001b[1;32mC:\\ProgramData\\Anaconda3\\lib\\site-packages\\sklearn\\base.py\u001b[0m in \u001b[0;36m_check_n_features\u001b[1;34m(self, X, reset)\u001b[0m\n\u001b[0;32m    378\u001b[0m                     \u001b[1;34m'X has {} features, but this {} is expecting {} features '\u001b[0m\u001b[1;33m\u001b[0m\u001b[1;33m\u001b[0m\u001b[0m\n\u001b[0;32m    379\u001b[0m                     'as input.'.format(n_features, self.__class__.__name__,\n\u001b[1;32m--> 380\u001b[1;33m                                        self.n_features_in_)\n\u001b[0m\u001b[0;32m    381\u001b[0m                 )\n\u001b[0;32m    382\u001b[0m \u001b[1;33m\u001b[0m\u001b[0m\n",
      "\u001b[1;31mValueError\u001b[0m: X has 178 features, but this StandardScaler is expecting 176 features as input."
     ]
    }
   ],
   "source": [
    "customers_scaled = pd.DataFrame(Sclaer_obj.transform(customers_cleaned), columns = customers_cleaned.columns)\n",
    "customers_scaled"
   ]
  },
  {
   "cell_type": "code",
   "execution_count": null,
   "metadata": {},
   "outputs": [],
   "source": [
    "customers_transformed = pca.transform(customers_scaled)\n",
    "customers_labels = Kmeans_obj.transform(customers_transformed)"
   ]
  },
  {
   "cell_type": "markdown",
   "metadata": {},
   "source": [
    "<a id = 'Compa'></a>\n",
    "### 5.3 - Compare Customer Data to Demographics Data\n",
    "\n",
    "At this point, you have clustered data based on demographics of the general population of Germany, and seen how the customer data for a mail-order sales company maps onto those demographic clusters. In this final substep, you will compare the two cluster distributions to see where the strongest customer base for the company is.\n",
    "\n",
    "Consider the proportion of persons in each cluster for the general population, and the proportions for the customers. If we think the company's customer base to be universal, then the cluster assignment proportions should be fairly similar between the two. If there are only particular segments of the population that are interested in the company's products, then we should see a mismatch from one to the other. If there is a higher proportion of persons in a cluster for the customer data compared to the general population (e.g. 5% of persons are assigned to a cluster for the general population, but 15% of the customer data is closest to that cluster's centroid) then that suggests the people in that cluster to be a target audience for the company. On the other hand, the proportion of the data in a cluster being larger in the general population than the customer data (e.g. only 2% of customers closest to a population centroid that captures 6% of the data) suggests that group of persons to be outside of the target demographics.\n",
    "\n",
    "Take a look at the following points in this step:\n",
    "\n",
    "- Compute the proportion of data points in each cluster for the general population and the customer data. Visualizations will be useful here: both for the individual dataset proportions, but also to visualize the ratios in cluster representation between groups. Seaborn's [`countplot()`](https://seaborn.pydata.org/generated/seaborn.countplot.html) or [`barplot()`](https://seaborn.pydata.org/generated/seaborn.barplot.html) function could be handy.\n",
    "  - Recall the analysis you performed in step 1.1.3 of the project, where you separated out certain data points from the dataset if they had more than a specified threshold of missing values. If you found that this group was qualitatively different from the main bulk of the data, you should treat this as an additional data cluster in this analysis. Make sure that you account for the number of data points in this subset, for both the general population and customer datasets, when making your computations!\n",
    "- Which cluster or clusters are overrepresented in the customer dataset compared to the general population? Select at least one such cluster and infer what kind of people might be represented by that cluster. Use the principal component interpretations from step 2.3 or look at additional components to help you make this inference. Alternatively, you can use the `.inverse_transform()` method of the PCA and StandardScaler objects to transform centroids back to the original data space and interpret the retrieved values directly.\n",
    "- Perform a similar investigation for the underrepresented clusters. Which cluster or clusters are underrepresented in the customer dataset compared to the general population, and what kinds of people are typified by these clusters?"
   ]
  },
  {
   "cell_type": "code",
   "execution_count": null,
   "metadata": {},
   "outputs": [],
   "source": [
    "# Compare the proportion of data in each cluster for the customer data to the\n",
    "# proportion of data in each cluster for the general population.\n",
    "\n"
   ]
  },
  {
   "cell_type": "code",
   "execution_count": null,
   "metadata": {},
   "outputs": [],
   "source": [
    "# What kinds of people are part of a cluster that is overrepresented in the\n",
    "# customer data compared to the general population?\n",
    "\n"
   ]
  },
  {
   "cell_type": "code",
   "execution_count": null,
   "metadata": {},
   "outputs": [],
   "source": [
    "# What kinds of people are part of a cluster that is underrepresented in the\n",
    "# customer data compared to the general population?\n",
    "\n"
   ]
  },
  {
   "cell_type": "markdown",
   "metadata": {},
   "source": [
    "### Discussion 3.3: Compare Customer Data to Demographics Data\n",
    "\n",
    "(Double-click this cell and replace this text with your own text, reporting findings and conclusions from the clustering analysis. Can we describe segments of the population that are relatively popular with the mail-order company, or relatively unpopular with the company?)"
   ]
  },
  {
   "cell_type": "markdown",
   "metadata": {},
   "source": [
    "> Congratulations on making it this far in the project! Before you finish, make sure to check through the entire notebook from top to bottom to make sure that your analysis follows a logical flow and all of your findings are documented in **Discussion** cells. Once you've checked over all of your work, you should export the notebook as an HTML document to submit for evaluation. You can do this from the menu, navigating to **File -> Download as -> HTML (.html)**. You will submit both that document and this notebook for your project submission."
   ]
  },
  {
   "cell_type": "code",
   "execution_count": null,
   "metadata": {},
   "outputs": [],
   "source": []
  }
 ],
 "metadata": {
  "kernelspec": {
   "display_name": "Python 3",
   "language": "python",
   "name": "python3"
  },
  "language_info": {
   "codemirror_mode": {
    "name": "ipython",
    "version": 3
   },
   "file_extension": ".py",
   "mimetype": "text/x-python",
   "name": "python",
   "nbconvert_exporter": "python",
   "pygments_lexer": "ipython3",
   "version": "3.7.9"
  }
 },
 "nbformat": 4,
 "nbformat_minor": 2
}
