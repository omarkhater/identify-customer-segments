{
 "cells": [
  {
   "cell_type": "markdown",
   "metadata": {},
   "source": [
    "# <center> Identify Customer Segments- Machine Learning </center>"
   ]
  },
  {
   "cell_type": "markdown",
   "metadata": {},
   "source": [
    "## Table of Contents"
   ]
  },
  {
   "cell_type": "markdown",
   "metadata": {},
   "source": [
    "1. <a href=\"#Intro\">Introduction</a>\n",
    "2. <a href=\"#Trans\">Feature Transformation</a>\n",
    "    * <a href=\"#Scale\"> 2.1 - Apply Feature Scaling </a>\n",
    "    * <a href=\"#Dimen\"> 2.2 - Perform Dimensionality Reduction </a>\n",
    "    * <a href=\"#Inter\"> 2.3 - Interpret Principal Components </a>\n",
    "3. <a href=\"#Clust\">Clustering </a>\n",
    "    * <a href=\"#Gener\"> 3.1 - Apply Clustering to General Population </a>\n",
    "    * <a href=\"#Custo\"> 3.2 - Apply All Steps to the Customer Data </a>\n",
    "    * <a href=\"#Compa\"> 3.3 - Compare Customer Data to Demographics Data </a>"
   ]
  },
  {
   "cell_type": "markdown",
   "metadata": {},
   "source": [
    "<a id = 'Intro'></a>\n",
    "## Introduction\n",
    "\n",
    "Based on the [data cleansing](http://localhost:8888/notebooks/Identify_Customer_Segments_Exploration.ipynb)  notebook, we now have a solid understanding of the data under consideration. _In this notebook_, we load the previously cleaned data then we proceed with the <u>_feature transformation_</u> as well as the <u>_clustering parts_</u> of this project. We conclude this analysis by applying the whole pipeline for an another dataset containing the same demographic data about specific customers in a trial of analysing the common patterns associated with the general population. Hopefully, this process will lead to a better understanding of the customer behaviours in shadow of the available data about general population. "
   ]
  },
  {
   "cell_type": "code",
   "execution_count": 1,
   "metadata": {},
   "outputs": [],
   "source": [
    "import numpy as np\n",
    "import pandas as pd\n",
    "import matplotlib.pyplot as plt\n",
    "import seaborn as sns\n",
    "%matplotlib inline\n",
    "from sklearn import preprocessing\n",
    "from sklearn.preprocessing import StandardScaler\n",
    "from sklearn.decomposition import PCA\n",
    "from helpers import do_pca, scree_plot, pca_results, map_weights,fit_kmeans, clean_data\n",
    "from sklearn.cluster import KMeans"
   ]
  },
  {
   "cell_type": "markdown",
   "metadata": {},
   "source": [
    "<a id = 'Clean'></a>\n",
    "### 2 -  Load cleaned dataset\n",
    "\n",
    "The complete data cleaning procedure and detailed justification for each step is given on the [Data Cleansing notebook](http://localhost:8888/notebooks/Identify_Customer_Segments_Exploration.ipynb). To simplify this notebook, we just load the resulted dataframe. "
   ]
  },
  {
   "cell_type": "code",
   "execution_count": 2,
   "metadata": {},
   "outputs": [
    {
     "data": {
      "text/html": [
       "<div>\n",
       "<style scoped>\n",
       "    .dataframe tbody tr th:only-of-type {\n",
       "        vertical-align: middle;\n",
       "    }\n",
       "\n",
       "    .dataframe tbody tr th {\n",
       "        vertical-align: top;\n",
       "    }\n",
       "\n",
       "    .dataframe thead th {\n",
       "        text-align: right;\n",
       "    }\n",
       "</style>\n",
       "<table border=\"1\" class=\"dataframe\">\n",
       "  <thead>\n",
       "    <tr style=\"text-align: right;\">\n",
       "      <th></th>\n",
       "      <th>ALTERSKATEGORIE_GROB</th>\n",
       "      <th>FINANZ_MINIMALIST</th>\n",
       "      <th>FINANZ_SPARER</th>\n",
       "      <th>FINANZ_VORSORGER</th>\n",
       "      <th>FINANZ_ANLEGER</th>\n",
       "      <th>FINANZ_UNAUFFAELLIGER</th>\n",
       "      <th>FINANZ_HAUSBAUER</th>\n",
       "      <th>HEALTH_TYP</th>\n",
       "      <th>RETOURTYP_BK_S</th>\n",
       "      <th>SEMIO_SOZ</th>\n",
       "      <th>...</th>\n",
       "      <th>x11_9A</th>\n",
       "      <th>x11_9B</th>\n",
       "      <th>x11_9C</th>\n",
       "      <th>x11_9D</th>\n",
       "      <th>x11_9E</th>\n",
       "      <th>x12_O</th>\n",
       "      <th>x12_W</th>\n",
       "      <th>movement</th>\n",
       "      <th>Waelth</th>\n",
       "      <th>LifeStage</th>\n",
       "    </tr>\n",
       "  </thead>\n",
       "  <tbody>\n",
       "    <tr>\n",
       "      <th>0</th>\n",
       "      <td>1.0</td>\n",
       "      <td>1.0</td>\n",
       "      <td>5.0</td>\n",
       "      <td>2.0</td>\n",
       "      <td>5.0</td>\n",
       "      <td>4.0</td>\n",
       "      <td>5.0</td>\n",
       "      <td>3.0</td>\n",
       "      <td>1.0</td>\n",
       "      <td>5.0</td>\n",
       "      <td>...</td>\n",
       "      <td>0.0</td>\n",
       "      <td>0.0</td>\n",
       "      <td>0.0</td>\n",
       "      <td>0.0</td>\n",
       "      <td>0.0</td>\n",
       "      <td>0.0</td>\n",
       "      <td>1.0</td>\n",
       "      <td>0.0</td>\n",
       "      <td>5</td>\n",
       "      <td>1</td>\n",
       "    </tr>\n",
       "    <tr>\n",
       "      <th>1</th>\n",
       "      <td>3.0</td>\n",
       "      <td>1.0</td>\n",
       "      <td>4.0</td>\n",
       "      <td>1.0</td>\n",
       "      <td>2.0</td>\n",
       "      <td>3.0</td>\n",
       "      <td>5.0</td>\n",
       "      <td>3.0</td>\n",
       "      <td>3.0</td>\n",
       "      <td>4.0</td>\n",
       "      <td>...</td>\n",
       "      <td>0.0</td>\n",
       "      <td>0.0</td>\n",
       "      <td>0.0</td>\n",
       "      <td>0.0</td>\n",
       "      <td>0.0</td>\n",
       "      <td>0.0</td>\n",
       "      <td>1.0</td>\n",
       "      <td>1.0</td>\n",
       "      <td>2</td>\n",
       "      <td>4</td>\n",
       "    </tr>\n",
       "    <tr>\n",
       "      <th>2</th>\n",
       "      <td>3.0</td>\n",
       "      <td>4.0</td>\n",
       "      <td>3.0</td>\n",
       "      <td>4.0</td>\n",
       "      <td>1.0</td>\n",
       "      <td>3.0</td>\n",
       "      <td>2.0</td>\n",
       "      <td>3.0</td>\n",
       "      <td>5.0</td>\n",
       "      <td>6.0</td>\n",
       "      <td>...</td>\n",
       "      <td>0.0</td>\n",
       "      <td>0.0</td>\n",
       "      <td>0.0</td>\n",
       "      <td>0.0</td>\n",
       "      <td>0.0</td>\n",
       "      <td>0.0</td>\n",
       "      <td>1.0</td>\n",
       "      <td>0.0</td>\n",
       "      <td>4</td>\n",
       "      <td>3</td>\n",
       "    </tr>\n",
       "    <tr>\n",
       "      <th>3</th>\n",
       "      <td>1.0</td>\n",
       "      <td>3.0</td>\n",
       "      <td>1.0</td>\n",
       "      <td>5.0</td>\n",
       "      <td>2.0</td>\n",
       "      <td>2.0</td>\n",
       "      <td>5.0</td>\n",
       "      <td>3.0</td>\n",
       "      <td>3.0</td>\n",
       "      <td>2.0</td>\n",
       "      <td>...</td>\n",
       "      <td>0.0</td>\n",
       "      <td>0.0</td>\n",
       "      <td>0.0</td>\n",
       "      <td>0.0</td>\n",
       "      <td>0.0</td>\n",
       "      <td>0.0</td>\n",
       "      <td>1.0</td>\n",
       "      <td>1.0</td>\n",
       "      <td>5</td>\n",
       "      <td>4</td>\n",
       "    </tr>\n",
       "    <tr>\n",
       "      <th>4</th>\n",
       "      <td>2.0</td>\n",
       "      <td>1.0</td>\n",
       "      <td>5.0</td>\n",
       "      <td>1.0</td>\n",
       "      <td>5.0</td>\n",
       "      <td>4.0</td>\n",
       "      <td>3.0</td>\n",
       "      <td>2.0</td>\n",
       "      <td>4.0</td>\n",
       "      <td>2.0</td>\n",
       "      <td>...</td>\n",
       "      <td>0.0</td>\n",
       "      <td>0.0</td>\n",
       "      <td>0.0</td>\n",
       "      <td>0.0</td>\n",
       "      <td>0.0</td>\n",
       "      <td>0.0</td>\n",
       "      <td>1.0</td>\n",
       "      <td>0.0</td>\n",
       "      <td>2</td>\n",
       "      <td>2</td>\n",
       "    </tr>\n",
       "  </tbody>\n",
       "</table>\n",
       "<p>5 rows × 165 columns</p>\n",
       "</div>"
      ],
      "text/plain": [
       "   ALTERSKATEGORIE_GROB  FINANZ_MINIMALIST  FINANZ_SPARER  FINANZ_VORSORGER  \\\n",
       "0                   1.0                1.0            5.0               2.0   \n",
       "1                   3.0                1.0            4.0               1.0   \n",
       "2                   3.0                4.0            3.0               4.0   \n",
       "3                   1.0                3.0            1.0               5.0   \n",
       "4                   2.0                1.0            5.0               1.0   \n",
       "\n",
       "   FINANZ_ANLEGER  FINANZ_UNAUFFAELLIGER  FINANZ_HAUSBAUER  HEALTH_TYP  \\\n",
       "0             5.0                    4.0               5.0         3.0   \n",
       "1             2.0                    3.0               5.0         3.0   \n",
       "2             1.0                    3.0               2.0         3.0   \n",
       "3             2.0                    2.0               5.0         3.0   \n",
       "4             5.0                    4.0               3.0         2.0   \n",
       "\n",
       "   RETOURTYP_BK_S  SEMIO_SOZ  ...  x11_9A  x11_9B  x11_9C  x11_9D  x11_9E  \\\n",
       "0             1.0        5.0  ...     0.0     0.0     0.0     0.0     0.0   \n",
       "1             3.0        4.0  ...     0.0     0.0     0.0     0.0     0.0   \n",
       "2             5.0        6.0  ...     0.0     0.0     0.0     0.0     0.0   \n",
       "3             3.0        2.0  ...     0.0     0.0     0.0     0.0     0.0   \n",
       "4             4.0        2.0  ...     0.0     0.0     0.0     0.0     0.0   \n",
       "\n",
       "   x12_O  x12_W  movement  Waelth  LifeStage  \n",
       "0    0.0    1.0       0.0       5          1  \n",
       "1    0.0    1.0       1.0       2          4  \n",
       "2    0.0    1.0       0.0       4          3  \n",
       "3    0.0    1.0       1.0       5          4  \n",
       "4    0.0    1.0       0.0       2          2  \n",
       "\n",
       "[5 rows x 165 columns]"
      ]
     },
     "execution_count": 2,
     "metadata": {},
     "output_type": "execute_result"
    }
   ],
   "source": [
    "azdias_cleaned = pd.read_csv('Udacity_AZDIAS_Subset_Cleaned.csv', index_col = 0)\n",
    "azdias_cleaned.head()"
   ]
  },
  {
   "cell_type": "code",
   "execution_count": 3,
   "metadata": {},
   "outputs": [],
   "source": [
    "original_feat_info = pd.read_csv('AZDIAS_Feature_Summary.csv', delimiter = ';')\n",
    "original_feat_info.index = original_feat_info.attribute\n",
    "original_feat_info.drop('attribute', axis = 1, inplace = True)"
   ]
  },
  {
   "cell_type": "markdown",
   "metadata": {},
   "source": [
    "<a id = 'Trans'></a>\n",
    "## 3 - Feature Transformation"
   ]
  },
  {
   "cell_type": "markdown",
   "metadata": {},
   "source": [
    "<a id = 'Scale'></a>\n",
    "### 3.1 -  Apply Feature Scaling\n",
    "\n",
    "Before we apply dimensionality reduction techniques to the data, we need to perform feature scaling so that the principal component vectors are not influenced by the natural differences in scale for features. In this substep, we perform a standard scaling so that all the features have a mean of 0 and a standard deviation of 1. "
   ]
  },
  {
   "cell_type": "code",
   "execution_count": 4,
   "metadata": {},
   "outputs": [],
   "source": [
    "# Apply feature scaling to the general population demographics data.\n",
    "Sclaer_obj = StandardScaler()\n",
    "azdias2 = pd.DataFrame(Sclaer_obj.fit_transform(azdias_cleaned), columns = azdias_cleaned.columns)"
   ]
  },
  {
   "cell_type": "markdown",
   "metadata": {},
   "source": [
    "<a id = 'Dimen'></a>\n",
    "### 3.2 - Perform Dimensionality Reduction\n",
    "\n",
    "On the scaled data, we are now ready to apply dimensionality reduction techniques. Below is a summary of upcoming procedure. \n",
    "\n",
    "- Using sklearn's [PCA](http://scikit-learn.org/stable/modules/generated/sklearn.decomposition.PCA.html) class, we apply principal component analysis on the data, thus finding the vectors of maximal variance in the data. To start, we should not set any parameters (so all components are computed).\n",
    "- Checking out the ratio of variance explained by each principal component as well as the cumulative variance explained. In addition, we plot the cumulative values. Based on the findings, we select a value for the number of transformed features to retain for the clustering part.\n",
    "- Finally, we re-fit a PCA instance to perform the decided-on transformation on the selected number of the features."
   ]
  },
  {
   "cell_type": "code",
   "execution_count": 5,
   "metadata": {},
   "outputs": [],
   "source": [
    "# Apply PCA to the whole scaled data.\n",
    "pca, X_pca = do_pca(n_components = azdias_cleaned.shape[1], data = azdias2)"
   ]
  },
  {
   "cell_type": "code",
   "execution_count": 6,
   "metadata": {},
   "outputs": [
    {
     "data": {
      "image/png": "[encoded data removed]",
      "text/plain": [
       "<Figure size 720x432 with 1 Axes>"
      ]
     },
     "metadata": {
      "needs_background": "light"
     },
     "output_type": "display_data"
    }
   ],
   "source": [
    "# Investigate the variance accounted for by each principal component.\n",
    "vals,cumvals = scree_plot(pca)"
   ]
  },
  {
   "cell_type": "markdown",
   "metadata": {},
   "source": [
    "Having completed the PCA analysis using all the features, we retain specific number of components to facilitate the upcoming clustering as possible. Thus, we need to keep number of the features which results in explaining specific threshold of the original data's variance.  "
   ]
  },
  {
   "cell_type": "code",
   "execution_count": 7,
   "metadata": {},
   "outputs": [],
   "source": [
    "# Re-apply PCA to the data while selecting for number of components to retain.\n",
    "threshold_PCA_retain = .8\n",
    "comp_to_retain = np.where(cumvals <= threshold_PCA_retain)[0][-1]\n",
    "pca, X_pca = do_pca(n_components = comp_to_retain, data = azdias_cleaned)\n",
    "FinalPCAresults = pca_results(azdias_cleaned, pca)"
   ]
  },
  {
   "cell_type": "code",
   "execution_count": 8,
   "metadata": {},
   "outputs": [
    {
     "data": {
      "text/plain": [
       "(74, 166)"
      ]
     },
     "execution_count": 8,
     "metadata": {},
     "output_type": "execute_result"
    }
   ],
   "source": [
    "FinalPCAresults.shape"
   ]
  },
  {
   "cell_type": "markdown",
   "metadata": {},
   "source": [
    "Selecting to retain the principal components explaining `80%` of the variance in the dataset lead to have new data with only `83` columns. "
   ]
  },
  {
   "cell_type": "markdown",
   "metadata": {},
   "source": [
    "<a id = 'Inter'></a>\n",
    "### 3.3 -  Interpret Principal Components\n",
    "\n",
    "Now that we have our transformed principal components, it's a nice idea to check out the weight of each variable on the first few components to see if they can be interpreted in some fashion.\n",
    "\n",
    "In a nutshell, each principal component is a unit vector that points in the direction of highest variance (after accounting for the variance captured by earlier principal components). The further a weight is from zero, the more the principal component is in the direction of the corresponding feature. If two features have large weights of the same sign (both positive or both negative), then increases in one tend expect to be associated with increases in the other. To contrast, features with different signs can be expected to show a negative correlation: increases in one variable should result in a decrease in the other.\n",
    "\n",
    "- To investigate the features, we should map each weight to their corresponding feature name, then sort the features according to weight. The most interesting features for each principal component, then, will be those at the beginning and end of the sorted list.\n",
    "- We should investigate and interpret feature associations from the first three principal components in this substep. To help facilitate this, we wrote a function `map_weights` to print the sorted list of feature weights, for the *i*-th principal component. This might come in handy in the next step of the project, when you interpret the tendencies of the discovered clusters."
   ]
  },
  {
   "cell_type": "code",
   "execution_count": 9,
   "metadata": {},
   "outputs": [
    {
     "data": {
      "text/plain": [
       "SEMIO_VERT    0.3363\n",
       "SEMIO_FAM     0.2804\n",
       "SEMIO_SOZ     0.2767\n",
       "SEMIO_KULT    0.2662\n",
       "x1_5.0        0.1479\n",
       "               ...  \n",
       "SEMIO_RAT    -0.1733\n",
       "SEMIO_ERL    -0.2123\n",
       "SEMIO_KRIT   -0.2799\n",
       "SEMIO_DOM    -0.3103\n",
       "SEMIO_KAEM   -0.3345\n",
       "Name: Dimension 3, Length: 166, dtype: float64"
      ]
     },
     "execution_count": 9,
     "metadata": {},
     "output_type": "execute_result"
    }
   ],
   "source": [
    "# Map weights for the second principal component to corresponding feature names\n",
    "# and then print the linked values, sorted by weight.\n",
    "weights2 = map_weights(FinalPCAresults, 2)\n",
    "weights2"
   ]
  },
  {
   "cell_type": "code",
   "execution_count": 10,
   "metadata": {},
   "outputs": [
    {
     "data": {
      "text/plain": [
       "ANZ_PERSONEN    0.2620\n",
       "EWDICHTE        0.2482\n",
       "x4_5.0          0.2367\n",
       "x5_10.0         0.1935\n",
       "x6_5.0          0.1935\n",
       "                 ...  \n",
       "BALLRAUM       -0.1985\n",
       "INNENSTADT     -0.2057\n",
       "x6_4.0         -0.2068\n",
       "x3_1.0         -0.2877\n",
       "x4_1.0         -0.2877\n",
       "Name: Dimension 4, Length: 166, dtype: float64"
      ]
     },
     "execution_count": 10,
     "metadata": {},
     "output_type": "execute_result"
    }
   ],
   "source": [
    "# Map weights for the third principal component to corresponding feature names\n",
    "# and then print the linked values, sorted by weight.\n",
    "weights3 = map_weights(FinalPCAresults, 3)\n",
    "weights3"
   ]
  },
  {
   "cell_type": "markdown",
   "metadata": {},
   "source": [
    "### Discussion 2.3: Interpret Principal Components\n",
    "\n",
    "(Double-click this cell and replace this text with your own text, reporting your observations from detailed investigation of the first few principal components generated. Can we interpret positive and negative values from them in a meaningful way?)"
   ]
  },
  {
   "cell_type": "markdown",
   "metadata": {},
   "source": [
    "<a id = 'Clust'></a>\n",
    "## 4 -  Clustering"
   ]
  },
  {
   "cell_type": "markdown",
   "metadata": {},
   "source": [
    "<a id = 'Gener'></a>\n",
    "### 4.1 - Apply Clustering to General Population\n",
    "\n",
    "Having assessed and cleaned the demographics data, then scaled and transformed them. Now, it's time to see how the data clusters in the principal components space. In this substep, we will apply k-means clustering to the dataset and use the average within-cluster distances from each point to their assigned cluster's centroid to decide on a number of clusters to keep.\n",
    "\n",
    "A summary of the upcoming procedure is given below\n",
    "-  Performing k-means clustering on the PCA-transformed data using sklearn's [KMeans](http://scikit-learn.org/stable/modules/generated/sklearn.cluster.KMeans.html#sklearn.cluster.KMeans).\n",
    "- Computing the average difference from each point to its assigned cluster's center. \n",
    "- Performing the above two steps for a number of different cluster counts. You can then see how the average distance decreases with an increasing number of clusters. However, each additional cluster provides a smaller net benefit. Using this fact, we select a final number of clusters in which to group the data.\n",
    "- Having selected a final number of clusters to use, we re-fit a KMeans instance to perform the clustering operation."
   ]
  },
  {
   "cell_type": "code",
   "execution_count": 11,
   "metadata": {},
   "outputs": [
    {
     "data": {
      "text/plain": [
       "(1000, 74)"
      ]
     },
     "execution_count": 11,
     "metadata": {},
     "output_type": "execute_result"
    }
   ],
   "source": [
    "X_pca[0:1000].shape"
   ]
  },
  {
   "cell_type": "code",
   "execution_count": 12,
   "metadata": {},
   "outputs": [],
   "source": [
    "centers_1 = np.arange(20,30)\n",
    "scores_1 = []\n",
    "for k in centers_1:\n",
    "    model = KMeans(n_clusters = k)\n",
    "    model.fit(X_pca[0:1000])\n",
    "    scores_1.append(np.abs(model.score(X_pca[0:1000])))"
   ]
  },
  {
   "cell_type": "code",
   "execution_count": 13,
   "metadata": {},
   "outputs": [
    {
     "data": {
      "image/png": "[encoded data removed]",
      "text/plain": [
       "<Figure size 432x288 with 1 Axes>"
      ]
     },
     "metadata": {
      "needs_background": "light"
     },
     "output_type": "display_data"
    }
   ],
   "source": [
    "# Investigate the change in within-cluster distance across number of clusters.\n",
    "plt.plot(centers_1, scores_1, linestyle='--', marker='o', color='b');\n",
    "plt.xlabel('K');\n",
    "plt.ylabel('SSE');\n",
    "plt.title('SSE vs. K');"
   ]
  },
  {
   "cell_type": "code",
   "execution_count": 14,
   "metadata": {},
   "outputs": [],
   "source": [
    "# Re-fit the k-means model with the selected number of clusters and obtain\n",
    "# cluster predictions for the general population demographics data.\n",
    "k_best = 25\n",
    "labels,Kmeans_obj = fit_kmeans(X_pca[0:1000], k_best) #fit kmeans to get the labels"
   ]
  },
  {
   "cell_type": "code",
   "execution_count": 15,
   "metadata": {},
   "outputs": [
    {
     "data": {
      "image/png": "[encoded data removed]",
      "text/plain": [
       "<Figure size 432x288 with 1 Axes>"
      ]
     },
     "metadata": {
      "needs_background": "light"
     },
     "output_type": "display_data"
    }
   ],
   "source": [
    "# Plot the original data with clusters\n",
    "plt.scatter(azdias2['ALTERSKATEGORIE_GROB'].iloc[0:1000], azdias2['FINANZ_ANLEGER'].iloc[0:1000], c=labels, cmap='Set1');"
   ]
  },
  {
   "cell_type": "markdown",
   "metadata": {},
   "source": [
    "### Discussion 3.1: Apply Clustering to General Population\n",
    "\n",
    "(Double-click this cell and replace this text with your own text, reporting your findings and decisions regarding clustering. Into how many clusters have you decided to segment the population?)"
   ]
  },
  {
   "cell_type": "markdown",
   "metadata": {},
   "source": [
    "<a id = 'Custo'></a>\n",
    "### 5.2 -  Apply All Steps to the Customer Data\n",
    "\n",
    "Now we have clusters and cluster centers for the general population, it's time to see how the customer data maps on to those clusters. In the last step of the project, we will interpret how the general population fits apply to the customer data.\n",
    "\n",
    "A summary of the upcoming procedure is given below:\n",
    "- Loading the customer data\n",
    "- Applying the same cleansing pipeline done with the general population data\n",
    "- Applying the same feature transformation steps (i.e., scaling and pca) using the objects obtained previosuly. \n",
    "- Finally, clustering the tranformed data using the same clustering object. "
   ]
  },
  {
   "cell_type": "code",
   "execution_count": 17,
   "metadata": {},
   "outputs": [],
   "source": [
    "# Load in the customer demographics data.\n",
    "customers = pd.read_csv('Udacity_CUSTOMERS_Subset.csv', delimiter = ';')"
   ]
  },
  {
   "cell_type": "code",
   "execution_count": 19,
   "metadata": {},
   "outputs": [
    {
     "name": "stdout",
     "output_type": "stream",
     "text": [
      "Data cleansing pipeline...\n",
      "\t1-Replacing missing values per column with Nan...\n",
      "\t\tReplacing done\n",
      "\t2-Removing the outliars columns and rows...\n",
      "\t\tRemoving the outliars columns and rows done\n",
      "\t3-Feature Engineering...\n",
      "bin_cat is ['OST_WEST_KZ']\n",
      "Missing values by column : CJT_GESAMTTYP       3123\n",
      "FINANZTYP              0\n",
      "GFK_URLAUBERTYP     3123\n",
      "LP_FAMILIE_FEIN     9397\n",
      "LP_FAMILIE_GROB     9397\n",
      "LP_STATUS_FEIN      3123\n",
      "LP_STATUS_GROB      3123\n",
      "NATIONALITAET_KZ    2105\n",
      "SHOPPER_TYP         2338\n",
      "ZABEOTYP               0\n",
      "CAMEO_DEUG_2015     3189\n",
      "CAMEO_DEU_2015      3189\n",
      "OST_WEST_KZ         2563\n",
      "dtype: int64\n",
      "\t\tFeature Engineering done\n",
      "\t4-Removing missing values...\n",
      "\t\tRemoving missing values done.\n",
      "Cleaning pipeline done\n"
     ]
    }
   ],
   "source": [
    "# Apply preprocessing, feature transformation, and clustering from the general\n",
    "# demographics onto the customer data, obtaining cluster predictions for the\n",
    "# customer demographics data.\n",
    "customers_cleaned = clean_data(customers,original_feat_info)"
   ]
  },
  {
   "cell_type": "code",
   "execution_count": 20,
   "metadata": {},
   "outputs": [
    {
     "data": {
      "text/plain": [
       "((700781, 165), (131167, 165))"
      ]
     },
     "execution_count": 20,
     "metadata": {},
     "output_type": "execute_result"
    }
   ],
   "source": [
    "azdias_cleaned.shape, customers_cleaned.shape"
   ]
  },
  {
   "cell_type": "code",
   "execution_count": 22,
   "metadata": {
    "scrolled": false
   },
   "outputs": [
    {
     "data": {
      "text/html": [
       "<div>\n",
       "<style scoped>\n",
       "    .dataframe tbody tr th:only-of-type {\n",
       "        vertical-align: middle;\n",
       "    }\n",
       "\n",
       "    .dataframe tbody tr th {\n",
       "        vertical-align: top;\n",
       "    }\n",
       "\n",
       "    .dataframe thead th {\n",
       "        text-align: right;\n",
       "    }\n",
       "</style>\n",
       "<table border=\"1\" class=\"dataframe\">\n",
       "  <thead>\n",
       "    <tr style=\"text-align: right;\">\n",
       "      <th></th>\n",
       "      <th>ALTERSKATEGORIE_GROB</th>\n",
       "      <th>FINANZ_MINIMALIST</th>\n",
       "      <th>FINANZ_SPARER</th>\n",
       "      <th>FINANZ_VORSORGER</th>\n",
       "      <th>FINANZ_ANLEGER</th>\n",
       "      <th>FINANZ_UNAUFFAELLIGER</th>\n",
       "      <th>FINANZ_HAUSBAUER</th>\n",
       "      <th>HEALTH_TYP</th>\n",
       "      <th>RETOURTYP_BK_S</th>\n",
       "      <th>SEMIO_SOZ</th>\n",
       "      <th>...</th>\n",
       "      <th>x11_9A</th>\n",
       "      <th>x11_9B</th>\n",
       "      <th>x11_9C</th>\n",
       "      <th>x11_9D</th>\n",
       "      <th>x11_9E</th>\n",
       "      <th>x12_O</th>\n",
       "      <th>x12_W</th>\n",
       "      <th>movement</th>\n",
       "      <th>Waelth</th>\n",
       "      <th>LifeStage</th>\n",
       "    </tr>\n",
       "  </thead>\n",
       "  <tbody>\n",
       "    <tr>\n",
       "      <th>0</th>\n",
       "      <td>1.189108</td>\n",
       "      <td>1.395242</td>\n",
       "      <td>-1.155893</td>\n",
       "      <td>1.135148</td>\n",
       "      <td>-1.252721</td>\n",
       "      <td>-0.448381</td>\n",
       "      <td>-0.767295</td>\n",
       "      <td>-1.603396</td>\n",
       "      <td>1.101379</td>\n",
       "      <td>0.921721</td>\n",
       "      <td>...</td>\n",
       "      <td>-0.160995</td>\n",
       "      <td>-0.188293</td>\n",
       "      <td>-0.176486</td>\n",
       "      <td>-0.188829</td>\n",
       "      <td>-0.076318</td>\n",
       "      <td>-0.525822</td>\n",
       "      <td>0.525822</td>\n",
       "      <td>-0.754823</td>\n",
       "      <td>-1.522191</td>\n",
       "      <td>0.075540</td>\n",
       "    </tr>\n",
       "    <tr>\n",
       "      <th>1</th>\n",
       "      <td>1.189108</td>\n",
       "      <td>1.395242</td>\n",
       "      <td>-1.155893</td>\n",
       "      <td>1.135148</td>\n",
       "      <td>-1.252721</td>\n",
       "      <td>0.995122</td>\n",
       "      <td>0.664538</td>\n",
       "      <td>-0.279699</td>\n",
       "      <td>1.101379</td>\n",
       "      <td>-1.126994</td>\n",
       "      <td>...</td>\n",
       "      <td>-0.160995</td>\n",
       "      <td>-0.188293</td>\n",
       "      <td>-0.176486</td>\n",
       "      <td>-0.188829</td>\n",
       "      <td>-0.076318</td>\n",
       "      <td>-0.525822</td>\n",
       "      <td>0.525822</td>\n",
       "      <td>-0.754823</td>\n",
       "      <td>-0.157527</td>\n",
       "      <td>0.751356</td>\n",
       "    </tr>\n",
       "    <tr>\n",
       "      <th>2</th>\n",
       "      <td>0.214181</td>\n",
       "      <td>-0.069741</td>\n",
       "      <td>-1.155893</td>\n",
       "      <td>0.412379</td>\n",
       "      <td>0.817391</td>\n",
       "      <td>1.716874</td>\n",
       "      <td>-0.767295</td>\n",
       "      <td>1.043998</td>\n",
       "      <td>1.101379</td>\n",
       "      <td>-0.102637</td>\n",
       "      <td>...</td>\n",
       "      <td>-0.160995</td>\n",
       "      <td>-0.188293</td>\n",
       "      <td>-0.176486</td>\n",
       "      <td>-0.188829</td>\n",
       "      <td>-0.076318</td>\n",
       "      <td>-0.525822</td>\n",
       "      <td>0.525822</td>\n",
       "      <td>-0.754823</td>\n",
       "      <td>0.524805</td>\n",
       "      <td>-1.276091</td>\n",
       "    </tr>\n",
       "    <tr>\n",
       "      <th>3</th>\n",
       "      <td>0.214181</td>\n",
       "      <td>1.395242</td>\n",
       "      <td>-1.155893</td>\n",
       "      <td>1.135148</td>\n",
       "      <td>-1.252721</td>\n",
       "      <td>-0.448381</td>\n",
       "      <td>-0.051378</td>\n",
       "      <td>1.043998</td>\n",
       "      <td>-0.278312</td>\n",
       "      <td>0.921721</td>\n",
       "      <td>...</td>\n",
       "      <td>-0.160995</td>\n",
       "      <td>-0.188293</td>\n",
       "      <td>-0.176486</td>\n",
       "      <td>-0.188829</td>\n",
       "      <td>-0.076318</td>\n",
       "      <td>-0.525822</td>\n",
       "      <td>0.525822</td>\n",
       "      <td>-0.754823</td>\n",
       "      <td>-0.157527</td>\n",
       "      <td>0.751356</td>\n",
       "    </tr>\n",
       "    <tr>\n",
       "      <th>4</th>\n",
       "      <td>1.189108</td>\n",
       "      <td>1.395242</td>\n",
       "      <td>-1.155893</td>\n",
       "      <td>1.135148</td>\n",
       "      <td>-1.252721</td>\n",
       "      <td>-1.170132</td>\n",
       "      <td>-0.767295</td>\n",
       "      <td>-0.279699</td>\n",
       "      <td>1.101379</td>\n",
       "      <td>-0.102637</td>\n",
       "      <td>...</td>\n",
       "      <td>-0.160995</td>\n",
       "      <td>-0.188293</td>\n",
       "      <td>-0.176486</td>\n",
       "      <td>-0.188829</td>\n",
       "      <td>-0.076318</td>\n",
       "      <td>-0.525822</td>\n",
       "      <td>0.525822</td>\n",
       "      <td>-0.754823</td>\n",
       "      <td>-0.839859</td>\n",
       "      <td>0.075540</td>\n",
       "    </tr>\n",
       "    <tr>\n",
       "      <th>...</th>\n",
       "      <td>...</td>\n",
       "      <td>...</td>\n",
       "      <td>...</td>\n",
       "      <td>...</td>\n",
       "      <td>...</td>\n",
       "      <td>...</td>\n",
       "      <td>...</td>\n",
       "      <td>...</td>\n",
       "      <td>...</td>\n",
       "      <td>...</td>\n",
       "      <td>...</td>\n",
       "      <td>...</td>\n",
       "      <td>...</td>\n",
       "      <td>...</td>\n",
       "      <td>...</td>\n",
       "      <td>...</td>\n",
       "      <td>...</td>\n",
       "      <td>...</td>\n",
       "      <td>...</td>\n",
       "      <td>...</td>\n",
       "      <td>...</td>\n",
       "    </tr>\n",
       "    <tr>\n",
       "      <th>131162</th>\n",
       "      <td>-0.760746</td>\n",
       "      <td>-0.802233</td>\n",
       "      <td>-1.155893</td>\n",
       "      <td>1.135148</td>\n",
       "      <td>-1.252721</td>\n",
       "      <td>-0.448381</td>\n",
       "      <td>1.380455</td>\n",
       "      <td>-0.279699</td>\n",
       "      <td>1.101379</td>\n",
       "      <td>-1.126994</td>\n",
       "      <td>...</td>\n",
       "      <td>-0.160995</td>\n",
       "      <td>-0.188293</td>\n",
       "      <td>-0.176486</td>\n",
       "      <td>-0.188829</td>\n",
       "      <td>-0.076318</td>\n",
       "      <td>-0.525822</td>\n",
       "      <td>0.525822</td>\n",
       "      <td>-0.754823</td>\n",
       "      <td>-1.522191</td>\n",
       "      <td>0.751356</td>\n",
       "    </tr>\n",
       "    <tr>\n",
       "      <th>131163</th>\n",
       "      <td>0.214181</td>\n",
       "      <td>1.395242</td>\n",
       "      <td>-1.155893</td>\n",
       "      <td>1.135148</td>\n",
       "      <td>-1.252721</td>\n",
       "      <td>-1.170132</td>\n",
       "      <td>-0.767295</td>\n",
       "      <td>1.043998</td>\n",
       "      <td>1.101379</td>\n",
       "      <td>0.921721</td>\n",
       "      <td>...</td>\n",
       "      <td>-0.160995</td>\n",
       "      <td>-0.188293</td>\n",
       "      <td>-0.176486</td>\n",
       "      <td>-0.188829</td>\n",
       "      <td>-0.076318</td>\n",
       "      <td>-0.525822</td>\n",
       "      <td>0.525822</td>\n",
       "      <td>-0.754823</td>\n",
       "      <td>-1.522191</td>\n",
       "      <td>0.751356</td>\n",
       "    </tr>\n",
       "    <tr>\n",
       "      <th>131164</th>\n",
       "      <td>1.189108</td>\n",
       "      <td>1.395242</td>\n",
       "      <td>-1.155893</td>\n",
       "      <td>1.135148</td>\n",
       "      <td>-1.252721</td>\n",
       "      <td>-1.170132</td>\n",
       "      <td>-0.767295</td>\n",
       "      <td>-0.279699</td>\n",
       "      <td>-0.278312</td>\n",
       "      <td>-0.102637</td>\n",
       "      <td>...</td>\n",
       "      <td>-0.160995</td>\n",
       "      <td>-0.188293</td>\n",
       "      <td>-0.176486</td>\n",
       "      <td>-0.188829</td>\n",
       "      <td>-0.076318</td>\n",
       "      <td>-0.525822</td>\n",
       "      <td>0.525822</td>\n",
       "      <td>-0.754823</td>\n",
       "      <td>-0.839859</td>\n",
       "      <td>0.751356</td>\n",
       "    </tr>\n",
       "    <tr>\n",
       "      <th>131165</th>\n",
       "      <td>0.214181</td>\n",
       "      <td>-0.802233</td>\n",
       "      <td>-1.155893</td>\n",
       "      <td>1.135148</td>\n",
       "      <td>-1.252721</td>\n",
       "      <td>-0.448381</td>\n",
       "      <td>1.380455</td>\n",
       "      <td>-0.279699</td>\n",
       "      <td>1.101379</td>\n",
       "      <td>-0.102637</td>\n",
       "      <td>...</td>\n",
       "      <td>-0.160995</td>\n",
       "      <td>-0.188293</td>\n",
       "      <td>-0.176486</td>\n",
       "      <td>-0.188829</td>\n",
       "      <td>-0.076318</td>\n",
       "      <td>-0.525822</td>\n",
       "      <td>0.525822</td>\n",
       "      <td>-0.754823</td>\n",
       "      <td>-0.839859</td>\n",
       "      <td>0.751356</td>\n",
       "    </tr>\n",
       "    <tr>\n",
       "      <th>131166</th>\n",
       "      <td>-0.760746</td>\n",
       "      <td>1.395242</td>\n",
       "      <td>-1.155893</td>\n",
       "      <td>1.135148</td>\n",
       "      <td>-1.252721</td>\n",
       "      <td>-1.170132</td>\n",
       "      <td>-0.767295</td>\n",
       "      <td>-0.279699</td>\n",
       "      <td>-0.278312</td>\n",
       "      <td>1.433900</td>\n",
       "      <td>...</td>\n",
       "      <td>-0.160995</td>\n",
       "      <td>-0.188293</td>\n",
       "      <td>-0.176486</td>\n",
       "      <td>-0.188829</td>\n",
       "      <td>-0.076318</td>\n",
       "      <td>-0.525822</td>\n",
       "      <td>0.525822</td>\n",
       "      <td>1.324813</td>\n",
       "      <td>-0.157527</td>\n",
       "      <td>0.075540</td>\n",
       "    </tr>\n",
       "  </tbody>\n",
       "</table>\n",
       "<p>131167 rows × 165 columns</p>\n",
       "</div>"
      ],
      "text/plain": [
       "        ALTERSKATEGORIE_GROB  FINANZ_MINIMALIST  FINANZ_SPARER  \\\n",
       "0                   1.189108           1.395242      -1.155893   \n",
       "1                   1.189108           1.395242      -1.155893   \n",
       "2                   0.214181          -0.069741      -1.155893   \n",
       "3                   0.214181           1.395242      -1.155893   \n",
       "4                   1.189108           1.395242      -1.155893   \n",
       "...                      ...                ...            ...   \n",
       "131162             -0.760746          -0.802233      -1.155893   \n",
       "131163              0.214181           1.395242      -1.155893   \n",
       "131164              1.189108           1.395242      -1.155893   \n",
       "131165              0.214181          -0.802233      -1.155893   \n",
       "131166             -0.760746           1.395242      -1.155893   \n",
       "\n",
       "        FINANZ_VORSORGER  FINANZ_ANLEGER  FINANZ_UNAUFFAELLIGER  \\\n",
       "0               1.135148       -1.252721              -0.448381   \n",
       "1               1.135148       -1.252721               0.995122   \n",
       "2               0.412379        0.817391               1.716874   \n",
       "3               1.135148       -1.252721              -0.448381   \n",
       "4               1.135148       -1.252721              -1.170132   \n",
       "...                  ...             ...                    ...   \n",
       "131162          1.135148       -1.252721              -0.448381   \n",
       "131163          1.135148       -1.252721              -1.170132   \n",
       "131164          1.135148       -1.252721              -1.170132   \n",
       "131165          1.135148       -1.252721              -0.448381   \n",
       "131166          1.135148       -1.252721              -1.170132   \n",
       "\n",
       "        FINANZ_HAUSBAUER  HEALTH_TYP  RETOURTYP_BK_S  SEMIO_SOZ  ...  \\\n",
       "0              -0.767295   -1.603396        1.101379   0.921721  ...   \n",
       "1               0.664538   -0.279699        1.101379  -1.126994  ...   \n",
       "2              -0.767295    1.043998        1.101379  -0.102637  ...   \n",
       "3              -0.051378    1.043998       -0.278312   0.921721  ...   \n",
       "4              -0.767295   -0.279699        1.101379  -0.102637  ...   \n",
       "...                  ...         ...             ...        ...  ...   \n",
       "131162          1.380455   -0.279699        1.101379  -1.126994  ...   \n",
       "131163         -0.767295    1.043998        1.101379   0.921721  ...   \n",
       "131164         -0.767295   -0.279699       -0.278312  -0.102637  ...   \n",
       "131165          1.380455   -0.279699        1.101379  -0.102637  ...   \n",
       "131166         -0.767295   -0.279699       -0.278312   1.433900  ...   \n",
       "\n",
       "          x11_9A    x11_9B    x11_9C    x11_9D    x11_9E     x12_O     x12_W  \\\n",
       "0      -0.160995 -0.188293 -0.176486 -0.188829 -0.076318 -0.525822  0.525822   \n",
       "1      -0.160995 -0.188293 -0.176486 -0.188829 -0.076318 -0.525822  0.525822   \n",
       "2      -0.160995 -0.188293 -0.176486 -0.188829 -0.076318 -0.525822  0.525822   \n",
       "3      -0.160995 -0.188293 -0.176486 -0.188829 -0.076318 -0.525822  0.525822   \n",
       "4      -0.160995 -0.188293 -0.176486 -0.188829 -0.076318 -0.525822  0.525822   \n",
       "...          ...       ...       ...       ...       ...       ...       ...   \n",
       "131162 -0.160995 -0.188293 -0.176486 -0.188829 -0.076318 -0.525822  0.525822   \n",
       "131163 -0.160995 -0.188293 -0.176486 -0.188829 -0.076318 -0.525822  0.525822   \n",
       "131164 -0.160995 -0.188293 -0.176486 -0.188829 -0.076318 -0.525822  0.525822   \n",
       "131165 -0.160995 -0.188293 -0.176486 -0.188829 -0.076318 -0.525822  0.525822   \n",
       "131166 -0.160995 -0.188293 -0.176486 -0.188829 -0.076318 -0.525822  0.525822   \n",
       "\n",
       "        movement    Waelth  LifeStage  \n",
       "0      -0.754823 -1.522191   0.075540  \n",
       "1      -0.754823 -0.157527   0.751356  \n",
       "2      -0.754823  0.524805  -1.276091  \n",
       "3      -0.754823 -0.157527   0.751356  \n",
       "4      -0.754823 -0.839859   0.075540  \n",
       "...          ...       ...        ...  \n",
       "131162 -0.754823 -1.522191   0.751356  \n",
       "131163 -0.754823 -1.522191   0.751356  \n",
       "131164 -0.754823 -0.839859   0.751356  \n",
       "131165 -0.754823 -0.839859   0.751356  \n",
       "131166  1.324813 -0.157527   0.075540  \n",
       "\n",
       "[131167 rows x 165 columns]"
      ]
     },
     "execution_count": 22,
     "metadata": {},
     "output_type": "execute_result"
    }
   ],
   "source": [
    "customers_scaled = pd.DataFrame(Sclaer_obj.transform(customers_cleaned), columns = customers_cleaned.columns)\n",
    "customers_scaled"
   ]
  },
  {
   "cell_type": "code",
   "execution_count": 23,
   "metadata": {},
   "outputs": [],
   "source": [
    "customers_transformed = pca.transform(customers_scaled)\n",
    "customers_labels = Kmeans_obj.transform(customers_transformed)"
   ]
  },
  {
   "cell_type": "code",
   "execution_count": 27,
   "metadata": {},
   "outputs": [
    {
     "data": {
      "text/plain": [
       "array([[14.19874128, 16.13699552, 14.37804229, ..., 20.42558751,\n",
       "        15.58359708, 13.68691204],\n",
       "       [13.32178563, 13.82074671, 13.59288388, ..., 18.360913  ,\n",
       "        13.90855292, 11.71229731],\n",
       "       [14.72308919, 14.5224832 , 13.75531965, ..., 20.08362412,\n",
       "        15.47553879, 12.51428542],\n",
       "       ...,\n",
       "       [13.10110698, 14.2812737 , 13.27513191, ..., 19.10939034,\n",
       "        15.20804608, 12.0307909 ],\n",
       "       [12.5718027 , 12.82785194, 12.50498041, ..., 18.43953731,\n",
       "        13.99137805, 11.36129853],\n",
       "       [13.57937884, 14.49435093, 13.4626847 , ..., 18.40029257,\n",
       "         8.14781727, 11.75720241]])"
      ]
     },
     "execution_count": 27,
     "metadata": {},
     "output_type": "execute_result"
    }
   ],
   "source": [
    "customers_labels"
   ]
  },
  {
   "cell_type": "markdown",
   "metadata": {},
   "source": [
    "<a id = 'Compa'></a>\n",
    "### 5.3 - Compare Customer Data to Demographics Data\n",
    "\n",
    "At this point, you have clustered data based on demographics of the general population of Germany, and seen how the customer data for a mail-order sales company maps onto those demographic clusters. In this final substep, you will compare the two cluster distributions to see where the strongest customer base for the company is.\n",
    "\n",
    "Consider the proportion of persons in each cluster for the general population, and the proportions for the customers. If we think the company's customer base to be universal, then the cluster assignment proportions should be fairly similar between the two. If there are only particular segments of the population that are interested in the company's products, then we should see a mismatch from one to the other. If there is a higher proportion of persons in a cluster for the customer data compared to the general population (e.g. 5% of persons are assigned to a cluster for the general population, but 15% of the customer data is closest to that cluster's centroid) then that suggests the people in that cluster to be a target audience for the company. On the other hand, the proportion of the data in a cluster being larger in the general population than the customer data (e.g. only 2% of customers closest to a population centroid that captures 6% of the data) suggests that group of persons to be outside of the target demographics.\n",
    "\n",
    "Take a look at the following points in this step:\n",
    "\n",
    "- Compute the proportion of data points in each cluster for the general population and the customer data. Visualizations will be useful here: both for the individual dataset proportions, but also to visualize the ratios in cluster representation between groups. Seaborn's [`countplot()`](https://seaborn.pydata.org/generated/seaborn.countplot.html) or [`barplot()`](https://seaborn.pydata.org/generated/seaborn.barplot.html) function could be handy.\n",
    "  - Recall the analysis you performed in step 1.1.3 of the project, where you separated out certain data points from the dataset if they had more than a specified threshold of missing values. If you found that this group was qualitatively different from the main bulk of the data, you should treat this as an additional data cluster in this analysis. Make sure that you account for the number of data points in this subset, for both the general population and customer datasets, when making your computations!\n",
    "- Which cluster or clusters are overrepresented in the customer dataset compared to the general population? Select at least one such cluster and infer what kind of people might be represented by that cluster. Use the principal component interpretations from step 2.3 or look at additional components to help you make this inference. Alternatively, you can use the `.inverse_transform()` method of the PCA and StandardScaler objects to transform centroids back to the original data space and interpret the retrieved values directly.\n",
    "- Perform a similar investigation for the underrepresented clusters. Which cluster or clusters are underrepresented in the customer dataset compared to the general population, and what kinds of people are typified by these clusters?"
   ]
  },
  {
   "cell_type": "code",
   "execution_count": 24,
   "metadata": {},
   "outputs": [],
   "source": [
    "# Compare the proportion of data in each cluster for the customer data to the\n",
    "# proportion of data in each cluster for the general population.\n",
    "\n"
   ]
  },
  {
   "cell_type": "code",
   "execution_count": 25,
   "metadata": {},
   "outputs": [],
   "source": [
    "# What kinds of people are part of a cluster that is overrepresented in the\n",
    "# customer data compared to the general population?\n",
    "\n"
   ]
  },
  {
   "cell_type": "code",
   "execution_count": 26,
   "metadata": {},
   "outputs": [],
   "source": [
    "# What kinds of people are part of a cluster that is underrepresented in the\n",
    "# customer data compared to the general population?\n",
    "\n"
   ]
  },
  {
   "cell_type": "markdown",
   "metadata": {},
   "source": [
    "### Discussion 3.3: Compare Customer Data to Demographics Data\n",
    "\n",
    "(Double-click this cell and replace this text with your own text, reporting findings and conclusions from the clustering analysis. Can we describe segments of the population that are relatively popular with the mail-order company, or relatively unpopular with the company?)"
   ]
  },
  {
   "cell_type": "markdown",
   "metadata": {},
   "source": [
    "> Congratulations on making it this far in the project! Before you finish, make sure to check through the entire notebook from top to bottom to make sure that your analysis follows a logical flow and all of your findings are documented in **Discussion** cells. Once you've checked over all of your work, you should export the notebook as an HTML document to submit for evaluation. You can do this from the menu, navigating to **File -> Download as -> HTML (.html)**. You will submit both that document and this notebook for your project submission."
   ]
  },
  {
   "cell_type": "code",
   "execution_count": null,
   "metadata": {},
   "outputs": [],
   "source": []
  }
 ],
 "metadata": {
  "kernelspec": {
   "display_name": "Python 3",
   "language": "python",
   "name": "python3"
  },
  "language_info": {
   "codemirror_mode": {
    "name": "ipython",
    "version": 3
   },
   "file_extension": ".py",
   "mimetype": "text/x-python",
   "name": "python",
   "nbconvert_exporter": "python",
   "pygments_lexer": "ipython3",
   "version": "3.7.9"
  }
 },
 "nbformat": 4,
 "nbformat_minor": 2
}
