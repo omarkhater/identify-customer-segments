{
 "cells": [
  {
   "cell_type": "markdown",
   "metadata": {},
   "source": [
    "# <center> Identify Customer Segments- Machine Learning </center>"
   ]
  },
  {
   "cell_type": "markdown",
   "metadata": {},
   "source": [
    "## Table of Contents"
   ]
  },
  {
   "cell_type": "markdown",
   "metadata": {},
   "source": [
    "1. <a href=\"#Intro\">Introduction</a>\n",
    "2. <a href=\"#Trans\">Feature Transformation</a>\n",
    "    * <a href=\"#Scale\"> 2.1 - Apply Feature Scaling </a>\n",
    "    * <a href=\"#Dimen\"> 2.2 - Perform Dimensionality Reduction </a>\n",
    "    * <a href=\"#Inter\"> 2.3 - Interpret Principal Components </a>\n",
    "3. <a href=\"#Clust\">Clustering </a>\n",
    "    * <a href=\"#Gener\"> 3.1 - Apply Clustering to General Population </a>\n",
    "    * <a href=\"#Custo\"> 3.2 - Apply All Steps to the Customer Data </a>\n",
    "    * <a href=\"#Compa\"> 3.3 - Compare Customer Data to Demographics Data </a>"
   ]
  },
  {
   "cell_type": "markdown",
   "metadata": {},
   "source": [
    "<a id = 'Intro'></a>\n",
    "## Introduction\n",
    "\n",
    "Based on the [data cleansing](http://localhost:8888/notebooks/Identify_Customer_Segments_Exploration.ipynb)  notebook, we now have a solid understanding of the data under consideration. _In this notebook_, we load the previously cleaned data then we proceed with the <u>_feature transformation_</u> as well as the <u>_clustering parts_</u> of this project. We conclude this analysis by applying the whole pipeline for an another dataset containing the same demographic data about specific customers in a trial of analysing the common patterns associated with the general population. Hopefully, this process will lead to a better understanding of the customer behaviours in shadow of the available data about general population. "
   ]
  },
  {
   "cell_type": "code",
   "execution_count": 1,
   "metadata": {},
   "outputs": [],
   "source": [
    "import numpy as np\n",
    "import pandas as pd\n",
    "import matplotlib.pyplot as plt\n",
    "import seaborn as sns\n",
    "%matplotlib inline\n",
    "from sklearn import preprocessing\n",
    "from sklearn.preprocessing import StandardScaler\n",
    "from sklearn.decomposition import PCA\n",
    "from helpers import do_pca, scree_plot, pca_results, map_weights,fit_kmeans, clean_data\n",
    "from sklearn.cluster import KMeans"
   ]
  },
  {
   "cell_type": "markdown",
   "metadata": {},
   "source": [
    "<a id = 'Clean'></a>\n",
    "### 2 -  Load cleaned dataset\n",
    "\n",
    "The complete data cleaning procedure and detailed justification for each step is given on the [Data Cleansing notebook](http://localhost:8888/notebooks/Identify_Customer_Segments_Exploration.ipynb). To simplify this notebook, we just load the resulted dataframe. "
   ]
  },
  {
   "cell_type": "code",
   "execution_count": 2,
   "metadata": {},
   "outputs": [
    {
     "data": {
      "text/html": [
       "<div>\n",
       "<style scoped>\n",
       "    .dataframe tbody tr th:only-of-type {\n",
       "        vertical-align: middle;\n",
       "    }\n",
       "\n",
       "    .dataframe tbody tr th {\n",
       "        vertical-align: top;\n",
       "    }\n",
       "\n",
       "    .dataframe thead th {\n",
       "        text-align: right;\n",
       "    }\n",
       "</style>\n",
       "<table border=\"1\" class=\"dataframe\">\n",
       "  <thead>\n",
       "    <tr style=\"text-align: right;\">\n",
       "      <th></th>\n",
       "      <th>ALTERSKATEGORIE_GROB</th>\n",
       "      <th>FINANZ_MINIMALIST</th>\n",
       "      <th>FINANZ_SPARER</th>\n",
       "      <th>FINANZ_VORSORGER</th>\n",
       "      <th>FINANZ_ANLEGER</th>\n",
       "      <th>FINANZ_UNAUFFAELLIGER</th>\n",
       "      <th>FINANZ_HAUSBAUER</th>\n",
       "      <th>HEALTH_TYP</th>\n",
       "      <th>RETOURTYP_BK_S</th>\n",
       "      <th>SEMIO_SOZ</th>\n",
       "      <th>...</th>\n",
       "      <th>x11_9A</th>\n",
       "      <th>x11_9B</th>\n",
       "      <th>x11_9C</th>\n",
       "      <th>x11_9D</th>\n",
       "      <th>x11_9E</th>\n",
       "      <th>x12_O</th>\n",
       "      <th>x12_W</th>\n",
       "      <th>movement</th>\n",
       "      <th>Waelth</th>\n",
       "      <th>LifeStage</th>\n",
       "    </tr>\n",
       "  </thead>\n",
       "  <tbody>\n",
       "    <tr>\n",
       "      <th>0</th>\n",
       "      <td>1.0</td>\n",
       "      <td>1.0</td>\n",
       "      <td>5.0</td>\n",
       "      <td>2.0</td>\n",
       "      <td>5.0</td>\n",
       "      <td>4.0</td>\n",
       "      <td>5.0</td>\n",
       "      <td>3.0</td>\n",
       "      <td>1.0</td>\n",
       "      <td>5.0</td>\n",
       "      <td>...</td>\n",
       "      <td>0.0</td>\n",
       "      <td>0.0</td>\n",
       "      <td>0.0</td>\n",
       "      <td>0.0</td>\n",
       "      <td>0.0</td>\n",
       "      <td>0.0</td>\n",
       "      <td>1.0</td>\n",
       "      <td>0.0</td>\n",
       "      <td>5</td>\n",
       "      <td>1</td>\n",
       "    </tr>\n",
       "    <tr>\n",
       "      <th>1</th>\n",
       "      <td>3.0</td>\n",
       "      <td>1.0</td>\n",
       "      <td>4.0</td>\n",
       "      <td>1.0</td>\n",
       "      <td>2.0</td>\n",
       "      <td>3.0</td>\n",
       "      <td>5.0</td>\n",
       "      <td>3.0</td>\n",
       "      <td>3.0</td>\n",
       "      <td>4.0</td>\n",
       "      <td>...</td>\n",
       "      <td>0.0</td>\n",
       "      <td>0.0</td>\n",
       "      <td>0.0</td>\n",
       "      <td>0.0</td>\n",
       "      <td>0.0</td>\n",
       "      <td>0.0</td>\n",
       "      <td>1.0</td>\n",
       "      <td>1.0</td>\n",
       "      <td>2</td>\n",
       "      <td>4</td>\n",
       "    </tr>\n",
       "    <tr>\n",
       "      <th>2</th>\n",
       "      <td>3.0</td>\n",
       "      <td>4.0</td>\n",
       "      <td>3.0</td>\n",
       "      <td>4.0</td>\n",
       "      <td>1.0</td>\n",
       "      <td>3.0</td>\n",
       "      <td>2.0</td>\n",
       "      <td>3.0</td>\n",
       "      <td>5.0</td>\n",
       "      <td>6.0</td>\n",
       "      <td>...</td>\n",
       "      <td>0.0</td>\n",
       "      <td>0.0</td>\n",
       "      <td>0.0</td>\n",
       "      <td>0.0</td>\n",
       "      <td>0.0</td>\n",
       "      <td>0.0</td>\n",
       "      <td>1.0</td>\n",
       "      <td>0.0</td>\n",
       "      <td>4</td>\n",
       "      <td>3</td>\n",
       "    </tr>\n",
       "    <tr>\n",
       "      <th>3</th>\n",
       "      <td>1.0</td>\n",
       "      <td>3.0</td>\n",
       "      <td>1.0</td>\n",
       "      <td>5.0</td>\n",
       "      <td>2.0</td>\n",
       "      <td>2.0</td>\n",
       "      <td>5.0</td>\n",
       "      <td>3.0</td>\n",
       "      <td>3.0</td>\n",
       "      <td>2.0</td>\n",
       "      <td>...</td>\n",
       "      <td>0.0</td>\n",
       "      <td>0.0</td>\n",
       "      <td>0.0</td>\n",
       "      <td>0.0</td>\n",
       "      <td>0.0</td>\n",
       "      <td>0.0</td>\n",
       "      <td>1.0</td>\n",
       "      <td>1.0</td>\n",
       "      <td>5</td>\n",
       "      <td>4</td>\n",
       "    </tr>\n",
       "    <tr>\n",
       "      <th>4</th>\n",
       "      <td>2.0</td>\n",
       "      <td>1.0</td>\n",
       "      <td>5.0</td>\n",
       "      <td>1.0</td>\n",
       "      <td>5.0</td>\n",
       "      <td>4.0</td>\n",
       "      <td>3.0</td>\n",
       "      <td>2.0</td>\n",
       "      <td>4.0</td>\n",
       "      <td>2.0</td>\n",
       "      <td>...</td>\n",
       "      <td>0.0</td>\n",
       "      <td>0.0</td>\n",
       "      <td>0.0</td>\n",
       "      <td>0.0</td>\n",
       "      <td>0.0</td>\n",
       "      <td>0.0</td>\n",
       "      <td>1.0</td>\n",
       "      <td>0.0</td>\n",
       "      <td>2</td>\n",
       "      <td>2</td>\n",
       "    </tr>\n",
       "  </tbody>\n",
       "</table>\n",
       "<p>5 rows × 165 columns</p>\n",
       "</div>"
      ],
      "text/plain": [
       "   ALTERSKATEGORIE_GROB  FINANZ_MINIMALIST  FINANZ_SPARER  FINANZ_VORSORGER  \\\n",
       "0                   1.0                1.0            5.0               2.0   \n",
       "1                   3.0                1.0            4.0               1.0   \n",
       "2                   3.0                4.0            3.0               4.0   \n",
       "3                   1.0                3.0            1.0               5.0   \n",
       "4                   2.0                1.0            5.0               1.0   \n",
       "\n",
       "   FINANZ_ANLEGER  FINANZ_UNAUFFAELLIGER  FINANZ_HAUSBAUER  HEALTH_TYP  \\\n",
       "0             5.0                    4.0               5.0         3.0   \n",
       "1             2.0                    3.0               5.0         3.0   \n",
       "2             1.0                    3.0               2.0         3.0   \n",
       "3             2.0                    2.0               5.0         3.0   \n",
       "4             5.0                    4.0               3.0         2.0   \n",
       "\n",
       "   RETOURTYP_BK_S  SEMIO_SOZ  ...  x11_9A  x11_9B  x11_9C  x11_9D  x11_9E  \\\n",
       "0             1.0        5.0  ...     0.0     0.0     0.0     0.0     0.0   \n",
       "1             3.0        4.0  ...     0.0     0.0     0.0     0.0     0.0   \n",
       "2             5.0        6.0  ...     0.0     0.0     0.0     0.0     0.0   \n",
       "3             3.0        2.0  ...     0.0     0.0     0.0     0.0     0.0   \n",
       "4             4.0        2.0  ...     0.0     0.0     0.0     0.0     0.0   \n",
       "\n",
       "   x12_O  x12_W  movement  Waelth  LifeStage  \n",
       "0    0.0    1.0       0.0       5          1  \n",
       "1    0.0    1.0       1.0       2          4  \n",
       "2    0.0    1.0       0.0       4          3  \n",
       "3    0.0    1.0       1.0       5          4  \n",
       "4    0.0    1.0       0.0       2          2  \n",
       "\n",
       "[5 rows x 165 columns]"
      ]
     },
     "execution_count": 2,
     "metadata": {},
     "output_type": "execute_result"
    }
   ],
   "source": [
    "azdias_cleaned = pd.read_csv('Udacity_AZDIAS_Subset_Cleaned.csv', index_col = 0)\n",
    "azdias_cleaned.head()"
   ]
  },
  {
   "cell_type": "code",
   "execution_count": 3,
   "metadata": {},
   "outputs": [],
   "source": [
    "original_feat_info = pd.read_csv('AZDIAS_Feature_Summary.csv', delimiter = ';')\n",
    "original_feat_info.index = original_feat_info.attribute\n",
    "original_feat_info.drop('attribute', axis = 1, inplace = True)"
   ]
  },
  {
   "cell_type": "markdown",
   "metadata": {},
   "source": [
    "<a id = 'Trans'></a>\n",
    "## 3 - Feature Transformation"
   ]
  },
  {
   "cell_type": "markdown",
   "metadata": {},
   "source": [
    "<a id = 'Scale'></a>\n",
    "### 3.1 -  Apply Feature Scaling\n",
    "\n",
    "Before we apply dimensionality reduction techniques to the data, we need to perform feature scaling so that the principal component vectors are not influenced by the natural differences in scale for features. In this substep, we perform a standard scaling so that all the features have a mean of 0 and a standard deviation of 1. "
   ]
  },
  {
   "cell_type": "code",
   "execution_count": 4,
   "metadata": {},
   "outputs": [],
   "source": [
    "# Apply feature scaling to the general population demographics data.\n",
    "Sclaer_obj = StandardScaler()\n",
    "azdias2 = pd.DataFrame(Sclaer_obj.fit_transform(azdias_cleaned), columns = azdias_cleaned.columns)"
   ]
  },
  {
   "cell_type": "markdown",
   "metadata": {},
   "source": [
    "<a id = 'Dimen'></a>\n",
    "### 3.2 - Perform Dimensionality Reduction\n",
    "\n",
    "On the scaled data, we are now ready to apply dimensionality reduction techniques. Below is a summary of the upcoming procedure:\n",
    "\n",
    "- Using sklearn's [PCA](http://scikit-learn.org/stable/modules/generated/sklearn.decomposition.PCA.html) class, we apply principal component analysis on the data, thus finding the vectors of maximal variance in the data. To start, we should not set any parameters (so all components are computed).\n",
    "- Checking out the ratio of variance explained by each principal component as well as the cumulative variance explained. In addition, we plot the cumulative values. Based on the findings, we select a value for the number of transformed features to retain for the clustering part.\n",
    "- Finally, we re-fit a PCA instance to perform the decided-on transformation on the selected number of the features."
   ]
  },
  {
   "cell_type": "code",
   "execution_count": 5,
   "metadata": {},
   "outputs": [],
   "source": [
    "# Apply PCA to the whole scaled data.\n",
    "pca, X_pca = do_pca(n_components = azdias_cleaned.shape[1], data = azdias2)"
   ]
  },
  {
   "cell_type": "code",
   "execution_count": 6,
   "metadata": {},
   "outputs": [
    {
     "data": {
      "image/png": "[encoded data removed]",
      "text/plain": [
       "<Figure size 720x432 with 1 Axes>"
      ]
     },
     "metadata": {
      "needs_background": "light"
     },
     "output_type": "display_data"
    }
   ],
   "source": [
    "# Investigate the variance accounted for by each principal component.\n",
    "vals,cumvals = scree_plot(pca)"
   ]
  },
  {
   "cell_type": "markdown",
   "metadata": {},
   "source": [
    "Having completed the PCA analysis using all the features, we should retain specific number of components to facilitate the upcoming clustering as possible. Thus, we need to keep the number of the features which results in explaining specific threshold of the original data's variance.  "
   ]
  },
  {
   "cell_type": "code",
   "execution_count": 7,
   "metadata": {},
   "outputs": [],
   "source": [
    "# Re-apply PCA to the data while selecting for number of components to retain.\n",
    "threshold_PCA_retain = .8\n",
    "comp_to_retain = np.where(cumvals <= threshold_PCA_retain)[0][-1]\n",
    "pca, X_pca = do_pca(n_components = comp_to_retain, data = azdias_cleaned)\n",
    "FinalPCAresults = pca_results(azdias_cleaned, pca)"
   ]
  },
  {
   "cell_type": "code",
   "execution_count": 8,
   "metadata": {},
   "outputs": [
    {
     "data": {
      "text/plain": [
       "(74, 166)"
      ]
     },
     "execution_count": 8,
     "metadata": {},
     "output_type": "execute_result"
    }
   ],
   "source": [
    "FinalPCAresults.shape"
   ]
  },
  {
   "cell_type": "code",
   "execution_count": 66,
   "metadata": {},
   "outputs": [
    {
     "data": {
      "text/html": [
       "<div>\n",
       "<style scoped>\n",
       "    .dataframe tbody tr th:only-of-type {\n",
       "        vertical-align: middle;\n",
       "    }\n",
       "\n",
       "    .dataframe tbody tr th {\n",
       "        vertical-align: top;\n",
       "    }\n",
       "\n",
       "    .dataframe thead th {\n",
       "        text-align: right;\n",
       "    }\n",
       "</style>\n",
       "<table border=\"1\" class=\"dataframe\">\n",
       "  <thead>\n",
       "    <tr style=\"text-align: right;\">\n",
       "      <th></th>\n",
       "      <th>Explained Variance</th>\n",
       "      <th>ALTERSKATEGORIE_GROB</th>\n",
       "      <th>FINANZ_MINIMALIST</th>\n",
       "      <th>FINANZ_SPARER</th>\n",
       "      <th>FINANZ_VORSORGER</th>\n",
       "      <th>FINANZ_ANLEGER</th>\n",
       "      <th>FINANZ_UNAUFFAELLIGER</th>\n",
       "      <th>FINANZ_HAUSBAUER</th>\n",
       "      <th>HEALTH_TYP</th>\n",
       "      <th>RETOURTYP_BK_S</th>\n",
       "      <th>...</th>\n",
       "      <th>x11_9A</th>\n",
       "      <th>x11_9B</th>\n",
       "      <th>x11_9C</th>\n",
       "      <th>x11_9D</th>\n",
       "      <th>x11_9E</th>\n",
       "      <th>x12_O</th>\n",
       "      <th>x12_W</th>\n",
       "      <th>movement</th>\n",
       "      <th>Waelth</th>\n",
       "      <th>LifeStage</th>\n",
       "    </tr>\n",
       "  </thead>\n",
       "  <tbody>\n",
       "    <tr>\n",
       "      <th>Dimension 1</th>\n",
       "      <td>0.0712</td>\n",
       "      <td>-0.2325</td>\n",
       "      <td>-0.2221</td>\n",
       "      <td>0.2446</td>\n",
       "      <td>-0.2117</td>\n",
       "      <td>0.1783</td>\n",
       "      <td>0.1807</td>\n",
       "      <td>0.0740</td>\n",
       "      <td>0.0529</td>\n",
       "      <td>-0.1158</td>\n",
       "      <td>...</td>\n",
       "      <td>0.0358</td>\n",
       "      <td>0.0481</td>\n",
       "      <td>0.0447</td>\n",
       "      <td>0.0408</td>\n",
       "      <td>-0.0076</td>\n",
       "      <td>0.0250</td>\n",
       "      <td>-0.0250</td>\n",
       "      <td>-0.1270</td>\n",
       "      <td>0.1215</td>\n",
       "      <td>-0.1017</td>\n",
       "    </tr>\n",
       "    <tr>\n",
       "      <th>Dimension 2</th>\n",
       "      <td>0.0552</td>\n",
       "      <td>0.1180</td>\n",
       "      <td>-0.1061</td>\n",
       "      <td>-0.0832</td>\n",
       "      <td>0.0999</td>\n",
       "      <td>-0.1043</td>\n",
       "      <td>-0.1324</td>\n",
       "      <td>0.2051</td>\n",
       "      <td>-0.0139</td>\n",
       "      <td>0.1099</td>\n",
       "      <td>...</td>\n",
       "      <td>0.0277</td>\n",
       "      <td>0.0523</td>\n",
       "      <td>0.0536</td>\n",
       "      <td>0.0566</td>\n",
       "      <td>0.0383</td>\n",
       "      <td>0.0574</td>\n",
       "      <td>-0.0574</td>\n",
       "      <td>0.0170</td>\n",
       "      <td>0.2075</td>\n",
       "      <td>-0.0894</td>\n",
       "    </tr>\n",
       "    <tr>\n",
       "      <th>Dimension 3</th>\n",
       "      <td>0.0359</td>\n",
       "      <td>0.0321</td>\n",
       "      <td>0.1176</td>\n",
       "      <td>-0.0666</td>\n",
       "      <td>0.0648</td>\n",
       "      <td>-0.1706</td>\n",
       "      <td>-0.0687</td>\n",
       "      <td>-0.0265</td>\n",
       "      <td>-0.0149</td>\n",
       "      <td>0.1055</td>\n",
       "      <td>...</td>\n",
       "      <td>0.0028</td>\n",
       "      <td>0.0225</td>\n",
       "      <td>0.0365</td>\n",
       "      <td>0.0232</td>\n",
       "      <td>0.0059</td>\n",
       "      <td>0.0109</td>\n",
       "      <td>-0.0109</td>\n",
       "      <td>0.0453</td>\n",
       "      <td>0.0611</td>\n",
       "      <td>-0.0354</td>\n",
       "    </tr>\n",
       "    <tr>\n",
       "      <th>Dimension 4</th>\n",
       "      <td>0.0243</td>\n",
       "      <td>-0.0112</td>\n",
       "      <td>-0.0205</td>\n",
       "      <td>0.0002</td>\n",
       "      <td>0.0235</td>\n",
       "      <td>-0.0803</td>\n",
       "      <td>0.0220</td>\n",
       "      <td>0.0212</td>\n",
       "      <td>-0.0208</td>\n",
       "      <td>0.0142</td>\n",
       "      <td>...</td>\n",
       "      <td>0.0298</td>\n",
       "      <td>0.0073</td>\n",
       "      <td>0.0235</td>\n",
       "      <td>0.0278</td>\n",
       "      <td>0.0093</td>\n",
       "      <td>-0.0596</td>\n",
       "      <td>0.0596</td>\n",
       "      <td>0.0719</td>\n",
       "      <td>0.0192</td>\n",
       "      <td>-0.0189</td>\n",
       "    </tr>\n",
       "    <tr>\n",
       "      <th>Dimension 5</th>\n",
       "      <td>0.0207</td>\n",
       "      <td>0.0376</td>\n",
       "      <td>-0.0021</td>\n",
       "      <td>-0.0042</td>\n",
       "      <td>-0.0102</td>\n",
       "      <td>0.1115</td>\n",
       "      <td>-0.1508</td>\n",
       "      <td>0.0614</td>\n",
       "      <td>-0.0075</td>\n",
       "      <td>-0.0193</td>\n",
       "      <td>...</td>\n",
       "      <td>0.0514</td>\n",
       "      <td>0.0573</td>\n",
       "      <td>0.0104</td>\n",
       "      <td>-0.0071</td>\n",
       "      <td>-0.0088</td>\n",
       "      <td>0.2866</td>\n",
       "      <td>-0.2866</td>\n",
       "      <td>-0.0492</td>\n",
       "      <td>0.1698</td>\n",
       "      <td>-0.0439</td>\n",
       "    </tr>\n",
       "  </tbody>\n",
       "</table>\n",
       "<p>5 rows × 166 columns</p>\n",
       "</div>"
      ],
      "text/plain": [
       "             Explained Variance  ALTERSKATEGORIE_GROB  FINANZ_MINIMALIST  \\\n",
       "Dimension 1              0.0712               -0.2325            -0.2221   \n",
       "Dimension 2              0.0552                0.1180            -0.1061   \n",
       "Dimension 3              0.0359                0.0321             0.1176   \n",
       "Dimension 4              0.0243               -0.0112            -0.0205   \n",
       "Dimension 5              0.0207                0.0376            -0.0021   \n",
       "\n",
       "             FINANZ_SPARER  FINANZ_VORSORGER  FINANZ_ANLEGER  \\\n",
       "Dimension 1         0.2446           -0.2117          0.1783   \n",
       "Dimension 2        -0.0832            0.0999         -0.1043   \n",
       "Dimension 3        -0.0666            0.0648         -0.1706   \n",
       "Dimension 4         0.0002            0.0235         -0.0803   \n",
       "Dimension 5        -0.0042           -0.0102          0.1115   \n",
       "\n",
       "             FINANZ_UNAUFFAELLIGER  FINANZ_HAUSBAUER  HEALTH_TYP  \\\n",
       "Dimension 1                 0.1807            0.0740      0.0529   \n",
       "Dimension 2                -0.1324            0.2051     -0.0139   \n",
       "Dimension 3                -0.0687           -0.0265     -0.0149   \n",
       "Dimension 4                 0.0220            0.0212     -0.0208   \n",
       "Dimension 5                -0.1508            0.0614     -0.0075   \n",
       "\n",
       "             RETOURTYP_BK_S  ...  x11_9A  x11_9B  x11_9C  x11_9D  x11_9E  \\\n",
       "Dimension 1         -0.1158  ...  0.0358  0.0481  0.0447  0.0408 -0.0076   \n",
       "Dimension 2          0.1099  ...  0.0277  0.0523  0.0536  0.0566  0.0383   \n",
       "Dimension 3          0.1055  ...  0.0028  0.0225  0.0365  0.0232  0.0059   \n",
       "Dimension 4          0.0142  ...  0.0298  0.0073  0.0235  0.0278  0.0093   \n",
       "Dimension 5         -0.0193  ...  0.0514  0.0573  0.0104 -0.0071 -0.0088   \n",
       "\n",
       "              x12_O   x12_W  movement  Waelth  LifeStage  \n",
       "Dimension 1  0.0250 -0.0250   -0.1270  0.1215    -0.1017  \n",
       "Dimension 2  0.0574 -0.0574    0.0170  0.2075    -0.0894  \n",
       "Dimension 3  0.0109 -0.0109    0.0453  0.0611    -0.0354  \n",
       "Dimension 4 -0.0596  0.0596    0.0719  0.0192    -0.0189  \n",
       "Dimension 5  0.2866 -0.2866   -0.0492  0.1698    -0.0439  \n",
       "\n",
       "[5 rows x 166 columns]"
      ]
     },
     "execution_count": 66,
     "metadata": {},
     "output_type": "execute_result"
    }
   ],
   "source": [
    "FinalPCAresults.head()"
   ]
  },
  {
   "cell_type": "markdown",
   "metadata": {},
   "source": [
    "Selecting to retain the principal components that explain `80%` of the variance in the dataset lead to have a new data with only `74` columns. "
   ]
  },
  {
   "cell_type": "markdown",
   "metadata": {},
   "source": [
    "<a id = 'Inter'></a>\n",
    "### 3.3 -  Interpret Principal Components\n",
    "\n",
    "Now that we have our transformed principal components, it's a nice idea to check out the weight of each variable on the first few components to see if they can be interpreted in some fashion.\n",
    "\n",
    "To recap in a nutshell, each principal component is a unit vector that points in the direction of the highest variance (after accounting for the variance captured by earlier principal components). The further a weight is from zero, the more the principal component is in the direction of the corresponding feature. If two features have large weights of the same sign (both positive or both negative), then increases in one tend expect to be associated with increases in the other. To contrast, features with different signs can be expected to show a negative correlation: increases in one variable should result in a decrease in the other.\n",
    "\n",
    "- To investigate the features, we should map each weight to their corresponding feature name, then sort the features according to weight. The most interesting features for each principal component, then, will be those at the beginning and end of the sorted list.\n",
    "- We should investigate and interpret feature associations from the first three principal components in this substep. To help facilitate this, we wrote a function `map_weights` to print the sorted list of feature weights, for the *i*-th principal component. This might come in handy in the next step of the project, when you interpret the tendencies of the discovered clusters."
   ]
  },
  {
   "cell_type": "code",
   "execution_count": 9,
   "metadata": {},
   "outputs": [
    {
     "data": {
      "text/plain": [
       "SEMIO_VERT    0.3363\n",
       "SEMIO_FAM     0.2804\n",
       "SEMIO_SOZ     0.2767\n",
       "SEMIO_KULT    0.2662\n",
       "x1_5.0        0.1479\n",
       "               ...  \n",
       "SEMIO_RAT    -0.1733\n",
       "SEMIO_ERL    -0.2122\n",
       "SEMIO_KRIT   -0.2799\n",
       "SEMIO_DOM    -0.3104\n",
       "SEMIO_KAEM   -0.3345\n",
       "Name: Dimension 3, Length: 166, dtype: float64"
      ]
     },
     "execution_count": 9,
     "metadata": {},
     "output_type": "execute_result"
    }
   ],
   "source": [
    "# Map weights for the second principal component to the corresponding feature names\n",
    "# and then print the linked values, sorted by weight.\n",
    "weights2 = map_weights(FinalPCAresults, 2)\n",
    "weights2"
   ]
  },
  {
   "cell_type": "code",
   "execution_count": 10,
   "metadata": {},
   "outputs": [
    {
     "data": {
      "text/plain": [
       "ANZ_PERSONEN    0.2620\n",
       "EWDICHTE        0.2482\n",
       "x4_5.0          0.2367\n",
       "x5_10.0         0.1935\n",
       "x6_5.0          0.1935\n",
       "                 ...  \n",
       "BALLRAUM       -0.1985\n",
       "INNENSTADT     -0.2057\n",
       "x6_4.0         -0.2068\n",
       "x3_1.0         -0.2877\n",
       "x4_1.0         -0.2877\n",
       "Name: Dimension 4, Length: 166, dtype: float64"
      ]
     },
     "execution_count": 10,
     "metadata": {},
     "output_type": "execute_result"
    }
   ],
   "source": [
    "# Map weights for the third principal component to corresponding feature names\n",
    "# and then print the linked values, sorted by weight.\n",
    "weights3 = map_weights(FinalPCAresults, 3)\n",
    "weights3"
   ]
  },
  {
   "cell_type": "markdown",
   "metadata": {},
   "source": [
    "### Discussion 2.3: Interpret Principal Components\n",
    "\n",
    "(Double-click this cell and replace this text with your own text, reporting your observations from detailed investigation of the first few principal components generated. Can we interpret positive and negative values from them in a meaningful way?)"
   ]
  },
  {
   "cell_type": "markdown",
   "metadata": {},
   "source": [
    "<a id = 'Clust'></a>\n",
    "## 4 -  Clustering"
   ]
  },
  {
   "cell_type": "markdown",
   "metadata": {},
   "source": [
    "<a id = 'Gener'></a>\n",
    "### 4.1 - Apply Clustering to General Population\n",
    "\n",
    "Having assessed ,cleaned the demographics data, scaled and transformed them, it's time to see how the data clusters in the principal components space. In this substep, we will apply k-means clustering to the dataset and use the average within-cluster distances from each point to their assigned cluster's centroid to decide on a number of clusters to keep.\n",
    "\n",
    "A summary of the upcoming procedure is given below\n",
    "-  Performing k-means clustering on the PCA-transformed data using sklearn's [KMeans](http://scikit-learn.org/stable/modules/generated/sklearn.cluster.KMeans.html#sklearn.cluster.KMeans).\n",
    "- Computing the average difference from each point to its assigned cluster's center. \n",
    "- Performing the above two steps for a number of different cluster counts so, we can then see how the average distance decreases with an increasing number of clusters. However, each additional cluster provides a smaller net benefit. Using this fact, we select a final number of clusters in which to group the data.\n",
    "- Having selected a final number of clusters to use, we re-fit a KMeans instance to perform the clustering operation."
   ]
  },
  {
   "cell_type": "code",
   "execution_count": 11,
   "metadata": {},
   "outputs": [],
   "source": [
    "centers_1 = np.arange(20,30)\n",
    "scores_1 = []\n",
    "for k in centers_1:\n",
    "    model = KMeans(n_clusters = k)\n",
    "    model.fit(X_pca)\n",
    "    scores_1.append(np.abs(model.score(X_pca)))"
   ]
  },
  {
   "cell_type": "code",
   "execution_count": 12,
   "metadata": {},
   "outputs": [
    {
     "data": {
      "image/png": "[encoded data removed]",
      "text/plain": [
       "<Figure size 432x288 with 1 Axes>"
      ]
     },
     "metadata": {
      "needs_background": "light"
     },
     "output_type": "display_data"
    }
   ],
   "source": [
    "# Investigate the change in within-cluster distance across number of clusters.\n",
    "plt.plot(centers_1, scores_1, linestyle='--', marker='o', color='b');\n",
    "plt.xlabel('K');\n",
    "plt.ylabel('SSE');\n",
    "plt.title('SSE vs. K');"
   ]
  },
  {
   "cell_type": "code",
   "execution_count": 13,
   "metadata": {},
   "outputs": [],
   "source": [
    "# Re-fit the k-means model with the selected number of clusters and obtain\n",
    "# cluster predictions for the general population demographics data.\n",
    "k_best = 25\n",
    "labels,Kmeans_obj = fit_kmeans(X_pca, k_best) #fit kmeans to get the labels"
   ]
  },
  {
   "cell_type": "code",
   "execution_count": 14,
   "metadata": {},
   "outputs": [
    {
     "data": {
      "text/plain": [
       "(700781,)"
      ]
     },
     "execution_count": 14,
     "metadata": {},
     "output_type": "execute_result"
    }
   ],
   "source": [
    "labels.shape"
   ]
  },
  {
   "cell_type": "code",
   "execution_count": 33,
   "metadata": {},
   "outputs": [],
   "source": [
    "(unique_general, counts_general) = np.unique(labels, return_counts=True)\n",
    "general_labels_per = counts_general/labels.shape[0] *100"
   ]
  },
  {
   "cell_type": "markdown",
   "metadata": {},
   "source": [
    "As evident from the figure, selecting `K = 25` provide the point which adding more clusters don't add too much value. Thus, we proceed with total number of `25` clusters. "
   ]
  },
  {
   "cell_type": "markdown",
   "metadata": {},
   "source": [
    "<a id = 'Custo'></a>\n",
    "### 5.2 -  Apply All Steps to the Customer Data\n",
    "\n",
    "Now we have clusters and cluster centers for the general population, it's time to see how the customer data maps on to those clusters. In the last step of the project, we will interpret how the general population fits apply to the customer data.\n",
    "\n",
    "A summary of the upcoming procedure is given below:\n",
    "- Loading the customer data\n",
    "- Applying the same cleansing pipeline done with the general population data\n",
    "- Applying the same feature transformation steps (i.e., scaling and pca) using the objects obtained previosuly. \n",
    "- Finally, clustering the tranformed data using the same clustering object. "
   ]
  },
  {
   "cell_type": "code",
   "execution_count": 17,
   "metadata": {},
   "outputs": [],
   "source": [
    "# Load in the customer demographics data.\n",
    "customers = pd.read_csv('Udacity_CUSTOMERS_Subset.csv', delimiter = ';')"
   ]
  },
  {
   "cell_type": "code",
   "execution_count": 18,
   "metadata": {},
   "outputs": [
    {
     "name": "stdout",
     "output_type": "stream",
     "text": [
      "Data cleansing pipeline...\n",
      "\t1-Replacing missing values per column with Nan...\n",
      "\t\tReplacing done\n",
      "\t2-Removing the outliars columns and rows...\n",
      "\t\tRemoving the outliars columns and rows done\n",
      "\t3-Feature Engineering...\n",
      "\t\tFeature Engineering done\n",
      "\t4-Removing missing values...\n",
      "\t\tRemoving missing values done.\n",
      "Cleaning pipeline done\n"
     ]
    }
   ],
   "source": [
    "# Apply preprocessing, feature transformation, and clustering from the general\n",
    "# demographics onto the customer data, obtaining cluster predictions for the\n",
    "# customer demographics data.\n",
    "customers_cleaned = clean_data(customers,original_feat_info)"
   ]
  },
  {
   "cell_type": "code",
   "execution_count": 50,
   "metadata": {
    "scrolled": false
   },
   "outputs": [],
   "source": [
    "customers_scaled = pd.DataFrame(Sclaer_obj.transform(customers_cleaned), columns = customers_cleaned.columns)"
   ]
  },
  {
   "cell_type": "code",
   "execution_count": 21,
   "metadata": {},
   "outputs": [],
   "source": [
    "customers_transformed = pca.transform(customers_scaled)\n",
    "customers_labels = Kmeans_obj.predict(customers_transformed)"
   ]
  },
  {
   "cell_type": "code",
   "execution_count": 51,
   "metadata": {},
   "outputs": [],
   "source": [
    "(unique, counts) = np.unique(customers_labels, return_counts=True)\n",
    "customers_labels_per = counts/customers_labels.shape[0] *100"
   ]
  },
  {
   "cell_type": "markdown",
   "metadata": {},
   "source": [
    "<a id = 'Compa'></a>\n",
    "### 5.3 - Compare Customer Data to Demographics Data\n",
    "\n",
    "At this point, we have clustered the data based on demographics of the general population of Germany, and seen how the customer data for a mail-order sales company maps onto those demographic clusters. In this final substep, we will compare the two cluster distributions to see where the strongest customer base for the company is.\n",
    "\n",
    "Consider the proportion of persons in each cluster for the general population, and the proportions for the customers. If we think the company's customer base to be universal, then the cluster assignment proportions should be fairly similar between the two. If there are only particular segments of the population that are interested in the company's products, then we should see a mismatch from one to the other. If there is a higher proportion of persons in a cluster for the customer data compared to the general population (e.g. 5% of persons are assigned to a cluster for the general population, but 15% of the customer data is closest to that cluster's centroid) then that suggests the people in that cluster to be a target audience for the company. On the other hand, the proportion of the data in a cluster being larger in the general population than the customer data (e.g. only 2% of customers closest to a population centroid that captures 6% of the data) suggests that group of persons to be outside of the target demographics.\n",
    "\n",
    "Take a look at the following points in this step:\n",
    "\n",
    "- Compute the proportion of data points in each cluster for the general population and the customer data. Visualizations will be useful here: both for the individual dataset proportions, but also to visualize the ratios in cluster representation between groups. Seaborn's [`countplot()`](https://seaborn.pydata.org/generated/seaborn.countplot.html) or [`barplot()`](https://seaborn.pydata.org/generated/seaborn.barplot.html) function could be handy.\n",
    "  - Recall the analysis you performed in step 1.1.3 of the project, where you separated out certain data points from the dataset if they had more than a specified threshold of missing values. If you found that this group was qualitatively different from the main bulk of the data, you should treat this as an additional data cluster in this analysis. Make sure that you account for the number of data points in this subset, for both the general population and customer datasets, when making your computations!\n",
    "- Which cluster or clusters are overrepresented in the customer dataset compared to the general population? Select at least one such cluster and infer what kind of people might be represented by that cluster. Use the principal component interpretations from step 2.3 or look at additional components to help you make this inference. Alternatively, you can use the `.inverse_transform()` method of the PCA and StandardScaler objects to transform centroids back to the original data space and interpret the retrieved values directly.\n",
    "- Perform a similar investigation for the underrepresented clusters. Which cluster or clusters are underrepresented in the customer dataset compared to the general population, and what kinds of people are typified by these clusters?"
   ]
  },
  {
   "cell_type": "code",
   "execution_count": 61,
   "metadata": {},
   "outputs": [
    {
     "data": {
      "image/png": "[encoded data removed]",
      "text/plain": [
       "<Figure size 1080x360 with 2 Axes>"
      ]
     },
     "metadata": {
      "needs_background": "light"
     },
     "output_type": "display_data"
    }
   ],
   "source": [
    "# Compare the proportion of data in each cluster for the customer data to the\n",
    "# proportion of data in each cluster for the general population.\n",
    "fig, ax = plt.subplots(1,2, figsize = ((15,5)));\n",
    "ax[0].set_title('General Population');\n",
    "ax[1].set_title('Customers');\n",
    "ax[0].set_xlabel('Cluster number');\n",
    "ax[1].set_xlabel('Cluster number');\n",
    "sns.countplot(ax = ax[0], x = labels);\n",
    "sns.countplot(ax = ax[1], x = customers_labels);\n",
    "fig.suptitle('Cluster frequency', size = 16);"
   ]
  },
  {
   "cell_type": "code",
   "execution_count": 65,
   "metadata": {},
   "outputs": [
    {
     "data": {
      "image/png": "[encoded data removed]",
      "text/plain": [
       "<Figure size 1080x720 with 1 Axes>"
      ]
     },
     "metadata": {
      "needs_background": "light"
     },
     "output_type": "display_data"
    }
   ],
   "source": [
    "fig2,ax2 = plt.subplots(1,1, figsize = (15,10))\n",
    "ax2.barh(np.arange(general_labels_per.shape[0]), general_labels_per, alpha = .5, label = 'General Population')\n",
    "ax2.barh(np.arange(customers_labels_per.shape[0]), customers_labels_per, alpha = .8, label = 'Customers',\n",
    "        tick_label = np.arange(general_labels_per.shape[0]))\n",
    "ax2.legend();\n",
    "ax2.set_title('Cluster percentage distributions');\n",
    "ax2.grid()\n",
    "#for i, v in enumerate(general_labels_per):\n",
    "#    ax2.text(v + 3, i + .25, str(v), color='blue', fontweight='bold')"
   ]
  },
  {
   "cell_type": "code",
   "execution_count": 34,
   "metadata": {},
   "outputs": [
    {
     "data": {
      "text/plain": [
       "<BarContainer object of 25 artists>"
      ]
     },
     "execution_count": 34,
     "metadata": {},
     "output_type": "execute_result"
    },
    {
     "data": {
      "image/png": "[encoded data removed]",
      "text/plain": [
       "<Figure size 432x288 with 1 Axes>"
      ]
     },
     "metadata": {
      "needs_background": "light"
     },
     "output_type": "display_data"
    }
   ],
   "source": []
  },
  {
   "cell_type": "code",
   "execution_count": null,
   "metadata": {},
   "outputs": [],
   "source": [
    "# What kinds of people are part of a cluster that is overrepresented in the\n",
    "# customer data compared to the general population?\n",
    "\n"
   ]
  },
  {
   "cell_type": "code",
   "execution_count": null,
   "metadata": {},
   "outputs": [],
   "source": [
    "# What kinds of people are part of a cluster that is underrepresented in the\n",
    "# customer data compared to the general population?\n",
    "\n"
   ]
  },
  {
   "cell_type": "markdown",
   "metadata": {},
   "source": [
    "### Discussion 3.3: Compare Customer Data to Demographics Data\n",
    "\n",
    "(Double-click this cell and replace this text with your own text, reporting findings and conclusions from the clustering analysis. Can we describe segments of the population that are relatively popular with the mail-order company, or relatively unpopular with the company?)"
   ]
  },
  {
   "cell_type": "markdown",
   "metadata": {},
   "source": [
    "> Congratulations on making it this far in the project! Before you finish, make sure to check through the entire notebook from top to bottom to make sure that your analysis follows a logical flow and all of your findings are documented in **Discussion** cells. Once you've checked over all of your work, you should export the notebook as an HTML document to submit for evaluation. You can do this from the menu, navigating to **File -> Download as -> HTML (.html)**. You will submit both that document and this notebook for your project submission."
   ]
  },
  {
   "cell_type": "code",
   "execution_count": null,
   "metadata": {},
   "outputs": [],
   "source": []
  }
 ],
 "metadata": {
  "kernelspec": {
   "display_name": "Python 3",
   "language": "python",
   "name": "python3"
  },
  "language_info": {
   "codemirror_mode": {
    "name": "ipython",
    "version": 3
   },
   "file_extension": ".py",
   "mimetype": "text/x-python",
   "name": "python",
   "nbconvert_exporter": "python",
   "pygments_lexer": "ipython3",
   "version": "3.7.9"
  }
 },
 "nbformat": 4,
 "nbformat_minor": 2
}
