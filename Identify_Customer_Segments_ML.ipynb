{
 "cells": [
  {
   "cell_type": "markdown",
   "metadata": {},
   "source": [
    "# <center> Identify Customer Segments- Machine Learning </center>"
   ]
  },
  {
   "cell_type": "markdown",
   "metadata": {},
   "source": [
    "## Table of Contents"
   ]
  },
  {
   "cell_type": "markdown",
   "metadata": {},
   "source": [
    "1. <a href=\"#Intro\">Introduction</a>\n",
    "2. <a href=\"#Prepa\"> Prepare the datasets</a>\n",
    "3. <a href=\"#Trans\">Feature Transformation</a>\n",
    "    * <a href=\"#Scale\"> 3.1 - Apply Feature Scaling </a>\n",
    "    * <a href=\"#Dimen\"> 3.2 - Perform Dimensionality Reduction </a>\n",
    "    * <a href=\"#Inter\"> 3.3 - Interpret Principal Components </a>\n",
    "4. <a href=\"#Clust\">Clustering </a>\n",
    "    * <a href=\"#Gener\"> 4.1 - Apply Clustering to General Population </a>\n",
    "    * <a href=\"#Custo\"> 4.2 - Apply All Steps to the Customer Data </a>\n",
    "    * <a href=\"#Compa\"> 4.3 - Compare Customer Data to Demographics Data </a>\n",
    "5. <a href=\"#Concl\">Conclusion </a>"
   ]
  },
  {
   "cell_type": "markdown",
   "metadata": {},
   "source": [
    "<a id = 'Intro'></a>\n",
    "## 1 - Introduction\n",
    "\n",
    "Based on the [data cleansing](https://github.com/omarkhater/identify-customer-segments/blob/main/Identify_Customer_Segments_Exploration.ipynb)  notebook, we now have a solid understanding of the data under consideration. _In this notebook_, **First of all**, we clean the data using the pipeline developed toward the end of the cleansing notebook. **Then**, we proceed with the _feature transformation_ as well as the _clustering parts_ of this project. **Finally**, _we conclude_ this analysis by applying the whole pipeline( i.e., cleansing and ML) for an another dataset containing the same demographic data about specific customers in a trial of analysing the common patterns associated with the general population. Hopefully, this process will lead to a better understanding of the customer behaviours in shadow of the available data about general population. \n",
    "\n",
    "**P.S. It should be noted that running this whole notebook might take several minutes.** "
   ]
  },
  {
   "cell_type": "code",
   "execution_count": 1,
   "metadata": {},
   "outputs": [],
   "source": [
    "import numpy as np\n",
    "import pandas as pd\n",
    "import matplotlib.pyplot as plt\n",
    "import seaborn as sns\n",
    "%matplotlib inline\n",
    "from sklearn import preprocessing\n",
    "from sklearn.preprocessing import StandardScaler\n",
    "from sklearn.decomposition import PCA\n",
    "from helpers import do_pca, scree_plot, pca_results, map_weights,fit_kmeans, clean_data, color_map\n",
    "from sklearn.cluster import KMeans"
   ]
  },
  {
   "cell_type": "markdown",
   "metadata": {},
   "source": [
    "<a id = 'Prepa'></a>\n",
    "### 2 -  Prepare the datasets\n",
    "\n",
    "The complete data cleaning procedure and detailed justification for each step is given on the [Data Cleansing notebook](http://localhost:8888/notebooks/Identify_Customer_Segments_Exploration.ipynb). To simplify this notebook, we just peform the data cleansing pipeline on general population dataframe. "
   ]
  },
  {
   "cell_type": "code",
   "execution_count": 40,
   "metadata": {},
   "outputs": [
    {
     "name": "stdout",
     "output_type": "stream",
     "text": [
      "Data cleansing pipeline...\n",
      "\t1-Replacing missing values per column with Nan...\n",
      "\t\tReplacing done\n",
      "\t2-Removing the outliars columns and rows...\n",
      "\t\tRemoving the outliars columns and rows done\n",
      "\t3-Feature Engineering...\n",
      "\t\tFeature Engineering done\n",
      "\t4-Removing missing values...\n",
      "\t\tRemoving missing values done.\n",
      "Cleansing pipeline done\n"
     ]
    },
    {
     "data": {
      "text/html": [
       "<div>\n",
       "<style scoped>\n",
       "    .dataframe tbody tr th:only-of-type {\n",
       "        vertical-align: middle;\n",
       "    }\n",
       "\n",
       "    .dataframe tbody tr th {\n",
       "        vertical-align: top;\n",
       "    }\n",
       "\n",
       "    .dataframe thead th {\n",
       "        text-align: right;\n",
       "    }\n",
       "</style>\n",
       "<table border=\"1\" class=\"dataframe\">\n",
       "  <thead>\n",
       "    <tr style=\"text-align: right;\">\n",
       "      <th></th>\n",
       "      <th>ALTERSKATEGORIE_GROB</th>\n",
       "      <th>FINANZ_MINIMALIST</th>\n",
       "      <th>FINANZ_SPARER</th>\n",
       "      <th>FINANZ_VORSORGER</th>\n",
       "      <th>FINANZ_ANLEGER</th>\n",
       "      <th>FINANZ_UNAUFFAELLIGER</th>\n",
       "      <th>FINANZ_HAUSBAUER</th>\n",
       "      <th>HEALTH_TYP</th>\n",
       "      <th>RETOURTYP_BK_S</th>\n",
       "      <th>SEMIO_SOZ</th>\n",
       "      <th>...</th>\n",
       "      <th>CAMEO_DEU_2015_3B</th>\n",
       "      <th>CAMEO_DEU_2015_6F</th>\n",
       "      <th>CAMEO_DEU_2015_5F</th>\n",
       "      <th>CAMEO_DEU_2015_1C</th>\n",
       "      <th>CAMEO_DEU_2015_6A</th>\n",
       "      <th>OST_WEST_KZ_W</th>\n",
       "      <th>OST_WEST_KZ_O</th>\n",
       "      <th>movement</th>\n",
       "      <th>Waelth</th>\n",
       "      <th>LifeStage</th>\n",
       "    </tr>\n",
       "  </thead>\n",
       "  <tbody>\n",
       "    <tr>\n",
       "      <th>0</th>\n",
       "      <td>1.0</td>\n",
       "      <td>1.0</td>\n",
       "      <td>5.0</td>\n",
       "      <td>2.0</td>\n",
       "      <td>5.0</td>\n",
       "      <td>4.0</td>\n",
       "      <td>5.0</td>\n",
       "      <td>3.0</td>\n",
       "      <td>1.0</td>\n",
       "      <td>5.0</td>\n",
       "      <td>...</td>\n",
       "      <td>0.0</td>\n",
       "      <td>0.0</td>\n",
       "      <td>0.0</td>\n",
       "      <td>0.0</td>\n",
       "      <td>0.0</td>\n",
       "      <td>0.0</td>\n",
       "      <td>1.0</td>\n",
       "      <td>0.0</td>\n",
       "      <td>5</td>\n",
       "      <td>1</td>\n",
       "    </tr>\n",
       "    <tr>\n",
       "      <th>1</th>\n",
       "      <td>3.0</td>\n",
       "      <td>1.0</td>\n",
       "      <td>4.0</td>\n",
       "      <td>1.0</td>\n",
       "      <td>2.0</td>\n",
       "      <td>3.0</td>\n",
       "      <td>5.0</td>\n",
       "      <td>3.0</td>\n",
       "      <td>3.0</td>\n",
       "      <td>4.0</td>\n",
       "      <td>...</td>\n",
       "      <td>0.0</td>\n",
       "      <td>0.0</td>\n",
       "      <td>0.0</td>\n",
       "      <td>0.0</td>\n",
       "      <td>0.0</td>\n",
       "      <td>0.0</td>\n",
       "      <td>1.0</td>\n",
       "      <td>1.0</td>\n",
       "      <td>2</td>\n",
       "      <td>4</td>\n",
       "    </tr>\n",
       "    <tr>\n",
       "      <th>2</th>\n",
       "      <td>3.0</td>\n",
       "      <td>4.0</td>\n",
       "      <td>3.0</td>\n",
       "      <td>4.0</td>\n",
       "      <td>1.0</td>\n",
       "      <td>3.0</td>\n",
       "      <td>2.0</td>\n",
       "      <td>3.0</td>\n",
       "      <td>5.0</td>\n",
       "      <td>6.0</td>\n",
       "      <td>...</td>\n",
       "      <td>0.0</td>\n",
       "      <td>0.0</td>\n",
       "      <td>0.0</td>\n",
       "      <td>0.0</td>\n",
       "      <td>0.0</td>\n",
       "      <td>0.0</td>\n",
       "      <td>1.0</td>\n",
       "      <td>0.0</td>\n",
       "      <td>4</td>\n",
       "      <td>3</td>\n",
       "    </tr>\n",
       "    <tr>\n",
       "      <th>3</th>\n",
       "      <td>1.0</td>\n",
       "      <td>3.0</td>\n",
       "      <td>1.0</td>\n",
       "      <td>5.0</td>\n",
       "      <td>2.0</td>\n",
       "      <td>2.0</td>\n",
       "      <td>5.0</td>\n",
       "      <td>3.0</td>\n",
       "      <td>3.0</td>\n",
       "      <td>2.0</td>\n",
       "      <td>...</td>\n",
       "      <td>0.0</td>\n",
       "      <td>0.0</td>\n",
       "      <td>0.0</td>\n",
       "      <td>0.0</td>\n",
       "      <td>0.0</td>\n",
       "      <td>0.0</td>\n",
       "      <td>1.0</td>\n",
       "      <td>1.0</td>\n",
       "      <td>5</td>\n",
       "      <td>4</td>\n",
       "    </tr>\n",
       "    <tr>\n",
       "      <th>4</th>\n",
       "      <td>2.0</td>\n",
       "      <td>1.0</td>\n",
       "      <td>5.0</td>\n",
       "      <td>1.0</td>\n",
       "      <td>5.0</td>\n",
       "      <td>4.0</td>\n",
       "      <td>3.0</td>\n",
       "      <td>2.0</td>\n",
       "      <td>4.0</td>\n",
       "      <td>2.0</td>\n",
       "      <td>...</td>\n",
       "      <td>0.0</td>\n",
       "      <td>0.0</td>\n",
       "      <td>0.0</td>\n",
       "      <td>0.0</td>\n",
       "      <td>0.0</td>\n",
       "      <td>0.0</td>\n",
       "      <td>1.0</td>\n",
       "      <td>0.0</td>\n",
       "      <td>2</td>\n",
       "      <td>2</td>\n",
       "    </tr>\n",
       "  </tbody>\n",
       "</table>\n",
       "<p>5 rows × 165 columns</p>\n",
       "</div>"
      ],
      "text/plain": [
       "   ALTERSKATEGORIE_GROB  FINANZ_MINIMALIST  FINANZ_SPARER  FINANZ_VORSORGER  \\\n",
       "0                   1.0                1.0            5.0               2.0   \n",
       "1                   3.0                1.0            4.0               1.0   \n",
       "2                   3.0                4.0            3.0               4.0   \n",
       "3                   1.0                3.0            1.0               5.0   \n",
       "4                   2.0                1.0            5.0               1.0   \n",
       "\n",
       "   FINANZ_ANLEGER  FINANZ_UNAUFFAELLIGER  FINANZ_HAUSBAUER  HEALTH_TYP  \\\n",
       "0             5.0                    4.0               5.0         3.0   \n",
       "1             2.0                    3.0               5.0         3.0   \n",
       "2             1.0                    3.0               2.0         3.0   \n",
       "3             2.0                    2.0               5.0         3.0   \n",
       "4             5.0                    4.0               3.0         2.0   \n",
       "\n",
       "   RETOURTYP_BK_S  SEMIO_SOZ  ...  CAMEO_DEU_2015_3B  CAMEO_DEU_2015_6F  \\\n",
       "0             1.0        5.0  ...                0.0                0.0   \n",
       "1             3.0        4.0  ...                0.0                0.0   \n",
       "2             5.0        6.0  ...                0.0                0.0   \n",
       "3             3.0        2.0  ...                0.0                0.0   \n",
       "4             4.0        2.0  ...                0.0                0.0   \n",
       "\n",
       "   CAMEO_DEU_2015_5F  CAMEO_DEU_2015_1C  CAMEO_DEU_2015_6A  OST_WEST_KZ_W  \\\n",
       "0                0.0                0.0                0.0            0.0   \n",
       "1                0.0                0.0                0.0            0.0   \n",
       "2                0.0                0.0                0.0            0.0   \n",
       "3                0.0                0.0                0.0            0.0   \n",
       "4                0.0                0.0                0.0            0.0   \n",
       "\n",
       "   OST_WEST_KZ_O  movement  Waelth  LifeStage  \n",
       "0            1.0       0.0       5          1  \n",
       "1            1.0       1.0       2          4  \n",
       "2            1.0       0.0       4          3  \n",
       "3            1.0       1.0       5          4  \n",
       "4            1.0       0.0       2          2  \n",
       "\n",
       "[5 rows x 165 columns]"
      ]
     },
     "execution_count": 40,
     "metadata": {},
     "output_type": "execute_result"
    }
   ],
   "source": [
    "original_azdias = pd.read_csv('Udacity_AZDIAS_Subset.csv', delimiter = ';')\n",
    "\n",
    "# Load in the feature summary file.\n",
    "original_feat_info = pd.read_csv('AZDIAS_Feature_Summary.csv', delimiter = ';')\n",
    "original_feat_info.index = original_feat_info.attribute\n",
    "original_feat_info.drop('attribute', axis = 1, inplace = True)\n",
    "azdias_cleaned, OH_Columns = clean_data(original_azdias, original_feat_info.copy())\n",
    "azdias_cleaned.head()"
   ]
  },
  {
   "cell_type": "markdown",
   "metadata": {},
   "source": [
    "<a id = 'Trans'></a>\n",
    "## 3 - Feature Transformation"
   ]
  },
  {
   "cell_type": "markdown",
   "metadata": {},
   "source": [
    "<a id = 'Scale'></a>\n",
    "### 3.1 -  Apply Feature Scaling\n",
    "\n",
    "Before we apply dimensionality reduction techniques to the data, we need to perform feature scaling so that the principal component vectors are not influenced by the natural differences in scale for features. In this substep, we perform a standard scaling so that all the features have a mean of 0 and a standard deviation of 1. "
   ]
  },
  {
   "cell_type": "code",
   "execution_count": 3,
   "metadata": {},
   "outputs": [],
   "source": [
    "# Apply feature scaling to the general population demographics data.\n",
    "Sclaer_obj = StandardScaler()\n",
    "azdias2 = pd.DataFrame(Sclaer_obj.fit_transform(azdias_cleaned), columns = azdias_cleaned.columns)"
   ]
  },
  {
   "cell_type": "markdown",
   "metadata": {},
   "source": [
    "### Discussion : Apply Feature Scaling"
   ]
  },
  {
   "cell_type": "markdown",
   "metadata": {},
   "source": [
    "We applied standard scaling so that all the features have a mean of 0 and a standard deviation of 1."
   ]
  },
  {
   "cell_type": "markdown",
   "metadata": {},
   "source": [
    "<a id = 'Dimen'></a>\n",
    "### 3.2 - Perform Dimensionality Reduction\n",
    "\n",
    "On the scaled data, we are now ready to apply dimensionality reduction techniques. Below is a summary of the upcoming procedure:\n",
    "\n",
    "- Using sklearn's [PCA](http://scikit-learn.org/stable/modules/generated/sklearn.decomposition.PCA.html) class, we apply principal component analysis on the data, thus finding the vectors of maximal variance in the data. To start, we should not set any parameters (so all components are computed).\n",
    "- Checking out the ratio of variance explained by each principal component as well as the cumulative variance explained. In addition, we plot the cumulative values. Based on the findings, we select a value for the number of transformed features to retain for the clustering part.\n",
    "- Finally, we re-fit a PCA instance to perform the decided-on transformation on the selected number of the features."
   ]
  },
  {
   "cell_type": "code",
   "execution_count": 4,
   "metadata": {},
   "outputs": [],
   "source": [
    "# Apply PCA to the whole scaled data.\n",
    "pca, X_pca = do_pca(n_components = azdias_cleaned.shape[1], data = azdias2)"
   ]
  },
  {
   "cell_type": "code",
   "execution_count": 5,
   "metadata": {},
   "outputs": [
    {
     "data": {
      "image/png": "[encoded data removed]",
      "text/plain": [
       "<Figure size 720x432 with 1 Axes>"
      ]
     },
     "metadata": {
      "needs_background": "light"
     },
     "output_type": "display_data"
    }
   ],
   "source": [
    "# Investigate the variance accounted for by each principal component.\n",
    "vals,cumvals = scree_plot(pca)"
   ]
  },
  {
   "cell_type": "markdown",
   "metadata": {},
   "source": [
    "It is evident from the figure above that all principle components explain closely spaced variance ratios. This indicates the diversity of the data so that no principle component dominates the importance space. "
   ]
  },
  {
   "cell_type": "markdown",
   "metadata": {},
   "source": [
    "Having completed the PCA analysis using all the features, we should retain specific number of components to facilitate the upcoming clustering as possible. Thus, we need to keep the number of the features which results in explaining specific threshold of the original data's variance.  "
   ]
  },
  {
   "cell_type": "code",
   "execution_count": 6,
   "metadata": {},
   "outputs": [],
   "source": [
    "# Re-apply PCA to the data while selecting for number of components to retain.\n",
    "threshold_PCA_retain = .8\n",
    "comp_to_retain = np.where(cumvals <= threshold_PCA_retain)[0][-1]\n",
    "pca, X_pca = do_pca(n_components = comp_to_retain, data = azdias_cleaned)\n",
    "FinalPCAresults = pca_results(azdias_cleaned, pca)"
   ]
  },
  {
   "cell_type": "code",
   "execution_count": 7,
   "metadata": {},
   "outputs": [
    {
     "data": {
      "text/plain": [
       "(74, 166)"
      ]
     },
     "execution_count": 7,
     "metadata": {},
     "output_type": "execute_result"
    }
   ],
   "source": [
    "FinalPCAresults.shape"
   ]
  },
  {
   "cell_type": "code",
   "execution_count": 8,
   "metadata": {
    "scrolled": true
   },
   "outputs": [
    {
     "data": {
      "text/html": [
       "<div>\n",
       "<style scoped>\n",
       "    .dataframe tbody tr th:only-of-type {\n",
       "        vertical-align: middle;\n",
       "    }\n",
       "\n",
       "    .dataframe tbody tr th {\n",
       "        vertical-align: top;\n",
       "    }\n",
       "\n",
       "    .dataframe thead th {\n",
       "        text-align: right;\n",
       "    }\n",
       "</style>\n",
       "<table border=\"1\" class=\"dataframe\">\n",
       "  <thead>\n",
       "    <tr style=\"text-align: right;\">\n",
       "      <th></th>\n",
       "      <th>Explained Variance</th>\n",
       "      <th>ALTERSKATEGORIE_GROB</th>\n",
       "      <th>FINANZ_MINIMALIST</th>\n",
       "      <th>FINANZ_SPARER</th>\n",
       "      <th>FINANZ_VORSORGER</th>\n",
       "      <th>FINANZ_ANLEGER</th>\n",
       "      <th>FINANZ_UNAUFFAELLIGER</th>\n",
       "      <th>FINANZ_HAUSBAUER</th>\n",
       "      <th>HEALTH_TYP</th>\n",
       "      <th>RETOURTYP_BK_S</th>\n",
       "      <th>...</th>\n",
       "      <th>CAMEO_DEU_2015_3B</th>\n",
       "      <th>CAMEO_DEU_2015_6F</th>\n",
       "      <th>CAMEO_DEU_2015_5F</th>\n",
       "      <th>CAMEO_DEU_2015_1C</th>\n",
       "      <th>CAMEO_DEU_2015_6A</th>\n",
       "      <th>OST_WEST_KZ_W</th>\n",
       "      <th>OST_WEST_KZ_O</th>\n",
       "      <th>movement</th>\n",
       "      <th>Waelth</th>\n",
       "      <th>LifeStage</th>\n",
       "    </tr>\n",
       "  </thead>\n",
       "  <tbody>\n",
       "    <tr>\n",
       "      <th>Dimension 1</th>\n",
       "      <td>0.0712</td>\n",
       "      <td>-0.2325</td>\n",
       "      <td>-0.2221</td>\n",
       "      <td>0.2446</td>\n",
       "      <td>-0.2117</td>\n",
       "      <td>0.1783</td>\n",
       "      <td>0.1807</td>\n",
       "      <td>0.0740</td>\n",
       "      <td>0.0529</td>\n",
       "      <td>-0.1158</td>\n",
       "      <td>...</td>\n",
       "      <td>0.0358</td>\n",
       "      <td>0.0481</td>\n",
       "      <td>0.0447</td>\n",
       "      <td>0.0408</td>\n",
       "      <td>-0.0076</td>\n",
       "      <td>0.0250</td>\n",
       "      <td>-0.0250</td>\n",
       "      <td>-0.1270</td>\n",
       "      <td>0.1215</td>\n",
       "      <td>-0.1017</td>\n",
       "    </tr>\n",
       "    <tr>\n",
       "      <th>Dimension 2</th>\n",
       "      <td>0.0552</td>\n",
       "      <td>0.1180</td>\n",
       "      <td>-0.1061</td>\n",
       "      <td>-0.0832</td>\n",
       "      <td>0.0999</td>\n",
       "      <td>-0.1043</td>\n",
       "      <td>-0.1324</td>\n",
       "      <td>0.2051</td>\n",
       "      <td>-0.0139</td>\n",
       "      <td>0.1099</td>\n",
       "      <td>...</td>\n",
       "      <td>0.0277</td>\n",
       "      <td>0.0523</td>\n",
       "      <td>0.0536</td>\n",
       "      <td>0.0566</td>\n",
       "      <td>0.0383</td>\n",
       "      <td>0.0574</td>\n",
       "      <td>-0.0574</td>\n",
       "      <td>0.0170</td>\n",
       "      <td>0.2075</td>\n",
       "      <td>-0.0894</td>\n",
       "    </tr>\n",
       "    <tr>\n",
       "      <th>Dimension 3</th>\n",
       "      <td>0.0359</td>\n",
       "      <td>0.0321</td>\n",
       "      <td>0.1176</td>\n",
       "      <td>-0.0666</td>\n",
       "      <td>0.0648</td>\n",
       "      <td>-0.1706</td>\n",
       "      <td>-0.0687</td>\n",
       "      <td>-0.0265</td>\n",
       "      <td>-0.0149</td>\n",
       "      <td>0.1055</td>\n",
       "      <td>...</td>\n",
       "      <td>0.0028</td>\n",
       "      <td>0.0225</td>\n",
       "      <td>0.0365</td>\n",
       "      <td>0.0232</td>\n",
       "      <td>0.0059</td>\n",
       "      <td>0.0109</td>\n",
       "      <td>-0.0109</td>\n",
       "      <td>0.0453</td>\n",
       "      <td>0.0611</td>\n",
       "      <td>-0.0354</td>\n",
       "    </tr>\n",
       "    <tr>\n",
       "      <th>Dimension 4</th>\n",
       "      <td>0.0243</td>\n",
       "      <td>-0.0112</td>\n",
       "      <td>-0.0206</td>\n",
       "      <td>0.0002</td>\n",
       "      <td>0.0235</td>\n",
       "      <td>-0.0802</td>\n",
       "      <td>0.0220</td>\n",
       "      <td>0.0212</td>\n",
       "      <td>-0.0208</td>\n",
       "      <td>0.0143</td>\n",
       "      <td>...</td>\n",
       "      <td>0.0299</td>\n",
       "      <td>0.0072</td>\n",
       "      <td>0.0235</td>\n",
       "      <td>0.0278</td>\n",
       "      <td>0.0093</td>\n",
       "      <td>-0.0595</td>\n",
       "      <td>0.0595</td>\n",
       "      <td>0.0719</td>\n",
       "      <td>0.0192</td>\n",
       "      <td>-0.0189</td>\n",
       "    </tr>\n",
       "    <tr>\n",
       "      <th>Dimension 5</th>\n",
       "      <td>0.0207</td>\n",
       "      <td>0.0376</td>\n",
       "      <td>-0.0021</td>\n",
       "      <td>-0.0043</td>\n",
       "      <td>-0.0101</td>\n",
       "      <td>0.1114</td>\n",
       "      <td>-0.1508</td>\n",
       "      <td>0.0616</td>\n",
       "      <td>-0.0073</td>\n",
       "      <td>-0.0194</td>\n",
       "      <td>...</td>\n",
       "      <td>0.0516</td>\n",
       "      <td>0.0571</td>\n",
       "      <td>0.0103</td>\n",
       "      <td>-0.0071</td>\n",
       "      <td>-0.0089</td>\n",
       "      <td>0.2867</td>\n",
       "      <td>-0.2867</td>\n",
       "      <td>-0.0490</td>\n",
       "      <td>0.1698</td>\n",
       "      <td>-0.0439</td>\n",
       "    </tr>\n",
       "  </tbody>\n",
       "</table>\n",
       "<p>5 rows × 166 columns</p>\n",
       "</div>"
      ],
      "text/plain": [
       "             Explained Variance  ALTERSKATEGORIE_GROB  FINANZ_MINIMALIST  \\\n",
       "Dimension 1              0.0712               -0.2325            -0.2221   \n",
       "Dimension 2              0.0552                0.1180            -0.1061   \n",
       "Dimension 3              0.0359                0.0321             0.1176   \n",
       "Dimension 4              0.0243               -0.0112            -0.0206   \n",
       "Dimension 5              0.0207                0.0376            -0.0021   \n",
       "\n",
       "             FINANZ_SPARER  FINANZ_VORSORGER  FINANZ_ANLEGER  \\\n",
       "Dimension 1         0.2446           -0.2117          0.1783   \n",
       "Dimension 2        -0.0832            0.0999         -0.1043   \n",
       "Dimension 3        -0.0666            0.0648         -0.1706   \n",
       "Dimension 4         0.0002            0.0235         -0.0802   \n",
       "Dimension 5        -0.0043           -0.0101          0.1114   \n",
       "\n",
       "             FINANZ_UNAUFFAELLIGER  FINANZ_HAUSBAUER  HEALTH_TYP  \\\n",
       "Dimension 1                 0.1807            0.0740      0.0529   \n",
       "Dimension 2                -0.1324            0.2051     -0.0139   \n",
       "Dimension 3                -0.0687           -0.0265     -0.0149   \n",
       "Dimension 4                 0.0220            0.0212     -0.0208   \n",
       "Dimension 5                -0.1508            0.0616     -0.0073   \n",
       "\n",
       "             RETOURTYP_BK_S  ...  CAMEO_DEU_2015_3B  CAMEO_DEU_2015_6F  \\\n",
       "Dimension 1         -0.1158  ...             0.0358             0.0481   \n",
       "Dimension 2          0.1099  ...             0.0277             0.0523   \n",
       "Dimension 3          0.1055  ...             0.0028             0.0225   \n",
       "Dimension 4          0.0143  ...             0.0299             0.0072   \n",
       "Dimension 5         -0.0194  ...             0.0516             0.0571   \n",
       "\n",
       "             CAMEO_DEU_2015_5F  CAMEO_DEU_2015_1C  CAMEO_DEU_2015_6A  \\\n",
       "Dimension 1             0.0447             0.0408            -0.0076   \n",
       "Dimension 2             0.0536             0.0566             0.0383   \n",
       "Dimension 3             0.0365             0.0232             0.0059   \n",
       "Dimension 4             0.0235             0.0278             0.0093   \n",
       "Dimension 5             0.0103            -0.0071            -0.0089   \n",
       "\n",
       "             OST_WEST_KZ_W  OST_WEST_KZ_O  movement  Waelth  LifeStage  \n",
       "Dimension 1         0.0250        -0.0250   -0.1270  0.1215    -0.1017  \n",
       "Dimension 2         0.0574        -0.0574    0.0170  0.2075    -0.0894  \n",
       "Dimension 3         0.0109        -0.0109    0.0453  0.0611    -0.0354  \n",
       "Dimension 4        -0.0595         0.0595    0.0719  0.0192    -0.0189  \n",
       "Dimension 5         0.2867        -0.2867   -0.0490  0.1698    -0.0439  \n",
       "\n",
       "[5 rows x 166 columns]"
      ]
     },
     "execution_count": 8,
     "metadata": {},
     "output_type": "execute_result"
    }
   ],
   "source": [
    "FinalPCAresults.head()"
   ]
  },
  {
   "cell_type": "markdown",
   "metadata": {},
   "source": [
    "### Discussion: Perform Dimensionality Reduction"
   ]
  },
  {
   "cell_type": "markdown",
   "metadata": {},
   "source": [
    "So, selecting to retain the principal components that explain `80%` of the variance in the dataset kept only `74` columns of the cleaned dataset. "
   ]
  },
  {
   "cell_type": "markdown",
   "metadata": {},
   "source": [
    "<a id = 'Inter'></a>\n",
    "### 3.3 -  Interpret Principal Components\n",
    "\n",
    "Now that we have our transformed principal components, it's a nice idea to check out the weight of each variable on the first few components to see if they can be interpreted in some fashion.\n",
    "\n",
    "To recap in a nutshell, each principal component is a unit vector that points in the direction of the highest variance (after accounting for the variance captured by earlier principal components). The further a weight is from zero, the more the principal component is in the direction of the corresponding feature. If two features have large weights of the same sign (both positive or both negative), then increases in one tend expect to be associated with increases in the other. To contrast, features with different signs can be expected to show a negative correlation: increases in one variable should result in a decrease in the other.\n",
    "\n",
    "- To investigate the features, we should map each weight to their corresponding feature name, then sort the features according to weight. The most interesting features for each principal component, then, will be those at the beginning and end of the sorted list.\n",
    "- We should investigate and interpret feature associations from the first three principal components in this substep. To help facilitate this, we wrote a function `map_weights` to print the sorted list of feature weights, for the *i*-th principal component. This might come in handy in the next step of the project, when we interpret the tendencies of the discovered clusters."
   ]
  },
  {
   "cell_type": "code",
   "execution_count": 9,
   "metadata": {
    "scrolled": false
   },
   "outputs": [],
   "source": [
    "# Map weights for the first 3 principal component to the corresponding feature names and then print them \n",
    "weights1 = map_weights(FinalPCAresults, 0)\n",
    "weights2 = map_weights(FinalPCAresults, 1)\n",
    "weights3 = map_weights(FinalPCAresults, 2)\n",
    "d1 = pd.DataFrame(np.array(weights1), index = weights1.index, columns = ['Component 1']).T\n",
    "d2 = pd.DataFrame(np.array(weights2), index = weights2.index, columns = ['Component 2']).T\n",
    "d3 = pd.DataFrame(np.array(weights3), index = weights3.index, columns = ['Component 3']).T"
   ]
  },
  {
   "cell_type": "code",
   "execution_count": 10,
   "metadata": {},
   "outputs": [
    {
     "data": {
      "text/html": [
       "<div>\n",
       "<style scoped>\n",
       "    .dataframe tbody tr th:only-of-type {\n",
       "        vertical-align: middle;\n",
       "    }\n",
       "\n",
       "    .dataframe tbody tr th {\n",
       "        vertical-align: top;\n",
       "    }\n",
       "\n",
       "    .dataframe thead th {\n",
       "        text-align: right;\n",
       "    }\n",
       "</style>\n",
       "<table border=\"1\" class=\"dataframe\">\n",
       "  <thead>\n",
       "    <tr style=\"text-align: right;\">\n",
       "      <th></th>\n",
       "      <th>FINANZ_SPARER</th>\n",
       "      <th>SEMIO_PFLICHT</th>\n",
       "      <th>SEMIO_REL</th>\n",
       "      <th>SEMIO_TRADV</th>\n",
       "      <th>FINANZTYP_1.0</th>\n",
       "      <th>FINANZ_UNAUFFAELLIGER</th>\n",
       "      <th>FINANZ_ANLEGER</th>\n",
       "      <th>SEMIO_RAT</th>\n",
       "      <th>LP_STATUS_FEIN_3.0</th>\n",
       "      <th>LP_STATUS_GROB_1.0</th>\n",
       "      <th>...</th>\n",
       "      <th>LP_STATUS_FEIN_7.0</th>\n",
       "      <th>RETOURTYP_BK_S</th>\n",
       "      <th>FINANZTYP_5.0</th>\n",
       "      <th>movement</th>\n",
       "      <th>ZABEOTYP_1.0</th>\n",
       "      <th>SEMIO_LUST</th>\n",
       "      <th>SEMIO_ERL</th>\n",
       "      <th>FINANZ_VORSORGER</th>\n",
       "      <th>FINANZ_MINIMALIST</th>\n",
       "      <th>ALTERSKATEGORIE_GROB</th>\n",
       "    </tr>\n",
       "  </thead>\n",
       "  <tbody>\n",
       "    <tr>\n",
       "      <th>Component 1</th>\n",
       "      <td>0.2446</td>\n",
       "      <td>0.2091</td>\n",
       "      <td>0.209</td>\n",
       "      <td>0.1984</td>\n",
       "      <td>0.1837</td>\n",
       "      <td>0.1807</td>\n",
       "      <td>0.1783</td>\n",
       "      <td>0.1746</td>\n",
       "      <td>0.1612</td>\n",
       "      <td>0.1537</td>\n",
       "      <td>...</td>\n",
       "      <td>-0.1033</td>\n",
       "      <td>-0.1158</td>\n",
       "      <td>-0.122</td>\n",
       "      <td>-0.127</td>\n",
       "      <td>-0.1397</td>\n",
       "      <td>-0.1615</td>\n",
       "      <td>-0.1665</td>\n",
       "      <td>-0.2117</td>\n",
       "      <td>-0.2221</td>\n",
       "      <td>-0.2325</td>\n",
       "    </tr>\n",
       "  </tbody>\n",
       "</table>\n",
       "<p>1 rows × 166 columns</p>\n",
       "</div>"
      ],
      "text/plain": [
       "             FINANZ_SPARER  SEMIO_PFLICHT  SEMIO_REL  SEMIO_TRADV  \\\n",
       "Component 1         0.2446         0.2091      0.209       0.1984   \n",
       "\n",
       "             FINANZTYP_1.0  FINANZ_UNAUFFAELLIGER  FINANZ_ANLEGER  SEMIO_RAT  \\\n",
       "Component 1         0.1837                 0.1807          0.1783     0.1746   \n",
       "\n",
       "             LP_STATUS_FEIN_3.0  LP_STATUS_GROB_1.0  ...  LP_STATUS_FEIN_7.0  \\\n",
       "Component 1              0.1612              0.1537  ...             -0.1033   \n",
       "\n",
       "             RETOURTYP_BK_S  FINANZTYP_5.0  movement  ZABEOTYP_1.0  \\\n",
       "Component 1         -0.1158         -0.122    -0.127       -0.1397   \n",
       "\n",
       "             SEMIO_LUST  SEMIO_ERL  FINANZ_VORSORGER  FINANZ_MINIMALIST  \\\n",
       "Component 1     -0.1615    -0.1665           -0.2117            -0.2221   \n",
       "\n",
       "             ALTERSKATEGORIE_GROB  \n",
       "Component 1               -0.2325  \n",
       "\n",
       "[1 rows x 166 columns]"
      ]
     },
     "execution_count": 10,
     "metadata": {},
     "output_type": "execute_result"
    }
   ],
   "source": [
    "d1"
   ]
  },
  {
   "cell_type": "code",
   "execution_count": 11,
   "metadata": {},
   "outputs": [
    {
     "data": {
      "text/html": [
       "<div>\n",
       "<style scoped>\n",
       "    .dataframe tbody tr th:only-of-type {\n",
       "        vertical-align: middle;\n",
       "    }\n",
       "\n",
       "    .dataframe tbody tr th {\n",
       "        vertical-align: top;\n",
       "    }\n",
       "\n",
       "    .dataframe thead th {\n",
       "        text-align: right;\n",
       "    }\n",
       "</style>\n",
       "<table border=\"1\" class=\"dataframe\">\n",
       "  <thead>\n",
       "    <tr style=\"text-align: right;\">\n",
       "      <th></th>\n",
       "      <th>Waelth</th>\n",
       "      <th>FINANZ_HAUSBAUER</th>\n",
       "      <th>HH_EINKOMMEN_SCORE</th>\n",
       "      <th>LP_STATUS_FEIN_2.0</th>\n",
       "      <th>LP_STATUS_GROB_1.0</th>\n",
       "      <th>EWDICHTE</th>\n",
       "      <th>ZABEOTYP_1.0</th>\n",
       "      <th>LP_FAMILIE_GROB_3.0</th>\n",
       "      <th>LP_FAMILIE_FEIN_5.0</th>\n",
       "      <th>ARBEIT</th>\n",
       "      <th>...</th>\n",
       "      <th>SEMIO_TRADV</th>\n",
       "      <th>FINANZTYP_2.0</th>\n",
       "      <th>SEMIO_KULT</th>\n",
       "      <th>SEMIO_REL</th>\n",
       "      <th>FINANZ_UNAUFFAELLIGER</th>\n",
       "      <th>INNENSTADT</th>\n",
       "      <th>KONSUMNAEHE</th>\n",
       "      <th>ZABEOTYP_5.0</th>\n",
       "      <th>ANZ_PERSONEN</th>\n",
       "      <th>ONLINE_AFFINITAET</th>\n",
       "    </tr>\n",
       "  </thead>\n",
       "  <tbody>\n",
       "    <tr>\n",
       "      <th>Component 2</th>\n",
       "      <td>0.2075</td>\n",
       "      <td>0.2051</td>\n",
       "      <td>0.2001</td>\n",
       "      <td>0.1846</td>\n",
       "      <td>0.184</td>\n",
       "      <td>0.1654</td>\n",
       "      <td>0.1612</td>\n",
       "      <td>0.1558</td>\n",
       "      <td>0.1558</td>\n",
       "      <td>0.1382</td>\n",
       "      <td>...</td>\n",
       "      <td>-0.1162</td>\n",
       "      <td>-0.1198</td>\n",
       "      <td>-0.1199</td>\n",
       "      <td>-0.1293</td>\n",
       "      <td>-0.1324</td>\n",
       "      <td>-0.1362</td>\n",
       "      <td>-0.1445</td>\n",
       "      <td>-0.1487</td>\n",
       "      <td>-0.1511</td>\n",
       "      <td>-0.1897</td>\n",
       "    </tr>\n",
       "  </tbody>\n",
       "</table>\n",
       "<p>1 rows × 166 columns</p>\n",
       "</div>"
      ],
      "text/plain": [
       "             Waelth  FINANZ_HAUSBAUER  HH_EINKOMMEN_SCORE  LP_STATUS_FEIN_2.0  \\\n",
       "Component 2  0.2075            0.2051              0.2001              0.1846   \n",
       "\n",
       "             LP_STATUS_GROB_1.0  EWDICHTE  ZABEOTYP_1.0  LP_FAMILIE_GROB_3.0  \\\n",
       "Component 2               0.184    0.1654        0.1612               0.1558   \n",
       "\n",
       "             LP_FAMILIE_FEIN_5.0  ARBEIT  ...  SEMIO_TRADV  FINANZTYP_2.0  \\\n",
       "Component 2               0.1558  0.1382  ...      -0.1162        -0.1198   \n",
       "\n",
       "             SEMIO_KULT  SEMIO_REL  FINANZ_UNAUFFAELLIGER  INNENSTADT  \\\n",
       "Component 2     -0.1199    -0.1293                -0.1324     -0.1362   \n",
       "\n",
       "             KONSUMNAEHE  ZABEOTYP_5.0  ANZ_PERSONEN  ONLINE_AFFINITAET  \n",
       "Component 2      -0.1445       -0.1487       -0.1511            -0.1897  \n",
       "\n",
       "[1 rows x 166 columns]"
      ]
     },
     "execution_count": 11,
     "metadata": {},
     "output_type": "execute_result"
    }
   ],
   "source": [
    "d2"
   ]
  },
  {
   "cell_type": "code",
   "execution_count": 12,
   "metadata": {},
   "outputs": [
    {
     "data": {
      "text/html": [
       "<div>\n",
       "<style scoped>\n",
       "    .dataframe tbody tr th:only-of-type {\n",
       "        vertical-align: middle;\n",
       "    }\n",
       "\n",
       "    .dataframe tbody tr th {\n",
       "        vertical-align: top;\n",
       "    }\n",
       "\n",
       "    .dataframe thead th {\n",
       "        text-align: right;\n",
       "    }\n",
       "</style>\n",
       "<table border=\"1\" class=\"dataframe\">\n",
       "  <thead>\n",
       "    <tr style=\"text-align: right;\">\n",
       "      <th></th>\n",
       "      <th>SEMIO_VERT</th>\n",
       "      <th>SEMIO_FAM</th>\n",
       "      <th>SEMIO_SOZ</th>\n",
       "      <th>SEMIO_KULT</th>\n",
       "      <th>FINANZTYP_6.0</th>\n",
       "      <th>SHOPPER_TYP_3.0</th>\n",
       "      <th>SEMIO_REL</th>\n",
       "      <th>FINANZ_MINIMALIST</th>\n",
       "      <th>RETOURTYP_BK_S</th>\n",
       "      <th>ZABEOTYP_5.0</th>\n",
       "      <th>...</th>\n",
       "      <th>LP_STATUS_FEIN_3.0</th>\n",
       "      <th>ZABEOTYP_6.0</th>\n",
       "      <th>FINANZTYP_1.0</th>\n",
       "      <th>SHOPPER_TYP_0.0</th>\n",
       "      <th>FINANZ_ANLEGER</th>\n",
       "      <th>SEMIO_RAT</th>\n",
       "      <th>SEMIO_ERL</th>\n",
       "      <th>SEMIO_KRIT</th>\n",
       "      <th>SEMIO_DOM</th>\n",
       "      <th>SEMIO_KAEM</th>\n",
       "    </tr>\n",
       "  </thead>\n",
       "  <tbody>\n",
       "    <tr>\n",
       "      <th>Component 3</th>\n",
       "      <td>0.3363</td>\n",
       "      <td>0.2804</td>\n",
       "      <td>0.2767</td>\n",
       "      <td>0.2662</td>\n",
       "      <td>0.1479</td>\n",
       "      <td>0.1347</td>\n",
       "      <td>0.1291</td>\n",
       "      <td>0.1176</td>\n",
       "      <td>0.1055</td>\n",
       "      <td>0.0999</td>\n",
       "      <td>...</td>\n",
       "      <td>-0.0797</td>\n",
       "      <td>-0.0797</td>\n",
       "      <td>-0.1053</td>\n",
       "      <td>-0.1094</td>\n",
       "      <td>-0.1706</td>\n",
       "      <td>-0.1733</td>\n",
       "      <td>-0.2122</td>\n",
       "      <td>-0.2799</td>\n",
       "      <td>-0.3103</td>\n",
       "      <td>-0.3346</td>\n",
       "    </tr>\n",
       "  </tbody>\n",
       "</table>\n",
       "<p>1 rows × 166 columns</p>\n",
       "</div>"
      ],
      "text/plain": [
       "             SEMIO_VERT  SEMIO_FAM  SEMIO_SOZ  SEMIO_KULT  FINANZTYP_6.0  \\\n",
       "Component 3      0.3363     0.2804     0.2767      0.2662         0.1479   \n",
       "\n",
       "             SHOPPER_TYP_3.0  SEMIO_REL  FINANZ_MINIMALIST  RETOURTYP_BK_S  \\\n",
       "Component 3           0.1347     0.1291             0.1176          0.1055   \n",
       "\n",
       "             ZABEOTYP_5.0  ...  LP_STATUS_FEIN_3.0  ZABEOTYP_6.0  \\\n",
       "Component 3        0.0999  ...             -0.0797       -0.0797   \n",
       "\n",
       "             FINANZTYP_1.0  SHOPPER_TYP_0.0  FINANZ_ANLEGER  SEMIO_RAT  \\\n",
       "Component 3        -0.1053          -0.1094         -0.1706    -0.1733   \n",
       "\n",
       "             SEMIO_ERL  SEMIO_KRIT  SEMIO_DOM  SEMIO_KAEM  \n",
       "Component 3    -0.2122     -0.2799    -0.3103     -0.3346  \n",
       "\n",
       "[1 rows x 166 columns]"
      ]
     },
     "execution_count": 12,
     "metadata": {},
     "output_type": "execute_result"
    }
   ],
   "source": [
    "d3"
   ]
  },
  {
   "cell_type": "markdown",
   "metadata": {},
   "source": [
    "_In addition_, we wrote a function to visualize the weights' **top important features** using a color map with a _divergent color palette_. This palette is chosen since the weights are,naturally, zero-centered. So, more extreme colors *alawys* mean strong correlation between the feature and the principal component. <u>Furthermore</u>, the color determines the *type* of the correlation whether it a positive or negative. To make the visualization more readable we sorted the values keeping the sign associated with each feature as well as parameterizing number of the components to be displayed.  "
   ]
  },
  {
   "cell_type": "code",
   "execution_count": 13,
   "metadata": {},
   "outputs": [
    {
     "name": "stdout",
     "output_type": "stream",
     "text": [
      "Dimension 1 , Explained Variance = 0.0712\n"
     ]
    },
    {
     "data": {
      "image/png": "[encoded data removed]",
      "text/plain": [
       "<Figure size 1440x144 with 2 Axes>"
      ]
     },
     "metadata": {
      "needs_background": "light"
     },
     "output_type": "display_data"
    },
    {
     "name": "stdout",
     "output_type": "stream",
     "text": [
      "Dimension 2 , Explained Variance = 0.0552\n"
     ]
    },
    {
     "data": {
      "image/png": "[encoded data removed]",
      "text/plain": [
       "<Figure size 1440x144 with 2 Axes>"
      ]
     },
     "metadata": {
      "needs_background": "light"
     },
     "output_type": "display_data"
    },
    {
     "name": "stdout",
     "output_type": "stream",
     "text": [
      "Dimension 3 , Explained Variance = 0.0359\n"
     ]
    },
    {
     "data": {
      "image/png": "[encoded data removed]",
      "text/plain": [
       "<Figure size 1440x144 with 2 Axes>"
      ]
     },
     "metadata": {
      "needs_background": "light"
     },
     "output_type": "display_data"
    }
   ],
   "source": [
    "d1_sorted = color_map(FinalPCAresults, row = 'Dimension 1', num_features = 20)\n",
    "d2_sorted = color_map(FinalPCAresults, row = 'Dimension 2', num_features = 20)\n",
    "d3_sorted = color_map(FinalPCAresults, row = 'Dimension 3', num_features = 20)"
   ]
  },
  {
   "cell_type": "code",
   "execution_count": 14,
   "metadata": {},
   "outputs": [
    {
     "data": {
      "text/plain": [
       "(SEMIO_PFLICHT           person\n",
       " ALTERSKATEGORIE_GROB    person\n",
       " Name: information_level, dtype: object,\n",
       " FINANZ_HAUSBAUER         person\n",
       " ONLINE_AFFINITAET    region_rr1\n",
       " Name: information_level, dtype: object,\n",
       " SEMIO_FAM     person\n",
       " SEMIO_KAEM    person\n",
       " Name: information_level, dtype: object)"
      ]
     },
     "execution_count": 14,
     "metadata": {},
     "output_type": "execute_result"
    }
   ],
   "source": [
    "original_feat_info.loc[d1.iloc[:, [1,-1]].columns,:].information_level, original_feat_info.loc[d2.iloc[:, [1,-1]].columns,:].information_level, original_feat_info.loc[d3.iloc[:, [1,-1]].columns,:].information_level\n",
    "# To do: Add visualization to display percentage of each information level category contribution\n",
    "# to top 20 features for the first 3 components"
   ]
  },
  {
   "cell_type": "markdown",
   "metadata": {},
   "source": [
    "### Discussion: Interpret Principal Components"
   ]
  },
  {
   "cell_type": "markdown",
   "metadata": {},
   "source": [
    "**_As an interesting point_**, 5 out of 6 most important features contributing to first three PCA components (i.e., positive, negative correlations) are from `person-level` features. This observation can further be exteneded to explore the contribution of each level category to top `K` components easily. "
   ]
  },
  {
   "cell_type": "markdown",
   "metadata": {},
   "source": [
    "<a id = 'Clust'></a>\n",
    "## 4 -  Clustering"
   ]
  },
  {
   "cell_type": "markdown",
   "metadata": {},
   "source": [
    "<a id = 'Gener'></a>\n",
    "### 4.1 - Apply Clustering to General Population\n",
    "\n",
    "Having assessed ,cleaned, scaled and transformed the demographics data, it's time to see how the data clusters in the principal components space. In this substep, we will apply k-means clustering to the dataset and use the average within-cluster distances from each point to their assigned cluster's centroid to decide on a number of clusters to keep.\n",
    "\n",
    "A summary of the upcoming procedure is given below\n",
    "-  Performing k-means clustering on the PCA-transformed data using sklearn's [KMeans](http://scikit-learn.org/stable/modules/generated/sklearn.cluster.KMeans.html#sklearn.cluster.KMeans).\n",
    "- Computing the average difference from each point to its assigned cluster's center. \n",
    "- Performing the above two steps for a number of different cluster counts so, we can then see how the average distance decreases with an increasing number of clusters. However, each additional cluster provides a smaller net benefit. Using this fact, we select a final number of clusters in which to group the data.\n",
    "- Having selected a final number of clusters to use, we re-fit a KMeans instance to perform the clustering operation."
   ]
  },
  {
   "cell_type": "code",
   "execution_count": 15,
   "metadata": {},
   "outputs": [
    {
     "name": "stdout",
     "output_type": "stream",
     "text": [
      "k = 10...\n",
      "k = 13...\n",
      "k = 16...\n",
      "k = 19...\n",
      "k = 22...\n",
      "k = 25...\n",
      "k = 28...\n"
     ]
    }
   ],
   "source": [
    "centers_1 = np.arange(10,30,3)\n",
    "scores_1 = []\n",
    "for k in centers_1:\n",
    "    print('k = {}...'.format(k))\n",
    "    model = KMeans(n_clusters = k)\n",
    "    model.fit(X_pca)\n",
    "    scores_1.append(np.abs(model.score(X_pca)))"
   ]
  },
  {
   "cell_type": "code",
   "execution_count": 16,
   "metadata": {},
   "outputs": [
    {
     "data": {
      "image/png": "[encoded data removed]",
      "text/plain": [
       "<Figure size 432x288 with 1 Axes>"
      ]
     },
     "metadata": {
      "needs_background": "light"
     },
     "output_type": "display_data"
    }
   ],
   "source": [
    "# Investigate the change in within-cluster distance across number of clusters.\n",
    "plt.plot(centers_1, scores_1, linestyle='--', marker='o', color='b');\n",
    "plt.xlabel('K');\n",
    "plt.ylabel('SSE');\n",
    "plt.title('SSE vs. K');"
   ]
  },
  {
   "cell_type": "markdown",
   "metadata": {},
   "source": [
    "### Discussion: Apply Clustering to General Population"
   ]
  },
  {
   "cell_type": "markdown",
   "metadata": {},
   "source": [
    "As evident from the figure, selecting `K = 21` provide the point which adding more clusters don't add too much value. Thus, we proceed with total number of `21` clusters. "
   ]
  },
  {
   "cell_type": "code",
   "execution_count": 17,
   "metadata": {},
   "outputs": [],
   "source": [
    "# Re-fit the k-means model with the selected number of clusters and obtain\n",
    "# cluster predictions for the general population demographics data.\n",
    "k_best = 21\n",
    "labels,Kmeans_obj = fit_kmeans(X_pca, k_best) #fit kmeans to get the labels"
   ]
  },
  {
   "cell_type": "code",
   "execution_count": 18,
   "metadata": {},
   "outputs": [],
   "source": [
    "(unique_general, counts_general) = np.unique(labels, return_counts=True)\n",
    "general_labels_per = counts_general/labels.shape[0] *100"
   ]
  },
  {
   "cell_type": "markdown",
   "metadata": {},
   "source": [
    "<a id = 'Custo'></a>\n",
    "### 4.2 -  Apply All Steps to the Customer Data\n",
    "\n",
    "Now we have clusters and cluster centers for the general population, it's time to see how the customer data maps on to those clusters. In the last step of the project, we will interpret how the general population fits apply to the customer data.\n",
    "\n",
    "A summary of the upcoming procedure is given below:\n",
    "- Loading the customer data\n",
    "- Applying the same cleansing pipeline done with the general population data\n",
    "- Applying the same feature transformation steps (i.e., scaling and pca) using the objects obtained previosuly. \n",
    "- Finally, clustering the tranformed data using the same clustering object. "
   ]
  },
  {
   "cell_type": "code",
   "execution_count": 31,
   "metadata": {},
   "outputs": [],
   "source": [
    "# Load in the customer demographics data.\n",
    "customers = pd.read_csv('Udacity_CUSTOMERS_Subset.csv', delimiter = ';')"
   ]
  },
  {
   "cell_type": "code",
   "execution_count": 41,
   "metadata": {},
   "outputs": [
    {
     "name": "stdout",
     "output_type": "stream",
     "text": [
      "Data cleansing pipeline...\n",
      "\t1-Replacing missing values per column with Nan...\n",
      "\t\tReplacing done\n",
      "\t2-Removing the outliars columns and rows...\n",
      "\t\tRemoving the outliars columns and rows done\n",
      "\t3-Feature Engineering...\n",
      "\t\tFeature Engineering done\n",
      "\t4-Removing missing values...\n",
      "\t\tRemoving missing values done.\n",
      "Cleansing pipeline done\n"
     ]
    }
   ],
   "source": [
    "# Apply preprocessing, feature transformation, and clustering from the general\n",
    "# demographics onto the customer data, obtaining cluster predictions for the\n",
    "# customer demographics data.\n",
    "customers_cleaned, _ = clean_data(customers,original_feat_info.copy())"
   ]
  },
  {
   "cell_type": "code",
   "execution_count": 42,
   "metadata": {
    "scrolled": false
   },
   "outputs": [],
   "source": [
    "customers_scaled = pd.DataFrame(Sclaer_obj.transform(customers_cleaned), columns = customers_cleaned.columns)"
   ]
  },
  {
   "cell_type": "code",
   "execution_count": 43,
   "metadata": {},
   "outputs": [],
   "source": [
    "customers_transformed = pca.transform(customers_scaled)\n",
    "customers_labels = Kmeans_obj.predict(customers_transformed)"
   ]
  },
  {
   "cell_type": "code",
   "execution_count": 44,
   "metadata": {},
   "outputs": [],
   "source": [
    "(unique, counts) = np.unique(customers_labels, return_counts=True)\n",
    "customers_labels_per = counts/customers_labels.shape[0] *100"
   ]
  },
  {
   "cell_type": "markdown",
   "metadata": {},
   "source": [
    "<a id = 'Compa'></a>\n",
    "### 4.3 - Compare Customer Data to Demographics Data\n",
    "\n",
    "At this point, we have clustered the data based on demographics of the general population of Germany, and seen how the customer data for a mail-order sales company maps onto those demographic clusters. In this final substep, we will compare the two cluster distributions to see where the strongest customer base for the company is.\n",
    "\n",
    "Consider the proportion of persons in each cluster for the general population, and the proportions for the customers. If we think the company's customer base to be universal, then the cluster assignment proportions should be fairly similar between the two. If there are only particular segments of the population that are interested in the company's products, then we should see a mismatch from one to the other. If there is a higher proportion of persons in a cluster for the customer data compared to the general population (e.g. 5% of persons are assigned to a cluster for the general population, but 15% of the customer data is closest to that cluster's centroid) then that suggests the people in that cluster to be a target audience for the company. On the other hand, the proportion of the data in a cluster being larger in the general population than the customer data (e.g. only 2% of customers closest to a population centroid that captures 6% of the data) suggests that group of persons to be outside of the target demographics.\n",
    "\n",
    "As usual, a summary of the upcoming procedure in this sub-step is provided below:\n",
    "\n",
    "- Computing the proportion of data points in each cluster for the general population and the customer data. \n",
    "- Answers to the questions : Which cluster or clusters are (overrepresented - underrepresented) in the customer dataset compared to the general population? What does it mean in terms of the original features in the given dataset? "
   ]
  },
  {
   "cell_type": "code",
   "execution_count": 45,
   "metadata": {},
   "outputs": [
    {
     "data": {
      "image/png": "[encoded data removed]",
      "text/plain": [
       "<Figure size 1080x360 with 2 Axes>"
      ]
     },
     "metadata": {
      "needs_background": "light"
     },
     "output_type": "display_data"
    }
   ],
   "source": [
    "# Compare the proportion of data in each cluster for the customer data to the\n",
    "# proportion of data in each cluster for the general population.\n",
    "fig, ax = plt.subplots(1,2, figsize = ((15,5)));\n",
    "ax[0].set_title('General Population');\n",
    "ax[1].set_title('Customers');\n",
    "ax[0].set_xlabel('Cluster number');\n",
    "ax[1].set_xlabel('Cluster number');\n",
    "sns.countplot(ax = ax[0], x = labels);\n",
    "sns.countplot(ax = ax[1], x = customers_labels);\n",
    "fig.suptitle('Cluster frequency', size = 16);"
   ]
  },
  {
   "cell_type": "code",
   "execution_count": 46,
   "metadata": {},
   "outputs": [
    {
     "data": {
      "image/png": "[encoded data removed]",
      "text/plain": [
       "<Figure size 1080x720 with 1 Axes>"
      ]
     },
     "metadata": {
      "needs_background": "light"
     },
     "output_type": "display_data"
    }
   ],
   "source": [
    "fig2,ax2 = plt.subplots(1,1, figsize = (15,10))\n",
    "ax2.barh(np.arange(general_labels_per.shape[0]), general_labels_per, alpha = .5, label = 'General Population')\n",
    "ax2.barh(np.arange(customers_labels_per.shape[0]), customers_labels_per, alpha = .8, label = 'Customers',\n",
    "        tick_label = np.arange(general_labels_per.shape[0]))\n",
    "ax2.legend();\n",
    "ax2.set_title('Cluster percentage representation comparison', size = 16);\n",
    "ax2.grid()\n",
    "ax2.set_xlabel('frequency percentage');\n",
    "ax2.set_ylabel('Cluster label');"
   ]
  },
  {
   "cell_type": "code",
   "execution_count": 65,
   "metadata": {
    "scrolled": false
   },
   "outputs": [
    {
     "data": {
      "text/html": [
       "<div>\n",
       "<style scoped>\n",
       "    .dataframe tbody tr th:only-of-type {\n",
       "        vertical-align: middle;\n",
       "    }\n",
       "\n",
       "    .dataframe tbody tr th {\n",
       "        vertical-align: top;\n",
       "    }\n",
       "\n",
       "    .dataframe thead th {\n",
       "        text-align: right;\n",
       "    }\n",
       "</style>\n",
       "<table border=\"1\" class=\"dataframe\">\n",
       "  <thead>\n",
       "    <tr style=\"text-align: right;\">\n",
       "      <th></th>\n",
       "      <th>Value</th>\n",
       "    </tr>\n",
       "  </thead>\n",
       "  <tbody>\n",
       "    <tr>\n",
       "      <th>MIN_GEBAEUDEJAHR</th>\n",
       "      <td>1993.532188</td>\n",
       "    </tr>\n",
       "    <tr>\n",
       "      <th>KBA13_ANZAHL_PKW</th>\n",
       "      <td>635.383646</td>\n",
       "    </tr>\n",
       "    <tr>\n",
       "      <th>WOHNDAUER_2008</th>\n",
       "      <td>8.373084</td>\n",
       "    </tr>\n",
       "    <tr>\n",
       "      <th>INNENSTADT</th>\n",
       "      <td>5.196158</td>\n",
       "    </tr>\n",
       "    <tr>\n",
       "      <th>SEMIO_VERT</th>\n",
       "      <td>4.864035</td>\n",
       "    </tr>\n",
       "  </tbody>\n",
       "</table>\n",
       "</div>"
      ],
      "text/plain": [
       "                        Value\n",
       "MIN_GEBAEUDEJAHR  1993.532188\n",
       "KBA13_ANZAHL_PKW   635.383646\n",
       "WOHNDAUER_2008       8.373084\n",
       "INNENSTADT           5.196158\n",
       "SEMIO_VERT           4.864035"
      ]
     },
     "execution_count": 65,
     "metadata": {},
     "output_type": "execute_result"
    }
   ],
   "source": [
    "# What kinds of people are part of a cluster that is overrepresented in the\n",
    "# customer data compared to the general population?\n",
    "\n",
    "overrep_cluster = Sclaer_obj.inverse_transform(pca.inverse_transform(Kmeans_obj.cluster_centers_[8]))\n",
    "overrep_df = pd.DataFrame(overrep_cluster , index = customers_cleaned.columns, columns = ['Value'])\n",
    "overrep_df.sort_values(by = 'Value', ascending = False).iloc[0:5]"
   ]
  },
  {
   "cell_type": "markdown",
   "metadata": {},
   "source": [
    "### Discussion: Compare Customer Data to Demographics Data"
   ]
  },
  {
   "cell_type": "markdown",
   "metadata": {},
   "source": [
    "Comparing to general population, cluster 8 is underrepresented in customer dataset. For this cluster, it seems that,\n",
    "the features above are the top 5 features represented by this cluster."
   ]
  },
  {
   "cell_type": "code",
   "execution_count": 62,
   "metadata": {},
   "outputs": [
    {
     "data": {
      "text/html": [
       "<div>\n",
       "<style scoped>\n",
       "    .dataframe tbody tr th:only-of-type {\n",
       "        vertical-align: middle;\n",
       "    }\n",
       "\n",
       "    .dataframe tbody tr th {\n",
       "        vertical-align: top;\n",
       "    }\n",
       "\n",
       "    .dataframe thead th {\n",
       "        text-align: right;\n",
       "    }\n",
       "</style>\n",
       "<table border=\"1\" class=\"dataframe\">\n",
       "  <thead>\n",
       "    <tr style=\"text-align: right;\">\n",
       "      <th></th>\n",
       "      <th>Value</th>\n",
       "    </tr>\n",
       "  </thead>\n",
       "  <tbody>\n",
       "    <tr>\n",
       "      <th>MIN_GEBAEUDEJAHR</th>\n",
       "      <td>1995.080234</td>\n",
       "    </tr>\n",
       "    <tr>\n",
       "      <th>KBA13_ANZAHL_PKW</th>\n",
       "      <td>674.267934</td>\n",
       "    </tr>\n",
       "    <tr>\n",
       "      <th>WOHNDAUER_2008</th>\n",
       "      <td>8.452305</td>\n",
       "    </tr>\n",
       "    <tr>\n",
       "      <th>INNENSTADT</th>\n",
       "      <td>5.083698</td>\n",
       "    </tr>\n",
       "    <tr>\n",
       "      <th>ONLINE_AFFINITAET</th>\n",
       "      <td>4.693237</td>\n",
       "    </tr>\n",
       "  </tbody>\n",
       "</table>\n",
       "</div>"
      ],
      "text/plain": [
       "                         Value\n",
       "MIN_GEBAEUDEJAHR   1995.080234\n",
       "KBA13_ANZAHL_PKW    674.267934\n",
       "WOHNDAUER_2008        8.452305\n",
       "INNENSTADT            5.083698\n",
       "ONLINE_AFFINITAET     4.693237"
      ]
     },
     "execution_count": 62,
     "metadata": {},
     "output_type": "execute_result"
    }
   ],
   "source": [
    "# What kinds of people are part of a cluster that is underrepresented in the\n",
    "# customer data compared to the general population?\n",
    "\n",
    "underrep_cluster = Sclaer_obj.inverse_transform(pca.inverse_transform(Kmeans_obj.cluster_centers_[6]))\n",
    "underrep_df = pd.DataFrame(underrep_cluster , index = customers_cleaned.columns, columns = ['Value'])\n",
    "underrep_df.sort_values(by = 'Value', ascending = False).iloc[0:5]"
   ]
  },
  {
   "cell_type": "markdown",
   "metadata": {},
   "source": [
    "Comparing to general population, cluster 6 is underrepresented in customer dataset. For this cluster, it seems that,\n",
    "the features above are the top 5 features represented by this cluster."
   ]
  },
  {
   "cell_type": "markdown",
   "metadata": {},
   "source": [
    "<a id ='Concl'></a>\n",
    "## 5- Conclusion"
   ]
  },
  {
   "cell_type": "markdown",
   "metadata": {},
   "source": [
    "Real-world datasets are so complex that it might need days,months or even years from several analysts working together in order to get the best meaningful results possible. However, in this analysis we aimed to exmplify the complete pipeline involved in typical data scientist's daily life. A lot of details could be further investigated after this limited analysis in order to gain more insights about the customers and hence, more data-driven decisions. "
   ]
  }
 ],
 "metadata": {
  "kernelspec": {
   "display_name": "Python 3",
   "language": "python",
   "name": "python3"
  },
  "language_info": {
   "codemirror_mode": {
    "name": "ipython",
    "version": 3
   },
   "file_extension": ".py",
   "mimetype": "text/x-python",
   "name": "python",
   "nbconvert_exporter": "python",
   "pygments_lexer": "ipython3",
   "version": "3.7.9"
  }
 },
 "nbformat": 4,
 "nbformat_minor": 2
}
