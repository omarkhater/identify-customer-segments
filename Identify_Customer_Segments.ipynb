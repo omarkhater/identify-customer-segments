{
 "cells": [
  {
   "cell_type": "markdown",
   "metadata": {},
   "source": [
    "# <center> Identify Customer Segments- Machine Learning </center>"
   ]
  },
  {
   "cell_type": "markdown",
   "metadata": {},
   "source": [
    "## Table of Contents"
   ]
  },
  {
   "cell_type": "markdown",
   "metadata": {},
   "source": [
    "1. <a href=\"#Intro\">Introduction</a>\n",
    "2. <a href=\"#Trans\">Feature Transformation</a>\n",
    "    * <a href=\"#Scale\"> 2.1 - Apply Feature Scaling </a>\n",
    "    * <a href=\"#Dimen\"> 2.2 - Perform Dimensionality Reduction </a>\n",
    "    * <a href=\"#Inter\"> 2.3 - Interpret Principal Components </a>\n",
    "3. <a href=\"#Clust\">Clustering </a>\n",
    "    * <a href=\"#Gener\"> 3.1 - Apply Clustering to General Population </a>\n",
    "    * <a href=\"#Custo\"> 3.2 - Apply All Steps to the Customer Data </a>\n",
    "    * <a href=\"#Compa\"> 3.3 - Compare Customer Data to Demographics Data </a>"
   ]
  },
  {
   "cell_type": "markdown",
   "metadata": {},
   "source": [
    "<a id = 'Intro'></a>\n",
    "## Introduction\n",
    "\n",
    "Based on the [data cleansing](http://localhost:8888/notebooks/Identify_Customer_Segments_Exploration.ipynb)  notebook, we have a solid understanding of the data under consideration. In this notebook, we load the previously cleaned data then we proceed with the feature transformation as well as the clustering parts of this project. We conclude this analysis by applying the whole pipeline for an another dataset containing the same demographic data about specific customers in a trial of analysing the common patterns associated with the general population. Hopefully, this process will lead to a better understanding of the customer behaviours in shadow of the available data about general population. "
   ]
  },
  {
   "cell_type": "code",
   "execution_count": 1,
   "metadata": {},
   "outputs": [],
   "source": [
    "import numpy as np\n",
    "import pandas as pd\n",
    "import matplotlib.pyplot as plt\n",
    "import seaborn as sns\n",
    "%matplotlib inline\n",
    "from sklearn import preprocessing\n",
    "from sklearn.preprocessing import StandardScaler\n",
    "from sklearn.decomposition import PCA\n",
    "from helpers import do_pca, scree_plot, pca_results, map_weights,fit_kmeans,clean_data\n",
    "from sklearn.cluster import KMeans"
   ]
  },
  {
   "cell_type": "markdown",
   "metadata": {},
   "source": [
    "<a id = 'Clean'></a>\n",
    "### 2 -  Load cleaned dataset\n",
    "\n",
    "The complete data cleaning procedure and detailed justification for each step is given on the [Data Cleansing notebook](http://localhost:8888/notebooks/Identify_Customer_Segments_Exploration.ipynb). For the sake of simplifying this notebook, we just load the resulted dataframe. "
   ]
  },
  {
   "cell_type": "code",
   "execution_count": 2,
   "metadata": {},
   "outputs": [
    {
     "data": {
      "text/html": [
       "<div>\n",
       "<style scoped>\n",
       "    .dataframe tbody tr th:only-of-type {\n",
       "        vertical-align: middle;\n",
       "    }\n",
       "\n",
       "    .dataframe tbody tr th {\n",
       "        vertical-align: top;\n",
       "    }\n",
       "\n",
       "    .dataframe thead th {\n",
       "        text-align: right;\n",
       "    }\n",
       "</style>\n",
       "<table border=\"1\" class=\"dataframe\">\n",
       "  <thead>\n",
       "    <tr style=\"text-align: right;\">\n",
       "      <th></th>\n",
       "      <th>ALTERSKATEGORIE_GROB</th>\n",
       "      <th>FINANZ_MINIMALIST</th>\n",
       "      <th>FINANZ_SPARER</th>\n",
       "      <th>FINANZ_VORSORGER</th>\n",
       "      <th>FINANZ_ANLEGER</th>\n",
       "      <th>FINANZ_UNAUFFAELLIGER</th>\n",
       "      <th>FINANZ_HAUSBAUER</th>\n",
       "      <th>HEALTH_TYP</th>\n",
       "      <th>RETOURTYP_BK_S</th>\n",
       "      <th>SEMIO_SOZ</th>\n",
       "      <th>...</th>\n",
       "      <th>x12_8D</th>\n",
       "      <th>x12_9A</th>\n",
       "      <th>x12_9B</th>\n",
       "      <th>x12_9C</th>\n",
       "      <th>x12_9D</th>\n",
       "      <th>x12_9E</th>\n",
       "      <th>x13_O</th>\n",
       "      <th>x13_W</th>\n",
       "      <th>Waelth</th>\n",
       "      <th>LifeStage</th>\n",
       "    </tr>\n",
       "  </thead>\n",
       "  <tbody>\n",
       "    <tr>\n",
       "      <th>1</th>\n",
       "      <td>1.0</td>\n",
       "      <td>1.0</td>\n",
       "      <td>5.0</td>\n",
       "      <td>2.0</td>\n",
       "      <td>5.0</td>\n",
       "      <td>4.0</td>\n",
       "      <td>5.0</td>\n",
       "      <td>3.0</td>\n",
       "      <td>1.0</td>\n",
       "      <td>5.0</td>\n",
       "      <td>...</td>\n",
       "      <td>0.0</td>\n",
       "      <td>0.0</td>\n",
       "      <td>0.0</td>\n",
       "      <td>0.0</td>\n",
       "      <td>0.0</td>\n",
       "      <td>0.0</td>\n",
       "      <td>0.0</td>\n",
       "      <td>1.0</td>\n",
       "      <td>5.0</td>\n",
       "      <td>1.0</td>\n",
       "    </tr>\n",
       "    <tr>\n",
       "      <th>2</th>\n",
       "      <td>3.0</td>\n",
       "      <td>1.0</td>\n",
       "      <td>4.0</td>\n",
       "      <td>1.0</td>\n",
       "      <td>2.0</td>\n",
       "      <td>3.0</td>\n",
       "      <td>5.0</td>\n",
       "      <td>3.0</td>\n",
       "      <td>3.0</td>\n",
       "      <td>4.0</td>\n",
       "      <td>...</td>\n",
       "      <td>0.0</td>\n",
       "      <td>0.0</td>\n",
       "      <td>0.0</td>\n",
       "      <td>0.0</td>\n",
       "      <td>0.0</td>\n",
       "      <td>0.0</td>\n",
       "      <td>0.0</td>\n",
       "      <td>1.0</td>\n",
       "      <td>2.0</td>\n",
       "      <td>4.0</td>\n",
       "    </tr>\n",
       "    <tr>\n",
       "      <th>4</th>\n",
       "      <td>3.0</td>\n",
       "      <td>4.0</td>\n",
       "      <td>3.0</td>\n",
       "      <td>4.0</td>\n",
       "      <td>1.0</td>\n",
       "      <td>3.0</td>\n",
       "      <td>2.0</td>\n",
       "      <td>3.0</td>\n",
       "      <td>5.0</td>\n",
       "      <td>6.0</td>\n",
       "      <td>...</td>\n",
       "      <td>0.0</td>\n",
       "      <td>0.0</td>\n",
       "      <td>0.0</td>\n",
       "      <td>0.0</td>\n",
       "      <td>0.0</td>\n",
       "      <td>0.0</td>\n",
       "      <td>0.0</td>\n",
       "      <td>1.0</td>\n",
       "      <td>4.0</td>\n",
       "      <td>3.0</td>\n",
       "    </tr>\n",
       "    <tr>\n",
       "      <th>5</th>\n",
       "      <td>1.0</td>\n",
       "      <td>3.0</td>\n",
       "      <td>1.0</td>\n",
       "      <td>5.0</td>\n",
       "      <td>2.0</td>\n",
       "      <td>2.0</td>\n",
       "      <td>5.0</td>\n",
       "      <td>3.0</td>\n",
       "      <td>3.0</td>\n",
       "      <td>2.0</td>\n",
       "      <td>...</td>\n",
       "      <td>0.0</td>\n",
       "      <td>0.0</td>\n",
       "      <td>0.0</td>\n",
       "      <td>0.0</td>\n",
       "      <td>0.0</td>\n",
       "      <td>0.0</td>\n",
       "      <td>0.0</td>\n",
       "      <td>1.0</td>\n",
       "      <td>5.0</td>\n",
       "      <td>4.0</td>\n",
       "    </tr>\n",
       "    <tr>\n",
       "      <th>6</th>\n",
       "      <td>2.0</td>\n",
       "      <td>1.0</td>\n",
       "      <td>5.0</td>\n",
       "      <td>1.0</td>\n",
       "      <td>5.0</td>\n",
       "      <td>4.0</td>\n",
       "      <td>3.0</td>\n",
       "      <td>2.0</td>\n",
       "      <td>4.0</td>\n",
       "      <td>2.0</td>\n",
       "      <td>...</td>\n",
       "      <td>0.0</td>\n",
       "      <td>0.0</td>\n",
       "      <td>0.0</td>\n",
       "      <td>0.0</td>\n",
       "      <td>0.0</td>\n",
       "      <td>0.0</td>\n",
       "      <td>0.0</td>\n",
       "      <td>1.0</td>\n",
       "      <td>2.0</td>\n",
       "      <td>2.0</td>\n",
       "    </tr>\n",
       "  </tbody>\n",
       "</table>\n",
       "<p>5 rows × 187 columns</p>\n",
       "</div>"
      ],
      "text/plain": [
       "   ALTERSKATEGORIE_GROB  FINANZ_MINIMALIST  FINANZ_SPARER  FINANZ_VORSORGER  \\\n",
       "1                   1.0                1.0            5.0               2.0   \n",
       "2                   3.0                1.0            4.0               1.0   \n",
       "4                   3.0                4.0            3.0               4.0   \n",
       "5                   1.0                3.0            1.0               5.0   \n",
       "6                   2.0                1.0            5.0               1.0   \n",
       "\n",
       "   FINANZ_ANLEGER  FINANZ_UNAUFFAELLIGER  FINANZ_HAUSBAUER  HEALTH_TYP  \\\n",
       "1             5.0                    4.0               5.0         3.0   \n",
       "2             2.0                    3.0               5.0         3.0   \n",
       "4             1.0                    3.0               2.0         3.0   \n",
       "5             2.0                    2.0               5.0         3.0   \n",
       "6             5.0                    4.0               3.0         2.0   \n",
       "\n",
       "   RETOURTYP_BK_S  SEMIO_SOZ  ...  x12_8D  x12_9A  x12_9B  x12_9C  x12_9D  \\\n",
       "1             1.0        5.0  ...     0.0     0.0     0.0     0.0     0.0   \n",
       "2             3.0        4.0  ...     0.0     0.0     0.0     0.0     0.0   \n",
       "4             5.0        6.0  ...     0.0     0.0     0.0     0.0     0.0   \n",
       "5             3.0        2.0  ...     0.0     0.0     0.0     0.0     0.0   \n",
       "6             4.0        2.0  ...     0.0     0.0     0.0     0.0     0.0   \n",
       "\n",
       "   x12_9E  x13_O  x13_W  Waelth  LifeStage  \n",
       "1     0.0    0.0    1.0     5.0        1.0  \n",
       "2     0.0    0.0    1.0     2.0        4.0  \n",
       "4     0.0    0.0    1.0     4.0        3.0  \n",
       "5     0.0    0.0    1.0     5.0        4.0  \n",
       "6     0.0    0.0    1.0     2.0        2.0  \n",
       "\n",
       "[5 rows x 187 columns]"
      ]
     },
     "execution_count": 2,
     "metadata": {},
     "output_type": "execute_result"
    }
   ],
   "source": [
    "azdias_cleaned = pd.read_csv('Udacity_AZDIAS_Subset_Cleaned.csv', index_col = 0)\n",
    "azdias_cleaned.head()"
   ]
  },
  {
   "cell_type": "code",
   "execution_count": 3,
   "metadata": {},
   "outputs": [],
   "source": [
    "original_feat_info = pd.read_csv('AZDIAS_Feature_Summary.csv', delimiter = ';')\n",
    "original_feat_info.index = original_feat_info.attribute\n",
    "original_feat_info.drop('attribute', axis = 1, inplace = True)"
   ]
  },
  {
   "cell_type": "markdown",
   "metadata": {},
   "source": [
    "<a id = 'Trans'></a>\n",
    "## 3 - Feature Transformation"
   ]
  },
  {
   "cell_type": "markdown",
   "metadata": {},
   "source": [
    "<a id = 'Scale'></a>\n",
    "### 3.1 -  Apply Feature Scaling\n",
    "\n",
    "Before we apply dimensionality reduction techniques to the data, we need to perform feature scaling so that the principal component vectors are not influenced by the natural differences in scale for features. In this substep, we perform a standard scaling so that all the features have a mean of 0 and a standard deviation of 1. "
   ]
  },
  {
   "cell_type": "code",
   "execution_count": 4,
   "metadata": {},
   "outputs": [],
   "source": [
    "# Apply feature scaling to the general population demographics data.\n",
    "Sclaer_obj = StandardScaler()\n",
    "azdias2 = pd.DataFrame(Sclaer_obj.fit_transform(azdias_cleaned), columns = azdias_cleaned.columns)"
   ]
  },
  {
   "cell_type": "markdown",
   "metadata": {},
   "source": [
    "### Discussion 2.1: Apply Feature Scaling\n",
    "\n",
    "(Double-click this cell and replace this text with your own text, reporting your decisions regarding feature scaling.)"
   ]
  },
  {
   "cell_type": "markdown",
   "metadata": {},
   "source": [
    "<a id = 'Dimen'></a>\n",
    "### 3.2 - Perform Dimensionality Reduction\n",
    "\n",
    "On your scaled data, you are now ready to apply dimensionality reduction techniques.\n",
    "\n",
    "- Use sklearn's [PCA](http://scikit-learn.org/stable/modules/generated/sklearn.decomposition.PCA.html) class to apply principal component analysis on the data, thus finding the vectors of maximal variance in the data. To start, you should not set any parameters (so all components are computed) or set a number of components that is at least half the number of features (so there's enough features to see the general trend in variability).\n",
    "- Check out the ratio of variance explained by each principal component as well as the cumulative variance explained. Try plotting the cumulative or sequential values using matplotlib's [`plot()`](https://matplotlib.org/api/_as_gen/matplotlib.pyplot.plot.html) function. Based on what you find, select a value for the number of transformed features you'll retain for the clustering part of the project.\n",
    "- Once you've made a choice for the number of components to keep, make sure you re-fit a PCA instance to perform the decided-on transformation."
   ]
  },
  {
   "cell_type": "code",
   "execution_count": 5,
   "metadata": {},
   "outputs": [],
   "source": [
    "# Apply PCA to the data.\n",
    "pca, X_pca = do_pca(n_components = azdias_cleaned.shape[1], data = azdias2)"
   ]
  },
  {
   "cell_type": "code",
   "execution_count": 6,
   "metadata": {},
   "outputs": [
    {
     "data": {
      "image/png": "[encoded data removed]",
      "text/plain": [
       "<Figure size 720x432 with 1 Axes>"
      ]
     },
     "metadata": {
      "needs_background": "light"
     },
     "output_type": "display_data"
    }
   ],
   "source": [
    "# Investigate the variance accounted for by each principal component.\n",
    "vals,cumvals = scree_plot(pca)"
   ]
  },
  {
   "cell_type": "markdown",
   "metadata": {},
   "source": [
    "Having completing the PCA analysis with all features used, we should retain specific number of components to facilitate the upcoming clustering as possible. Thus, we need to keep number of the features which results in explaining specific threshold of the original data's variance.  "
   ]
  },
  {
   "cell_type": "code",
   "execution_count": 7,
   "metadata": {},
   "outputs": [],
   "source": [
    "# Re-apply PCA to the data while selecting for number of components to retain.\n",
    "threshold = .8\n",
    "comp_to_retain = np.where(cumvals <= threshold)[0][-1]\n",
    "pca, X_pca = do_pca(n_components = comp_to_retain, data = azdias_cleaned)\n",
    "FinalPCAresults = pca_results(azdias_cleaned, pca)"
   ]
  },
  {
   "cell_type": "code",
   "execution_count": 8,
   "metadata": {},
   "outputs": [
    {
     "data": {
      "text/plain": [
       "(87, 188)"
      ]
     },
     "execution_count": 8,
     "metadata": {},
     "output_type": "execute_result"
    }
   ],
   "source": [
    "FinalPCAresults.shape"
   ]
  },
  {
   "cell_type": "markdown",
   "metadata": {},
   "source": [
    "### Discussion 2.2: Perform Dimensionality Reduction\n",
    "\n",
    "(Double-click this cell and replace this text with your own text, reporting your findings and decisions regarding dimensionality reduction. How many principal components / transformed features are you retaining for the next step of the analysis?)"
   ]
  },
  {
   "cell_type": "markdown",
   "metadata": {},
   "source": [
    "<a id = 'Inter'></a>\n",
    "### 3.3 -  Interpret Principal Components\n",
    "\n",
    "Now that we have our transformed principal components, it's a nice idea to check out the weight of each variable on the first few components to see if they can be interpreted in some fashion.\n",
    "\n",
    "As a reminder, each principal component is a unit vector that points in the direction of highest variance (after accounting for the variance captured by earlier principal components). The further a weight is from zero, the more the principal component is in the direction of the corresponding feature. If two features have large weights of the same sign (both positive or both negative), then increases in one tend expect to be associated with increases in the other. To contrast, features with different signs can be expected to show a negative correlation: increases in one variable should result in a decrease in the other.\n",
    "\n",
    "- To investigate the features, you should map each weight to their corresponding feature name, then sort the features according to weight. The most interesting features for each principal component, then, will be those at the beginning and end of the sorted list. Use the data dictionary document to help you understand these most prominent features, their relationships, and what a positive or negative value on the principal component might indicate.\n",
    "- You should investigate and interpret feature associations from the first three principal components in this substep. To help facilitate this, you should write a function that you can call at any time to print the sorted list of feature weights, for the *i*-th principal component. This might come in handy in the next step of the project, when you interpret the tendencies of the discovered clusters."
   ]
  },
  {
   "cell_type": "code",
   "execution_count": 9,
   "metadata": {},
   "outputs": [
    {
     "data": {
      "text/plain": [
       "x6_1.0     0.3180\n",
       "x4_1.0     0.2467\n",
       "x3_1.0     0.2467\n",
       "x5_1.0     0.2284\n",
       "x11_9      0.1777\n",
       "            ...  \n",
       "x5_9.0    -0.1624\n",
       "x4_5.0    -0.1836\n",
       "x9_1.0    -0.1892\n",
       "x5_10.0   -0.2205\n",
       "x6_5.0    -0.2205\n",
       "Name: Dimension 3, Length: 188, dtype: float64"
      ]
     },
     "execution_count": 9,
     "metadata": {},
     "output_type": "execute_result"
    }
   ],
   "source": [
    "# Map weights for the second principal component to corresponding feature names\n",
    "# and then print the linked values, sorted by weight.\n",
    "weights2 = map_weights(FinalPCAresults, 2)\n",
    "weights2"
   ]
  },
  {
   "cell_type": "code",
   "execution_count": 10,
   "metadata": {},
   "outputs": [
    {
     "data": {
      "text/plain": [
       "SEMIO_VERT           0.3796\n",
       "SEMIO_SOZ            0.2875\n",
       "SEMIO_FAM            0.2736\n",
       "SEMIO_KULT           0.2501\n",
       "FINANZ_MINIMALIST    0.1771\n",
       "                      ...  \n",
       "FINANZ_ANLEGER      -0.2000\n",
       "SEMIO_RAT           -0.2374\n",
       "SEMIO_KRIT          -0.2990\n",
       "SEMIO_DOM           -0.3483\n",
       "SEMIO_KAEM          -0.3696\n",
       "Name: Dimension 4, Length: 188, dtype: float64"
      ]
     },
     "execution_count": 10,
     "metadata": {},
     "output_type": "execute_result"
    }
   ],
   "source": [
    "# Map weights for the third principal component to corresponding feature names\n",
    "# and then print the linked values, sorted by weight.\n",
    "weights3 = map_weights(FinalPCAresults, 3)\n",
    "weights3"
   ]
  },
  {
   "cell_type": "markdown",
   "metadata": {},
   "source": [
    "### Discussion 2.3: Interpret Principal Components\n",
    "\n",
    "(Double-click this cell and replace this text with your own text, reporting your observations from detailed investigation of the first few principal components generated. Can we interpret positive and negative values from them in a meaningful way?)"
   ]
  },
  {
   "cell_type": "markdown",
   "metadata": {},
   "source": [
    "<a id = 'Clust'></a>\n",
    "## 4 -  Clustering"
   ]
  },
  {
   "cell_type": "markdown",
   "metadata": {},
   "source": [
    "<a id = 'Gener'></a>\n",
    "### 4.1 - Apply Clustering to General Population\n",
    "\n",
    "You've assessed and cleaned the demographics data, then scaled and transformed them. Now, it's time to see how the data clusters in the principal components space. In this substep, you will apply k-means clustering to the dataset and use the average within-cluster distances from each point to their assigned cluster's centroid to decide on a number of clusters to keep.\n",
    "\n",
    "- Use sklearn's [KMeans](http://scikit-learn.org/stable/modules/generated/sklearn.cluster.KMeans.html#sklearn.cluster.KMeans) class to perform k-means clustering on the PCA-transformed data.\n",
    "- Then, compute the average difference from each point to its assigned cluster's center. **Hint**: The KMeans object's `.score()` method might be useful here, but note that in sklearn, scores tend to be defined so that larger is better. Try applying it to a small, toy dataset, or use an internet search to help your understanding.\n",
    "- Perform the above two steps for a number of different cluster counts. You can then see how the average distance decreases with an increasing number of clusters. However, each additional cluster provides a smaller net benefit. Use this fact to select a final number of clusters in which to group the data. **Warning**: because of the large size of the dataset, it can take a long time for the algorithm to resolve. The more clusters to fit, the longer the algorithm will take. You should test for cluster counts through at least 10 clusters to get the full picture, but you shouldn't need to test for a number of clusters above about 30.\n",
    "- Once you've selected a final number of clusters to use, re-fit a KMeans instance to perform the clustering operation. Make sure that you also obtain the cluster assignments for the general demographics data, since you'll be using them in the final Step 3.3."
   ]
  },
  {
   "cell_type": "code",
   "execution_count": 11,
   "metadata": {},
   "outputs": [
    {
     "data": {
      "text/plain": [
       "(1000, 87)"
      ]
     },
     "execution_count": 11,
     "metadata": {},
     "output_type": "execute_result"
    }
   ],
   "source": [
    "X_pca[0:1000].shape"
   ]
  },
  {
   "cell_type": "code",
   "execution_count": 12,
   "metadata": {},
   "outputs": [],
   "source": [
    "centers_1 = np.arange(20,30)\n",
    "scores_1 = []\n",
    "for k in centers_1:\n",
    "    model = KMeans(n_clusters = k)\n",
    "    model.fit(X_pca[0:1000])\n",
    "    scores_1.append(np.abs(model.score(X_pca[0:1000])))"
   ]
  },
  {
   "cell_type": "code",
   "execution_count": 13,
   "metadata": {},
   "outputs": [
    {
     "data": {
      "image/png": "[encoded data removed]",
      "text/plain": [
       "<Figure size 432x288 with 1 Axes>"
      ]
     },
     "metadata": {
      "needs_background": "light"
     },
     "output_type": "display_data"
    }
   ],
   "source": [
    "# Investigate the change in within-cluster distance across number of clusters.\n",
    "plt.plot(centers_1, scores_1, linestyle='--', marker='o', color='b');\n",
    "plt.xlabel('K');\n",
    "plt.ylabel('SSE');\n",
    "plt.title('SSE vs. K');"
   ]
  },
  {
   "cell_type": "code",
   "execution_count": 14,
   "metadata": {},
   "outputs": [],
   "source": [
    "# Re-fit the k-means model with the selected number of clusters and obtain\n",
    "# cluster predictions for the general population demographics data.\n",
    "k_best = 25\n",
    "labels,Kmeans_obj = fit_kmeans(X_pca[0:1000], k_best) #fit kmeans to get the labels"
   ]
  },
  {
   "cell_type": "code",
   "execution_count": 15,
   "metadata": {},
   "outputs": [
    {
     "data": {
      "text/plain": [
       "array([ 3, 20,  7,  4, 14, 14, 24,  2,  1,  7, 15,  7, 20, 20,  3,  7, 11,\n",
       "       11, 20, 19, 19, 10, 11, 22, 21, 20,  4,  0, 14, 17, 14,  4, 19, 16,\n",
       "       18, 11,  9, 16, 22,  7,  7, 18, 24,  9,  9,  3, 11,  5, 11, 24, 17,\n",
       "       17,  0, 12, 22, 24, 14, 24,  8, 18,  8, 24, 11,  5, 16, 17, 22, 19,\n",
       "       14, 14, 16, 17, 15, 20, 10, 20,  9, 18, 17, 18, 18,  7, 17,  3,  4,\n",
       "       14, 16,  6,  3,  3,  4,  9,  3,  4,  6,  5, 10, 13, 13, 11,  4, 19,\n",
       "        9,  7, 12, 13, 12, 22,  8, 24,  7, 23,  5, 18,  7,  4,  6, 20, 11,\n",
       "        6, 18, 17, 18,  8, 17,  4, 23,  8, 18, 23, 18, 10,  2, 14,  9, 20,\n",
       "        1, 11,  4, 14, 13, 11, 19, 19,  6, 13, 14,  7,  8, 13,  9,  7,  7,\n",
       "       18, 20, 23,  7,  7, 16, 16, 18,  9,  7,  4,  6, 22,  7, 14, 15, 11,\n",
       "       22, 20,  9,  9,  2, 17,  5,  9,  9,  9,  6, 24, 19, 24, 20,  1, 19,\n",
       "        8, 24, 24,  8,  7,  3,  5,  6, 14,  7, 14,  4, 14,  7, 24,  6, 16,\n",
       "       18,  8, 15, 17, 22,  9,  9, 24, 22, 11,  4,  3, 17,  4,  7, 18,  7,\n",
       "        9, 18,  7, 20,  2,  9, 19,  5,  8, 10,  4, 20, 24, 22, 16, 19, 22,\n",
       "        9,  7, 11,  9, 18, 24, 24,  4,  7, 24,  2, 22,  6,  7, 20, 22, 10,\n",
       "        9,  7, 18, 24, 22, 20,  9, 13, 22, 20, 20,  6, 19, 11,  1, 11, 16,\n",
       "        9, 18,  7, 17, 17,  3, 14,  3,  8,  7, 20, 19, 17,  3, 18, 11,  2,\n",
       "        6, 14,  6, 17, 17, 10, 18, 16,  7,  7,  5,  5, 16, 23, 19,  1, 20,\n",
       "        5, 17,  6,  6, 18,  0,  1,  5, 14, 16,  4,  6, 12, 15, 16,  9, 22,\n",
       "       11, 24,  4, 24, 18, 13, 15,  7,  8, 13, 23, 10,  9, 11, 12, 11,  5,\n",
       "       18, 18, 16,  4, 22, 16,  9, 19, 18, 17, 22,  7, 16, 22,  6, 24, 14,\n",
       "       17, 11,  8, 22,  0, 11, 18,  1, 18,  1, 20,  3, 22, 20,  3,  4,  7,\n",
       "        7,  7,  4, 20, 14,  7,  8, 13,  5, 14, 20,  4, 10,  7,  9, 20, 13,\n",
       "       19, 11,  4, 13, 13, 20,  5,  9, 10, 11, 10,  8,  4,  1, 16, 13, 13,\n",
       "        6,  9,  4,  7,  6, 14,  5,  6, 15, 18,  9,  9,  7,  2, 18,  3, 10,\n",
       "        7, 24,  1, 11, 20,  6, 18, 18,  9,  6, 17,  5, 22,  5, 17,  8, 13,\n",
       "       20, 24, 18, 10,  5,  8, 10, 14,  2, 20, 14, 22, 14,  4, 19, 22,  1,\n",
       "       22,  0,  4, 24, 17,  6,  9,  3,  4, 15, 17, 17, 22,  6,  2,  4, 20,\n",
       "       19, 17,  2, 19, 11, 24,  9, 18,  6, 19,  5,  9, 20,  3,  5, 11,  6,\n",
       "       24, 19, 17, 17,  5,  2, 24, 15, 18, 17,  7,  7, 14,  8,  8, 20,  5,\n",
       "       19, 18,  3, 20,  7, 24,  3, 17,  7, 16,  9, 20,  9,  3, 18,  9,  6,\n",
       "       22, 17, 11, 16, 11,  4,  8, 20,  2,  4, 18,  8,  8, 20, 16,  9, 16,\n",
       "       22, 24, 24,  5, 22, 16,  7, 19, 16, 10, 14,  7, 19, 19, 17,  2,  6,\n",
       "       11, 23,  6,  2, 10,  4, 22, 17, 11,  9, 24,  6,  3,  1,  6,  7, 19,\n",
       "       19, 22,  9, 24,  5, 22, 19,  8,  5,  1,  6, 12,  6,  9, 11, 22,  4,\n",
       "       10, 18,  4, 14,  9, 23,  3, 20,  9, 22,  5,  7,  5,  5,  3, 19,  8,\n",
       "        8,  5, 19,  5, 20,  9,  5, 18,  9,  3, 11, 16, 14, 11,  9, 18,  5,\n",
       "       13, 20, 22,  6, 24, 14, 24, 13,  2, 12, 18,  4,  6,  4,  9,  2,  2,\n",
       "        6,  9,  5,  2, 20, 22,  4, 22, 20,  4, 18, 19,  6,  3,  2,  6,  1,\n",
       "       17, 23, 10, 22, 14, 24, 18, 13,  7, 11,  7, 22, 20,  6, 15,  6,  4,\n",
       "        5,  4, 13,  2, 20, 10, 17, 10, 17, 11,  7,  0, 19,  2, 11,  3, 14,\n",
       "        2, 22, 17, 12, 19,  4,  4, 18,  6,  9,  7, 19, 23, 19,  6,  5, 24,\n",
       "        6, 20, 10, 17, 10, 10, 17,  6,  4, 17, 11,  6,  9, 17, 12, 17,  6,\n",
       "        6,  6, 10,  3,  4,  8,  5, 19,  1,  1,  4, 17, 22, 24, 17,  4,  4,\n",
       "       13, 24, 17,  7,  9, 19, 10, 20, 16,  7,  6,  4, 10,  7,  6,  0,  7,\n",
       "       10,  2,  5,  5, 13, 22, 22, 24, 22, 17, 17, 14,  8, 20, 17,  8, 17,\n",
       "       17, 17, 20,  3, 11, 17,  9,  2,  6, 24,  6,  8, 22, 16, 11,  7, 20,\n",
       "        4, 17,  6,  6, 18,  8,  6,  9, 17, 13, 18,  9,  2,  9,  0,  2,  9,\n",
       "        7,  8,  4,  6, 19, 11, 19, 13,  6, 19,  9,  4,  8,  5,  1, 10,  9,\n",
       "        7,  9, 15, 12,  5, 17,  9,  2, 11,  5, 14,  3,  5, 20,  3, 10,  6,\n",
       "       24, 24,  6, 18, 11, 10,  8,  6,  5,  8,  5,  9, 14,  0, 19, 13, 19,\n",
       "       20, 20, 13,  4, 16, 17,  9,  7, 23,  8, 14,  3, 20,  3,  2, 22,  2,\n",
       "        1,  2,  7,  4,  6, 18, 24, 18, 17, 18, 14, 18,  7,  2,  9, 10,  7,\n",
       "       17, 19,  5, 13, 11,  4,  7, 22, 11,  9,  3, 22, 13, 13,  4, 17,  2,\n",
       "        5,  9,  6,  9, 10,  4,  5, 19, 24, 17, 19, 22,  4, 22,  6,  7,  8,\n",
       "       16, 19, 22, 13,  9, 11,  2, 13,  5,  4,  7, 22, 24, 17,  7,  9,  7,\n",
       "       19,  6,  1, 24,  0, 12, 24,  9,  5,  9,  9, 19, 24, 19,  5,  2,  5,\n",
       "       13,  4, 11,  7,  6, 16, 18,  7,  6, 20,  4, 17,  5,  8,  5,  5, 10,\n",
       "        6,  9, 19, 17, 20, 10, 12, 10, 20, 24, 19, 20,  4, 11])"
      ]
     },
     "execution_count": 15,
     "metadata": {},
     "output_type": "execute_result"
    }
   ],
   "source": [
    "labels"
   ]
  },
  {
   "cell_type": "code",
   "execution_count": 16,
   "metadata": {},
   "outputs": [
    {
     "data": {
      "image/png": "[encoded data removed]",
      "text/plain": [
       "<Figure size 432x288 with 1 Axes>"
      ]
     },
     "metadata": {
      "needs_background": "light"
     },
     "output_type": "display_data"
    }
   ],
   "source": [
    "# Plot the original data with clusters\n",
    "plt.scatter(azdias2['ALTERSKATEGORIE_GROB'].iloc[0:1000], azdias2['FINANZ_ANLEGER'].iloc[0:1000], c=labels, cmap='Set1');"
   ]
  },
  {
   "cell_type": "markdown",
   "metadata": {},
   "source": [
    "### Discussion 3.1: Apply Clustering to General Population\n",
    "\n",
    "(Double-click this cell and replace this text with your own text, reporting your findings and decisions regarding clustering. Into how many clusters have you decided to segment the population?)"
   ]
  },
  {
   "cell_type": "markdown",
   "metadata": {},
   "source": [
    "<a id = 'Custo'></a>\n",
    "### 5.2 -  Apply All Steps to the Customer Data\n",
    "\n",
    "Now that you have clusters and cluster centers for the general population, it's time to see how the customer data maps on to those clusters. Take care to not confuse this for re-fitting all of the models to the customer data. Instead, you're going to use the fits from the general population to clean, transform, and cluster the customer data. In the last step of the project, you will interpret how the general population fits apply to the customer data.\n",
    "\n",
    "- Don't forget when loading in the customers data, that it is semicolon (`;`) delimited.\n",
    "- Apply the same feature wrangling, selection, and engineering steps to the customer demographics using the `clean_data()` function you created earlier. (You can assume that the customer demographics data has similar meaning behind missing data patterns as the general demographics data.)\n",
    "- Use the sklearn objects from the general demographics data, and apply their transformations to the customers data. That is, you should not be using a `.fit()` or `.fit_transform()` method to re-fit the old objects, nor should you be creating new sklearn objects! Carry the data through the feature scaling, PCA, and clustering steps, obtaining cluster assignments for all of the data in the customer demographics data."
   ]
  },
  {
   "cell_type": "code",
   "execution_count": 17,
   "metadata": {},
   "outputs": [],
   "source": [
    "# Load in the customer demographics data.\n",
    "customers = pd.read_csv('Udacity_CUSTOMERS_Subset.csv', delimiter = ';')"
   ]
  },
  {
   "cell_type": "code",
   "execution_count": 18,
   "metadata": {},
   "outputs": [
    {
     "data": {
      "text/plain": [
       "0           W\n",
       "1         NaN\n",
       "2           W\n",
       "3           W\n",
       "4           W\n",
       "         ... \n",
       "191647      W\n",
       "191648      W\n",
       "191649      W\n",
       "191650      W\n",
       "191651      W\n",
       "Name: OST_WEST_KZ, Length: 191652, dtype: object"
      ]
     },
     "execution_count": 18,
     "metadata": {},
     "output_type": "execute_result"
    }
   ],
   "source": [
    "customers.OST_WEST_KZ"
   ]
  },
  {
   "cell_type": "code",
   "execution_count": 19,
   "metadata": {},
   "outputs": [
    {
     "name": "stdout",
     "output_type": "stream",
     "text": [
      "Data cleansing pipeline...\n",
      "\t1-Replacing missing values per column with Nan...\n",
      "\t\tReplacing done\n",
      "\t2-Removing the outliars columns and rows...\n",
      "\t\tRemoving the outliars columns and rows done\n",
      "\t3-Feature Engineering...\n"
     ]
    },
    {
     "ename": "AttributeError",
     "evalue": "'DataFrame' object has no attribute 'OST_WEST_KZ'",
     "output_type": "error",
     "traceback": [
      "\u001b[1;31m---------------------------------------------------------------------------\u001b[0m",
      "\u001b[1;31mAttributeError\u001b[0m                            Traceback (most recent call last)",
      "\u001b[1;32m<ipython-input-19-69b63454011b>\u001b[0m in \u001b[0;36m<module>\u001b[1;34m\u001b[0m\n\u001b[0;32m      2\u001b[0m \u001b[1;31m# demographics onto the customer data, obtaining cluster predictions for the\u001b[0m\u001b[1;33m\u001b[0m\u001b[1;33m\u001b[0m\u001b[1;33m\u001b[0m\u001b[0m\n\u001b[0;32m      3\u001b[0m \u001b[1;31m# customer demographics data.\u001b[0m\u001b[1;33m\u001b[0m\u001b[1;33m\u001b[0m\u001b[1;33m\u001b[0m\u001b[0m\n\u001b[1;32m----> 4\u001b[1;33m \u001b[0mcustomers_cleaned\u001b[0m \u001b[1;33m=\u001b[0m \u001b[0mclean_data\u001b[0m\u001b[1;33m(\u001b[0m\u001b[0mcustomers\u001b[0m\u001b[1;33m,\u001b[0m\u001b[0moriginal_feat_info\u001b[0m\u001b[1;33m)\u001b[0m\u001b[1;33m\u001b[0m\u001b[1;33m\u001b[0m\u001b[0m\n\u001b[0m\u001b[0;32m      5\u001b[0m \u001b[0mcustomers_scaled\u001b[0m \u001b[1;33m=\u001b[0m \u001b[0mpd\u001b[0m\u001b[1;33m.\u001b[0m\u001b[0mDataFrame\u001b[0m\u001b[1;33m(\u001b[0m\u001b[0mSclaer_obj\u001b[0m\u001b[1;33m.\u001b[0m\u001b[0mtransform\u001b[0m\u001b[1;33m(\u001b[0m\u001b[0mcustomers_cleaned\u001b[0m\u001b[1;33m)\u001b[0m\u001b[1;33m,\u001b[0m \u001b[0mcolumns\u001b[0m \u001b[1;33m=\u001b[0m \u001b[0mcustomers_cleaned\u001b[0m\u001b[1;33m.\u001b[0m\u001b[0mcolumns\u001b[0m\u001b[1;33m)\u001b[0m\u001b[1;33m\u001b[0m\u001b[1;33m\u001b[0m\u001b[0m\n",
      "\u001b[1;32mD:\\ML\\courses\\MachineLearningWithTF\\codes\\projects\\identify-customer-segments\\helpers.py\u001b[0m in \u001b[0;36mclean_data\u001b[1;34m(df, feat_info)\u001b[0m\n\u001b[0;32m    191\u001b[0m     \u001b[0mbin_cat\u001b[0m \u001b[1;33m=\u001b[0m \u001b[1;33m[\u001b[0m\u001b[0mi\u001b[0m \u001b[1;32mfor\u001b[0m \u001b[0mi\u001b[0m \u001b[1;32min\u001b[0m \u001b[0mcat_var\u001b[0m\u001b[1;33m.\u001b[0m\u001b[0mcolumns\u001b[0m \u001b[1;32mif\u001b[0m \u001b[0mcat_var\u001b[0m\u001b[1;33m[\u001b[0m\u001b[0mi\u001b[0m\u001b[1;33m]\u001b[0m\u001b[1;33m.\u001b[0m\u001b[0mnunique\u001b[0m\u001b[1;33m(\u001b[0m\u001b[1;33m)\u001b[0m \u001b[1;33m==\u001b[0m \u001b[1;36m2\u001b[0m\u001b[1;33m]\u001b[0m\u001b[1;33m\u001b[0m\u001b[1;33m\u001b[0m\u001b[0m\n\u001b[0;32m    192\u001b[0m     \u001b[0mMulti_cat\u001b[0m \u001b[1;33m=\u001b[0m \u001b[1;33m[\u001b[0m\u001b[0mi\u001b[0m \u001b[1;32mfor\u001b[0m \u001b[0mi\u001b[0m \u001b[1;32min\u001b[0m \u001b[0mcat_var\u001b[0m\u001b[1;33m.\u001b[0m\u001b[0mcolumns\u001b[0m \u001b[1;32mif\u001b[0m \u001b[0mcat_var\u001b[0m\u001b[1;33m[\u001b[0m\u001b[0mi\u001b[0m\u001b[1;33m]\u001b[0m\u001b[1;33m.\u001b[0m\u001b[0mnunique\u001b[0m\u001b[1;33m(\u001b[0m\u001b[1;33m)\u001b[0m \u001b[1;33m>\u001b[0m \u001b[1;36m2\u001b[0m\u001b[1;33m]\u001b[0m\u001b[1;33m\u001b[0m\u001b[1;33m\u001b[0m\u001b[0m\n\u001b[1;32m--> 193\u001b[1;33m     \u001b[0mTo_OH\u001b[0m \u001b[1;33m=\u001b[0m \u001b[0mpd\u001b[0m\u001b[1;33m.\u001b[0m\u001b[0mconcat\u001b[0m\u001b[1;33m(\u001b[0m\u001b[1;33m[\u001b[0m\u001b[0mdf\u001b[0m\u001b[1;33m.\u001b[0m\u001b[0mloc\u001b[0m\u001b[1;33m[\u001b[0m\u001b[1;33m:\u001b[0m\u001b[1;33m,\u001b[0m \u001b[0mMulti_cat\u001b[0m\u001b[1;33m]\u001b[0m\u001b[1;33m,\u001b[0m \u001b[0mdf\u001b[0m\u001b[1;33m.\u001b[0m\u001b[0mloc\u001b[0m\u001b[1;33m[\u001b[0m\u001b[1;33m:\u001b[0m\u001b[1;33m,\u001b[0m \u001b[0mbin_cat\u001b[0m\u001b[1;33m]\u001b[0m\u001b[1;33m.\u001b[0m\u001b[0mOST_WEST_KZ\u001b[0m\u001b[1;33m]\u001b[0m\u001b[1;33m,\u001b[0m \u001b[0maxis\u001b[0m \u001b[1;33m=\u001b[0m \u001b[1;36m1\u001b[0m\u001b[1;33m)\u001b[0m\u001b[1;33m\u001b[0m\u001b[1;33m\u001b[0m\u001b[0m\n\u001b[0m\u001b[0;32m    194\u001b[0m \u001b[1;33m\u001b[0m\u001b[0m\n\u001b[0;32m    195\u001b[0m     \u001b[1;31m# 3.2- Re-encode categorical variable(s) to be kept in the analysis.\u001b[0m\u001b[1;33m\u001b[0m\u001b[1;33m\u001b[0m\u001b[1;33m\u001b[0m\u001b[0m\n",
      "\u001b[1;32mC:\\ProgramData\\Anaconda3\\lib\\site-packages\\pandas\\core\\generic.py\u001b[0m in \u001b[0;36m__getattr__\u001b[1;34m(self, name)\u001b[0m\n\u001b[0;32m   5137\u001b[0m             \u001b[1;32mif\u001b[0m \u001b[0mself\u001b[0m\u001b[1;33m.\u001b[0m\u001b[0m_info_axis\u001b[0m\u001b[1;33m.\u001b[0m\u001b[0m_can_hold_identifiers_and_holds_name\u001b[0m\u001b[1;33m(\u001b[0m\u001b[0mname\u001b[0m\u001b[1;33m)\u001b[0m\u001b[1;33m:\u001b[0m\u001b[1;33m\u001b[0m\u001b[1;33m\u001b[0m\u001b[0m\n\u001b[0;32m   5138\u001b[0m                 \u001b[1;32mreturn\u001b[0m \u001b[0mself\u001b[0m\u001b[1;33m[\u001b[0m\u001b[0mname\u001b[0m\u001b[1;33m]\u001b[0m\u001b[1;33m\u001b[0m\u001b[1;33m\u001b[0m\u001b[0m\n\u001b[1;32m-> 5139\u001b[1;33m             \u001b[1;32mreturn\u001b[0m \u001b[0mobject\u001b[0m\u001b[1;33m.\u001b[0m\u001b[0m__getattribute__\u001b[0m\u001b[1;33m(\u001b[0m\u001b[0mself\u001b[0m\u001b[1;33m,\u001b[0m \u001b[0mname\u001b[0m\u001b[1;33m)\u001b[0m\u001b[1;33m\u001b[0m\u001b[1;33m\u001b[0m\u001b[0m\n\u001b[0m\u001b[0;32m   5140\u001b[0m \u001b[1;33m\u001b[0m\u001b[0m\n\u001b[0;32m   5141\u001b[0m     \u001b[1;32mdef\u001b[0m \u001b[0m__setattr__\u001b[0m\u001b[1;33m(\u001b[0m\u001b[0mself\u001b[0m\u001b[1;33m,\u001b[0m \u001b[0mname\u001b[0m\u001b[1;33m:\u001b[0m \u001b[0mstr\u001b[0m\u001b[1;33m,\u001b[0m \u001b[0mvalue\u001b[0m\u001b[1;33m)\u001b[0m \u001b[1;33m->\u001b[0m \u001b[1;32mNone\u001b[0m\u001b[1;33m:\u001b[0m\u001b[1;33m\u001b[0m\u001b[1;33m\u001b[0m\u001b[0m\n",
      "\u001b[1;31mAttributeError\u001b[0m: 'DataFrame' object has no attribute 'OST_WEST_KZ'"
     ]
    }
   ],
   "source": [
    "# Apply preprocessing, feature transformation, and clustering from the general\n",
    "# demographics onto the customer data, obtaining cluster predictions for the\n",
    "# customer demographics data.\n",
    "customers_cleaned = clean_data(customers,original_feat_info)\n",
    "customers_scaled = pd.DataFrame(Sclaer_obj.transform(customers_cleaned), columns = customers_cleaned.columns)"
   ]
  },
  {
   "cell_type": "code",
   "execution_count": null,
   "metadata": {},
   "outputs": [],
   "source": [
    "customers_scaled"
   ]
  },
  {
   "cell_type": "code",
   "execution_count": null,
   "metadata": {},
   "outputs": [],
   "source": [
    "customers_transformed = pca.transform(customers_scaled)\n",
    "customers_labels = Kmeans_obj.transform(customers_transformed)"
   ]
  },
  {
   "cell_type": "markdown",
   "metadata": {},
   "source": [
    "<a id = 'Compa'></a>\n",
    "### 5.3 - Compare Customer Data to Demographics Data\n",
    "\n",
    "At this point, you have clustered data based on demographics of the general population of Germany, and seen how the customer data for a mail-order sales company maps onto those demographic clusters. In this final substep, you will compare the two cluster distributions to see where the strongest customer base for the company is.\n",
    "\n",
    "Consider the proportion of persons in each cluster for the general population, and the proportions for the customers. If we think the company's customer base to be universal, then the cluster assignment proportions should be fairly similar between the two. If there are only particular segments of the population that are interested in the company's products, then we should see a mismatch from one to the other. If there is a higher proportion of persons in a cluster for the customer data compared to the general population (e.g. 5% of persons are assigned to a cluster for the general population, but 15% of the customer data is closest to that cluster's centroid) then that suggests the people in that cluster to be a target audience for the company. On the other hand, the proportion of the data in a cluster being larger in the general population than the customer data (e.g. only 2% of customers closest to a population centroid that captures 6% of the data) suggests that group of persons to be outside of the target demographics.\n",
    "\n",
    "Take a look at the following points in this step:\n",
    "\n",
    "- Compute the proportion of data points in each cluster for the general population and the customer data. Visualizations will be useful here: both for the individual dataset proportions, but also to visualize the ratios in cluster representation between groups. Seaborn's [`countplot()`](https://seaborn.pydata.org/generated/seaborn.countplot.html) or [`barplot()`](https://seaborn.pydata.org/generated/seaborn.barplot.html) function could be handy.\n",
    "  - Recall the analysis you performed in step 1.1.3 of the project, where you separated out certain data points from the dataset if they had more than a specified threshold of missing values. If you found that this group was qualitatively different from the main bulk of the data, you should treat this as an additional data cluster in this analysis. Make sure that you account for the number of data points in this subset, for both the general population and customer datasets, when making your computations!\n",
    "- Which cluster or clusters are overrepresented in the customer dataset compared to the general population? Select at least one such cluster and infer what kind of people might be represented by that cluster. Use the principal component interpretations from step 2.3 or look at additional components to help you make this inference. Alternatively, you can use the `.inverse_transform()` method of the PCA and StandardScaler objects to transform centroids back to the original data space and interpret the retrieved values directly.\n",
    "- Perform a similar investigation for the underrepresented clusters. Which cluster or clusters are underrepresented in the customer dataset compared to the general population, and what kinds of people are typified by these clusters?"
   ]
  },
  {
   "cell_type": "code",
   "execution_count": null,
   "metadata": {},
   "outputs": [],
   "source": [
    "# Compare the proportion of data in each cluster for the customer data to the\n",
    "# proportion of data in each cluster for the general population.\n",
    "\n"
   ]
  },
  {
   "cell_type": "code",
   "execution_count": null,
   "metadata": {},
   "outputs": [],
   "source": [
    "# What kinds of people are part of a cluster that is overrepresented in the\n",
    "# customer data compared to the general population?\n",
    "\n"
   ]
  },
  {
   "cell_type": "code",
   "execution_count": null,
   "metadata": {},
   "outputs": [],
   "source": [
    "# What kinds of people are part of a cluster that is underrepresented in the\n",
    "# customer data compared to the general population?\n",
    "\n"
   ]
  },
  {
   "cell_type": "markdown",
   "metadata": {},
   "source": [
    "### Discussion 3.3: Compare Customer Data to Demographics Data\n",
    "\n",
    "(Double-click this cell and replace this text with your own text, reporting findings and conclusions from the clustering analysis. Can we describe segments of the population that are relatively popular with the mail-order company, or relatively unpopular with the company?)"
   ]
  },
  {
   "cell_type": "markdown",
   "metadata": {},
   "source": [
    "> Congratulations on making it this far in the project! Before you finish, make sure to check through the entire notebook from top to bottom to make sure that your analysis follows a logical flow and all of your findings are documented in **Discussion** cells. Once you've checked over all of your work, you should export the notebook as an HTML document to submit for evaluation. You can do this from the menu, navigating to **File -> Download as -> HTML (.html)**. You will submit both that document and this notebook for your project submission."
   ]
  },
  {
   "cell_type": "code",
   "execution_count": null,
   "metadata": {},
   "outputs": [],
   "source": []
  }
 ],
 "metadata": {
  "kernelspec": {
   "display_name": "Python 3",
   "language": "python",
   "name": "python3"
  },
  "language_info": {
   "codemirror_mode": {
    "name": "ipython",
    "version": 3
   },
   "file_extension": ".py",
   "mimetype": "text/x-python",
   "name": "python",
   "nbconvert_exporter": "python",
   "pygments_lexer": "ipython3",
   "version": "3.7.9"
  }
 },
 "nbformat": 4,
 "nbformat_minor": 2
}
